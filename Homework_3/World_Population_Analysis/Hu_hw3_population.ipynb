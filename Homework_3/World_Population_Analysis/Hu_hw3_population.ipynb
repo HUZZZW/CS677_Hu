{
 "cells": [
  {
   "cell_type": "markdown",
   "metadata": {},
   "source": [
    "Question #1. load the dataset csv file as a dataframe using Pandas\n"
   ]
  },
  {
   "cell_type": "code",
   "execution_count": 202,
   "metadata": {},
   "outputs": [],
   "source": [
    "import pandas as pd\n",
    "import matplotlib.pyplot as plt\n",
    "import numpy as np\n",
    "import matplotlib\n",
    "df = pd.read_csv(\"./world_population.csv\")\n"
   ]
  },
  {
   "cell_type": "markdown",
   "metadata": {},
   "source": [
    "Question#2. compute annual rate of population growth over 50 years from 1970 to 2020. Express the result as percentage rounded to 2 decimal points. What 5 countries had the highest an- nual growth and which had the lowest annual growth?"
   ]
  },
  {
   "cell_type": "code",
   "execution_count": 203,
   "metadata": {},
   "outputs": [
    {
     "name": "stdout",
     "output_type": "stream",
     "text": [
      "234\n",
      "               Country  Q1_aws\n",
      "0          Afghanistan  262.43\n",
      "1              Albania   23.32\n",
      "2              Algeria  214.96\n",
      "3       American Samoa   70.60\n",
      "4              Andorra  291.24\n",
      "..                 ...     ...\n",
      "229  Wallis and Futuna   24.29\n",
      "230     Western Sahara  628.09\n",
      "231              Yemen  371.74\n",
      "232             Zambia  342.06\n",
      "233           Zimbabwe  201.17\n",
      "\n",
      "[234 rows x 2 columns]\n"
     ]
    }
   ],
   "source": [
    "#print(df)\n",
    "from pickle import APPEND\n",
    "\n",
    "\n",
    "annual_pop_rate={}\n",
    "annual_pop_rate_avg={}\n",
    "population_rate_arr=annual_pop_rate_avg_arr=[]\n",
    "country=df['Country'].unique()\n",
    "print(len(country))\n",
    "#print(country)\n",
    "for i in country:\n",
    "    temp_d=((df.loc[(df[\"Country\"]==i),:][\"2020 Population\"].sum()-df.loc[(df[\"Country\"]==i),:][\"1970 Population\"].sum())/df.loc[(df[\"Country\"]==i),:][\"1970 Population\"].sum())\n",
    "    annual_pop_rate[i]=round((temp_d*100),2)\n",
    "    population_rate_arr.append(round((temp_d*100),2))\n",
    "    annual_pop_rate_avg[i]=round(((temp_d*100)/50),2)\n",
    "    #annual_pop_rate_avg_arr.append(round(((temp_d*100)/50),2))\n",
    "df_hw3_aws=pd.DataFrame(columns=[\"Country\"],data=(country))\n",
    "df_hw3_aws[\"Q1_aws\"]=population_rate_arr\n",
    "print(df_hw3_aws)\n",
    "\n"
   ]
  },
  {
   "cell_type": "markdown",
   "metadata": {},
   "source": [
    "Question# 3. compute annual rate of population growth over 10 years from 2010 to 2020. Express the result as percentage rounded to 2 decimal points. What 5 countries had the highest an- nual growth and which had the lowest annual growth? Are the countries the same as in the previous question.\n"
   ]
  },
  {
   "cell_type": "code",
   "execution_count": 204,
   "metadata": {},
   "outputs": [
    {
     "name": "stdout",
     "output_type": "stream",
     "text": [
      "highest annual rate of population growth over 10 years from 2010 to 2020 is Qatar value is 1.22\n",
      "lowest annual rate of population growth over 10 years from 2010 to 2020 is Marshall Islands value is -0.37\n"
     ]
    }
   ],
   "source": [
    "pop_rise_rate_2020_2010={}\n",
    "for i in country:\n",
    "    temp_d=((df.loc[(df[\"Country\"]==i),:][\"2020 Population\"].sum()-df.loc[(df[\"Country\"]==i),:][\"2010 Population\"].sum())/df.loc[(df[\"Country\"]==i),:][\"2010 Population\"].sum())\n",
    "    pop_rise_rate_2020_2010[i]=round(((temp_d*100)/50),2)\n",
    "q3_max=\"\"\n",
    "q3_max_value=0\n",
    "for key,value in pop_rise_rate_2020_2010.items():\n",
    "    if(value == max(pop_rise_rate_2020_2010.values())):\n",
    "        q3_max=key\n",
    "        q3_max_value=value\n",
    "q3_min=\"\"\n",
    "q3_min_value=0\n",
    "for key,value in pop_rise_rate_2020_2010.items():\n",
    "    if(value == min(pop_rise_rate_2020_2010.values())):\n",
    "        q3_min=key\n",
    "        q3_min_value=value\n",
    "print(\"highest annual rate of population growth over 10 years from 2010 to 2020 is\",q3_max,'value is',q3_max_value)\n",
    "print(\"lowest annual rate of population growth over 10 years from 2010 to 2020 is\",q3_min,\"value is\",q3_min_value)\n"
   ]
  },
  {
   "cell_type": "markdown",
   "metadata": {},
   "source": [
    "Question#4. for 2020 what are the 5 countries with the highest and what are the 5 countries with the lowest population?"
   ]
  },
  {
   "cell_type": "code",
   "execution_count": 205,
   "metadata": {},
   "outputs": [
    {
     "name": "stdout",
     "output_type": "stream",
     "text": [
      "5 countries with highest population are {'Pakistan': 227196741, 'Indonesia': 271857970, 'United States': 335942003, 'India': 1396387127, 'China': 1424929781}\n",
      "5 countries with lowest population are {'Vatican City': 520, 'Tokelau': 1827, 'Niue': 1942, 'Falkland Islands': 3747, 'Montserrat': 4500}\n"
     ]
    }
   ],
   "source": [
    "q4_max_5={}\n",
    "q4_min_5={}\n",
    "\n",
    "q4_min=df[\"2020 Population\"].sort_values()[0:5].values\n",
    "q4_max=df[\"2020 Population\"].sort_values()[-5:].values\n",
    "#print(q4_min,\"\\n\",q4_max)\n",
    "for i in q4_max:\n",
    "    #print(type(str(df.loc[(df[\"2020 Population\"]==i),:][\"Country\"].values)))\n",
    "    q4_max_5[str(df.loc[(df[\"2020 Population\"]==i),:][\"Country\"].values)[2:-2]]=i\n",
    "print(\"5 countries with highest population are\",q4_max_5)\n",
    "for i in q4_min:\n",
    "    q4_min_5[str(df.loc[(df[\"2020 Population\"]==i),:][\"Country\"].values)[2:-2]]=i\n",
    "print(\"5 countries with lowest population are\",q4_min_5)\n",
    "\n"
   ]
  },
  {
   "cell_type": "markdown",
   "metadata": {},
   "source": [
    "Question#5. for 1970 what are the 5 countries with the highest and what are the 5 countries with the lowest population? Which countries remained in 2022?"
   ]
  },
  {
   "cell_type": "code",
   "execution_count": 206,
   "metadata": {},
   "outputs": [
    {
     "name": "stdout",
     "output_type": "stream",
     "text": [
      "highest 5 countries remained in 2022 are ['Indonesia', 'United States', 'India', 'China']\n",
      "lowest 5 countries remained in 2022 are ['Vatican City', 'Tokelau', 'Falkland Islands', 'Niue']\n"
     ]
    }
   ],
   "source": [
    "q5_max_5={}\n",
    "q5_max_5_arr=[]\n",
    "q5_min_5={}\n",
    "q5_min_5_arr=[]\n",
    "q5_min=df[\"1970 Population\"].sort_values()[0:5].values\n",
    "q5_max=df[\"1970 Population\"].sort_values()[-5:].values\n",
    "for i in q5_max:\n",
    "    q5_max_5[str(df.loc[(df[\"1970 Population\"]==i),:][\"Country\"].values)[2:-2]]=i\n",
    "for i in q5_min:\n",
    "    q5_min_5[str(df.loc[(df[\"1970 Population\"]==i),:][\"Country\"].values)[2:-2]]=i\n",
    "for key,value in q5_max_5.items():\n",
    "    if key in q4_max_5.keys():\n",
    "        #print(key)\n",
    "        q5_max_5_arr.append(key)\n",
    "for key,value in q5_min_5.items():\n",
    "    if key in q4_min_5.keys():\n",
    "        q5_min_5_arr.append(key)\n",
    "        #print(key)\n",
    "\n",
    "print(\"highest 5 countries remained in 2022 are\",q5_max_5_arr)\n",
    "print(\"lowest 5 countries remained in 2022 are\",q5_min_5_arr)"
   ]
  },
  {
   "cell_type": "markdown",
   "metadata": {},
   "source": [
    "Question#6. for 2020, compute the mean μ and the quartiles Q1 (25%), Q2 (50% or median M), and Q3 (75%).\n"
   ]
  },
  {
   "cell_type": "code",
   "execution_count": 207,
   "metadata": {},
   "outputs": [
    {
     "name": "stdout",
     "output_type": "stream",
     "text": [
      "for 2020, the median or Q2 is  5493074.5\n",
      "for 2020, the mean is  33501070.952991452\n",
      "for 2020, the Q1 is  415284.5\n",
      "for 2020, the Q3 is 21447979.5\n"
     ]
    }
   ],
   "source": [
    "print(\"for 2020, the median or Q2 is \",df[\"2020 Population\"].iloc[:].median())\n",
    "print(\"for 2020, the mean is \",df[\"2020 Population\"].iloc[:].mean())\n",
    "print(\"for 2020, the Q1 is \",df[\"2020 Population\"].quantile(0.25))\n",
    "print(\"for 2020, the Q3 is\",df[\"2020 Population\"].quantile(0.75))"
   ]
  },
  {
   "cell_type": "markdown",
   "metadata": {},
   "source": [
    "Question#7. find 3 countries ”around” Q1, M, Q3 and μ"
   ]
  },
  {
   "cell_type": "code",
   "execution_count": 208,
   "metadata": {},
   "outputs": [
    {
     "name": "stdout",
     "output_type": "stream",
     "text": [
      "for 2020, the nearest country of Q1 Bahamas value is 406471\n",
      "for 2020, the nearest country of Q2 or median is Slovakia value is 5456681\n",
      "for 2020, the nearest country of Q3 or median is Burkina Faso value is 21522626\n",
      "for 2020, the nearest country of means is  Uzbekistan value is 33501070.952991452\n"
     ]
    }
   ],
   "source": [
    "#print(\"for 2020, the nearest country of Q1 is \",df[\"2020 Population\"].quantile(0.25,interpolation=\"nearest\"))\n",
    "print(\"for 2020, the nearest country of Q1\",str(df.loc[(df[\"2020 Population\"]==df[\"2020 Population\"].quantile(0.25,interpolation=\"nearest\")),:][\"Country\"].values)[2:-2],'value is',df[\"2020 Population\"].quantile(0.25,interpolation=\"nearest\"))\n",
    "#print(\"for 2020, the nearest country of Q2 or median is \",df[\"2020 Population\"].quantile(interpolation=\"nearest\"))\n",
    "print(\"for 2020, the nearest country of Q2 or median is\",str(df.loc[(df[\"2020 Population\"]==df[\"2020 Population\"].quantile(interpolation=\"nearest\")),:][\"Country\"].values)[2:-2],'value is',df[\"2020 Population\"].quantile(interpolation=\"nearest\"))\n",
    "#print(\"for 2020, the nearest country of Q3 is \",df[\"2020 Population\"].quantile(0.75,interpolation=\"nearest\"))\n",
    "print(\"for 2020, the nearest country of Q3 or median is\",str(df.loc[(df[\"2020 Population\"]==df[\"2020 Population\"].quantile(0.75,interpolation=\"nearest\")),:][\"Country\"].values)[2:-2],'value is',df[\"2020 Population\"].quantile(0.75,interpolation=\"nearest\"))\n",
    "print(\"for 2020, the nearest country of means is \",df[\"Country\"][(df[\"2020 Population\"]-33501070.952991452).abs().argmin()],'value is',df[\"2020 Population\"].iloc[:].mean())\n"
   ]
  },
  {
   "cell_type": "markdown",
   "metadata": {},
   "source": [
    "Question#8. consider the columns for years 2020, 2010, 2000, 1990 and 1980. For each columns compute q1 and q3. For each of these years, construct 5 histograms by considering only countries with populations from q1 to q3 for that year. use the following colors: 2020 (in green), 2010 (in blue), 2000 (in cyan), 1990 (in black), and 1980 (in red). Write each histogram to a separate pdf file (with a descriptive name)."
   ]
  },
  {
   "cell_type": "code",
   "execution_count": 209,
   "metadata": {},
   "outputs": [
    {
     "data": {
      "image/png": "[encoded data removed]",
      "text/plain": [
       "<Figure size 432x288 with 1 Axes>"
      ]
     },
     "metadata": {
      "needs_background": "light"
     },
     "output_type": "display_data"
    },
    {
     "data": {
      "image/png": "[encoded data removed]",
      "text/plain": [
       "<Figure size 432x288 with 1 Axes>"
      ]
     },
     "metadata": {
      "needs_background": "light"
     },
     "output_type": "display_data"
    },
    {
     "data": {
      "image/png": "[encoded data removed]",
      "text/plain": [
       "<Figure size 432x288 with 1 Axes>"
      ]
     },
     "metadata": {
      "needs_background": "light"
     },
     "output_type": "display_data"
    },
    {
     "data": {
      "image/png": "[encoded data removed]",
      "text/plain": [
       "<Figure size 432x288 with 1 Axes>"
      ]
     },
     "metadata": {
      "needs_background": "light"
     },
     "output_type": "display_data"
    },
    {
     "data": {
      "image/png": "[encoded data removed]",
      "text/plain": [
       "<Figure size 432x288 with 1 Axes>"
      ]
     },
     "metadata": {
      "needs_background": "light"
     },
     "output_type": "display_data"
    }
   ],
   "source": [
    "Q8_2020_q1=df[\"2020 Population\"].quantile(0.25)\n",
    "Q8_2020_q3=df[\"2020 Population\"].quantile(0.75)\n",
    "df_2020=df.sort_values(by=\"2020 Population\",ascending=False)\n",
    "Q8_2020_arr=df_2020.loc[(df[\"2020 Population\"]<Q8_2020_q3) & (df[\"2020 Population\"]>Q8_2020_q1),:][\"2020 Population\"].values\n",
    "plt.hist(Q8_2020_arr,color=\"g\", bins=15,alpha=0.7)\n",
    "plt.show()\n",
    "#print(Q8_2020_arr)\n",
    "\n",
    "Q8_2010_q1=df[\"2010 Population\"].quantile(0.25)\n",
    "Q8_2010_q3=df[\"2010 Population\"].quantile(0.75)\n",
    "df_2010=df.sort_values(by=\"2010 Population\",ascending=False)\n",
    "Q8_2010_arr=df_2010.loc[(df[\"2010 Population\"]<Q8_2010_q3) & (df[\"2020 Population\"]>Q8_2010_q1),:][\"2020 Population\"].values\n",
    "plt.hist(Q8_2010_arr,color=\"b\", bins=15,alpha=0.7)\n",
    "plt.show()\n",
    "\n",
    "Q8_2000_q1=df[\"2000 Population\"].quantile(0.25)\n",
    "Q8_2000_q3=df[\"2000 Population\"].quantile(0.75)\n",
    "df_2000=df.sort_values(by=\"2000 Population\",ascending=False)\n",
    "Q8_2000_arr=df_2000.loc[(df[\"2000 Population\"]<Q8_2000_q3) & (df[\"2000 Population\"]>Q8_2000_q1),:][\"2000 Population\"].values\n",
    "plt.hist(Q8_2000_arr,color=\"cyan\", bins=15,alpha=0.7)\n",
    "plt.show()\n",
    "\n",
    "Q8_1990_q1=df[\"1990 Population\"].quantile(0.25)\n",
    "Q8_1990_q3=df[\"1990 Population\"].quantile(0.75)\n",
    "df_1990=df.sort_values(by=\"1990 Population\",ascending=False)\n",
    "Q8_1990_arr=df_1990.loc[(df[\"1990 Population\"]<Q8_1990_q3) & (df[\"1990 Population\"]>Q8_1990_q1),:][\"1990 Population\"].values\n",
    "plt.hist(Q8_1990_arr,color=\"black\", bins=15,alpha=0.7)\n",
    "plt.show()\n",
    "\n",
    "Q8_1980_q1=df[\"1980 Population\"].quantile(0.25)\n",
    "Q8_1980_q3=df[\"1980 Population\"].quantile(0.75)\n",
    "df_1980=df.sort_values(by=\"1980 Population\",ascending=False)\n",
    "Q8_1980_arr=df_1980.loc[(df[\"1980 Population\"]<Q8_1980_q3) & (df[\"1980 Population\"]>Q8_1980_q1),:][\"1980 Population\"].values\n",
    "plt.hist(Q8_1980_arr,color=\"red\", bins=15,alpha=0.7)\n",
    "plt.show()\n",
    "\n"
   ]
  },
  {
   "cell_type": "markdown",
   "metadata": {},
   "source": [
    "Question#9. examine your histograms. Any interesting observations?"
   ]
  },
  {
   "cell_type": "markdown",
   "metadata": {},
   "source": [
    "In 1970, the population in Q1 to Q3 in 2010 generally increased, but it did decline from 2010 to 2020"
   ]
  },
  {
   "cell_type": "markdown",
   "metadata": {},
   "source": [
    "Question#10. compute the rank by population density"
   ]
  },
  {
   "cell_type": "code",
   "execution_count": 210,
   "metadata": {},
   "outputs": [
    {
     "name": "stdout",
     "output_type": "stream",
     "text": [
      "119               Macau\n",
      "134              Monaco\n",
      "187           Singapore\n",
      "89            Hong Kong\n",
      "76            Gibraltar\n",
      "             ...       \n",
      "141             Namibia\n",
      "135            Mongolia\n",
      "230      Western Sahara\n",
      "64     Falkland Islands\n",
      "78            Greenland\n",
      "Name: Country, Length: 234, dtype: object\n"
     ]
    }
   ],
   "source": [
    "df_density_rank=df.sort_values(by=\"Density (per km²)\",ascending=False)\n",
    "density_rank=df_density_rank['Country']\n",
    "print(density_rank)"
   ]
  },
  {
   "cell_type": "markdown",
   "metadata": {},
   "source": [
    "Question#11. compute the rank of countries (by population) in 1970 and compute the difference in rank from 1970 to 2020. Which 5 countries experienced the largest positive change (by value, not percentage) in rank and which 5 countries experiences the largest negative change in rank"
   ]
  },
  {
   "cell_type": "code",
   "execution_count": 211,
   "metadata": {},
   "outputs": [
    {
     "name": "stdout",
     "output_type": "stream",
     "text": [
      "The top 5 negtive countries are {\"['Georgia']\": -47, \"['Bulgaria']\": -45, \"['Hungary']\": -42, \"['Croatia']\": -39, \"['Belarus' 'Serbia']\": -38}\n",
      "The five most positive countries are {\"['Angola']\": 33, \"['Saudi Arabia']\": 34, \"['Qatar']\": 40, \"['Jordan']\": 49, \"['United Arab Emirates']\": 70}\n"
     ]
    }
   ],
   "source": [
    "df_1970_rank=df.sort_values(by=\"1970 Population\",ascending=False)\n",
    "test=list(range(1,235))\n",
    "#print(test)\n",
    "df_1970_rank['df_1970_rank']=test\n",
    "\n",
    "#print(df_1970_rank)\n",
    "df_2020_rank=df.sort_values(by=\"2020 Population\",ascending=False)\n",
    "df_2020_rank['df_2020_rank']=test\n",
    "df_2020_rank.to_csv(\"asdasd.csv\")\n",
    "Q11_res={}\n",
    "Q11_res_ans=[]\n",
    "for i in country:\n",
    "      \n",
    "    Q11_res[i]=int(df_1970_rank.loc[(df_1970_rank[\"Country\"]==i),:][\"df_1970_rank\"].values-df_2020_rank.loc[(df_2020_rank[\"Country\"]==i),:][\"df_2020_rank\"].values)\n",
    "    Q11_res_ans.append(int(df_1970_rank.loc[(df_1970_rank[\"Country\"]==i),:][\"df_1970_rank\"].values-df_2020_rank.loc[(df_2020_rank[\"Country\"]==i),:][\"df_2020_rank\"].values))\n",
    "\n",
    "df_q11=pd.DataFrame(columns=['country'],data=(country))\n",
    "df_q11[\"Q11_aws\"]=Q11_res_ans\n",
    "\n",
    "q11_min=df_q11[\"Q11_aws\"].sort_values()[0:5].values\n",
    "q11_max=df_q11[\"Q11_aws\"].sort_values()[-5:].values\n",
    "q11_min_dict={}\n",
    "q11_max_dict={}\n",
    "#print(q11_min,q11_max)\n",
    "for i in q11_min:\n",
    "    q11_min_dict[str(df_q11.loc[(df_q11[\"Q11_aws\"]==i),:][\"country\"].values)]=i\n",
    "print(\"The top 5 negtive countries are\",q11_min_dict)\n",
    "for i in q11_max:\n",
    "    q11_max_dict[str(df_q11.loc[(df_q11[\"Q11_aws\"]==i),:][\"country\"].values)]=i\n",
    "print(\"The five most positive countries are\",q11_max_dict)"
   ]
  },
  {
   "cell_type": "markdown",
   "metadata": {},
   "source": [
    "Question#12. take the population in 2020 (all countries). Compute the first digit and compute the % of occurrence of this digit."
   ]
  },
  {
   "cell_type": "code",
   "execution_count": 212,
   "metadata": {},
   "outputs": [
    {
     "name": "stdout",
     "output_type": "stream",
     "text": [
      "here is the % of occurrence of this digit.  {1: 29.48717948717949, 2: 14.957264957264957, 3: 11.965811965811966, 4: 10.683760683760683, 5: 8.974358974358974, 6: 8.11965811965812, 7: 5.128205128205128, 8: 8.11965811965812, 9: 2.564102564102564}\n"
     ]
    }
   ],
   "source": [
    "population_2020=df[\"2000 Population\"]\n",
    "Q12_aws={}\n",
    "numbers=list(range(1,10))\n",
    "#print(str(population_2020[0])[0])\n",
    "for i in numbers:\n",
    "    count=0\n",
    "    for j in population_2020:\n",
    "        if i == int(str(j)[0]):\n",
    "            count+=1\n",
    "            Q12_aws[i]=((count/len(df))*100)\n",
    "print(\"here is the % of occurrence of this digit. \",Q12_aws)"
   ]
  },
  {
   "cell_type": "code",
   "execution_count": 213,
   "metadata": {},
   "outputs": [
    {
     "name": "stdout",
     "output_type": "stream",
     "text": [
      "['__SKLEARN_SETUP__', '__all__', '__builtins__', '__cached__', '__check_build', '__doc__', '__file__', '__loader__', '__name__', '__package__', '__path__', '__spec__', '__version__', '_config', '_distributor_init', 'base', 'clone', 'config_context', 'exceptions', 'externals', 'get_config', 'logger', 'logging', 'os', 'random', 'set_config', 'setup_module', 'show_versions', 'sys', 'utils']\n"
     ]
    }
   ],
   "source": [
    "import sklearn\n",
    "print(dir(sklearn))"
   ]
  },
  {
   "cell_type": "code",
   "execution_count": 214,
   "metadata": {},
   "outputs": [
    {
     "name": "stdout",
     "output_type": "stream",
     "text": [
      "32\n"
     ]
    }
   ],
   "source": [
    "def f(n):\n",
    "    if n==1:\n",
    "        return 1\n",
    "    else:\n",
    "        return 2**n*f(n-1)\n",
    "print(f(3))"
   ]
  },
  {
   "cell_type": "code",
   "execution_count": 215,
   "metadata": {},
   "outputs": [
    {
     "name": "stdout",
     "output_type": "stream",
     "text": [
      "<class 'set'>\n"
     ]
    }
   ],
   "source": [
    "\t\n",
    "x = {(10,), (20,)}\n",
    "print(type(x))\n",
    "\t\n",
    "#y = {[10],[20]}\n",
    "\t\n",
    "z = {10,20}"
   ]
  },
  {
   "cell_type": "code",
   "execution_count": 216,
   "metadata": {},
   "outputs": [
    {
     "name": "stdout",
     "output_type": "stream",
     "text": [
      "10 20 30 40 "
     ]
    }
   ],
   "source": [
    "m = {10:20, 30:40}\n",
    "for x, y in m.items ():\n",
    "      print (x, y, end=\" \")"
   ]
  },
  {
   "cell_type": "code",
   "execution_count": 217,
   "metadata": {},
   "outputs": [
    {
     "name": "stdout",
     "output_type": "stream",
     "text": [
      "dd\n"
     ]
    }
   ],
   "source": [
    "x = \"Wednesday\"\n",
    "y = x [1:5][100:500] + x [2::4]\n",
    "print(y)"
   ]
  },
  {
   "cell_type": "code",
   "execution_count": 218,
   "metadata": {},
   "outputs": [
    {
     "name": "stdout",
     "output_type": "stream",
     "text": [
      "True\n"
     ]
    }
   ],
   "source": [
    "x = [10 , 20, 30]\n",
    "y = x\n",
    "print(id(x) == id(y))"
   ]
  },
  {
   "cell_type": "code",
   "execution_count": 219,
   "metadata": {},
   "outputs": [
    {
     "name": "stdout",
     "output_type": "stream",
     "text": [
      "[0, 1, 8, 27]\n"
     ]
    }
   ],
   "source": [
    "x = [n**3 for n in range (4)]\n",
    "print(x)"
   ]
  }
 ],
 "metadata": {
  "kernelspec": {
   "display_name": "Python 3 (ipykernel)",
   "language": "python",
   "name": "python3"
  },
  "language_info": {
   "codemirror_mode": {
    "name": "ipython",
    "version": 3
   },
   "file_extension": ".py",
   "mimetype": "text/x-python",
   "name": "python",
   "nbconvert_exporter": "python",
   "pygments_lexer": "ipython3",
   "version": "3.10.0"
  },
  "vscode": {
   "interpreter": {
    "hash": "aee8b7b246df8f9039afb4144a1f6fd8d2ca17a180786b69acc140d282b71a49"
   }
  }
 },
 "nbformat": 4,
 "nbformat_minor": 2
}
