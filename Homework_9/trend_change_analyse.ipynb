{
 "cells": [
  {
   "cell_type": "code",
   "execution_count": 123,
   "metadata": {},
   "outputs": [],
   "source": [
    "import pandas as pd\n",
    "import numpy as np\n",
    "import sklearn\n",
    "import matplotlib.pyplot as plt\n",
    "from sklearn.model_selection import train_test_split\n",
    "import seaborn as sns\n",
    "from sklearn.linear_model import LogisticRegression\n",
    "from sklearn.preprocessing import StandardScaler , LabelEncoder\n",
    "from sklearn.neighbors import KNeighborsClassifier\n",
    "from sklearn.metrics import accuracy_score\n",
    "from sklearn.metrics import confusion_matrix\n",
    "from sklearn.linear_model import LinearRegression\n",
    "import warnings\n",
    "from sklearn.metrics import mean_squared_error\n",
    "from scipy.stats import f as fisher_f\n",
    "warnings.filterwarnings('ignore')\n",
    "df=pd.read_csv('NVDA.csv')\n",
    "df_week_2017=df.loc[df['Year']==2017,:]\n",
    "df_week_2018=df.loc[df['Year']==2018,:].reset_index()\n",
    "month_arr=np.array(range(13))\n",
    "\n",
    "\n",
    "def get_sse(df,k,month):\n",
    "    month_len=df.loc[df[\"Month\"]==month,:][\"Adj Close\"].count()\n",
    "    month_df=df.loc[df[\"Month\"]==month,:]\n",
    "    day_arr=np.array(month_len)\n",
    "    cut_front_df=month_df[:k]\n",
    "    cut_back_df=month_df[k:]\n",
    "    a=np.array(range(k)).reshape(-1,1)\n",
    "    b=np.array(range(k,month_len)).reshape(-1,1)\n",
    "    c=np.array(range(month_len)).reshape(-1,1)\n",
    "    # a=np.array(range(10)).reshape(-1,1)\n",
    "    #regr = LinearRegression()\n",
    "    regr_front=LinearRegression().fit(a, cut_front_df[\"Adj Close\"])\n",
    "    regr_back=LinearRegression().fit(b, cut_back_df[\"Adj Close\"])\n",
    "    regr_orig=LinearRegression().fit(c, month_df[\"Adj Close\"])\n",
    "    #print(mean_squared_error(a,cut_front_df[\"Adj Close\"])+mean_squared_error(b,cut_back_df[\"Adj Close\"]))\n",
    "    sse_front = mean_squared_error(cut_front_df[\"Adj Close\"],regr_front.predict(a))/len(a)\n",
    "    sse_back = mean_squared_error(cut_back_df[\"Adj Close\"],regr_back.predict(b))/len(b)\n",
    "    sse_total=sse_front+sse_back\n",
    "    sse_orig= mean_squared_error(month_df[\"Adj Close\"],regr_orig.predict(c))/len(c)\n",
    "    return sse_front,sse_back,sse_total,sse_orig\n",
    "def get_k(m,df):\n",
    "    month_len=df.loc[df[\"Month\"]==m,:][\"Adj Close\"].count()\n",
    "    k=0\n",
    "    min_sse=1000000\n",
    "    p_value=0\n",
    "    for i in range(1,month_len):\n",
    "        sse_front,sse_back,sse_total,sse_orig=get_sse(df,i,m)\n",
    "        #print(i,sse_front,sse_back,sse_total,sse_orig)\n",
    "        \n",
    "        if sse_total<min_sse:\n",
    "                min_sse=sse_total\n",
    "                k=i\n",
    "                F = ((sse_orig - sse_total)/2)/(sse_total/(month_len-4))\n",
    "                p_value = fisher_f.cdf(F ,2, month_len-4)\n",
    "                #print(i,sse_total,p_value)\n",
    "        \n",
    "    #print(k,mid_sse)\n",
    "    return k,p_value,min_sse"
   ]
  },
  {
   "cell_type": "markdown",
   "metadata": {},
   "source": [
    "1. take years 1 and 2. For each month, compute the ”candi- date” days and decide whether there is a significant change of pricing trend in each month. Use 0.1 as critical value."
   ]
  },
  {
   "cell_type": "code",
   "execution_count": 124,
   "metadata": {},
   "outputs": [
    {
     "name": "stdout",
     "output_type": "stream",
     "text": [
      "In 2017,the best k in NVDA at 1 month is 19 the p_value is 0.0 the minimun SSE is 0.01394602517373766\n",
      "In 2017,the best k in NVDA at 2 month is 1 the p_value is 0.29496065055301984 the minimun SSE is 0.0273138741309823\n",
      "In 2017,the best k in NVDA at 3 month is 1 the p_value is 0.9752882878665425 the minimun SSE is 0.006264990363571046\n",
      "In 2017,the best k in NVDA at 4 month is 2 the p_value is 0.9976491841616215 the minimun SSE is 0.012659362914716053\n",
      "In 2017,the best k in NVDA at 5 month is 7 the p_value is 0.999814570266828 the minimun SSE is 0.03523430600367122\n",
      "In 2017,the best k in NVDA at 6 month is 20 the p_value is 0.8263513961834199 the minimun SSE is 0.04983671541353387\n",
      "In 2017,the best k in NVDA at 7 month is 9 the p_value is 0.9989290395157632 the minimun SSE is 0.03783143443412791\n",
      "In 2017,the best k in NVDA at 8 month is 22 the p_value is 0.19531143273403576 the minimun SSE is 0.035300225161112725\n",
      "In 2017,the best k in NVDA at 9 month is 15 the p_value is 0.4401722736018504 the minimun SSE is 0.10092594497354496\n",
      "In 2017,the best k in NVDA at 10 month is 21 the p_value is 0.0 the minimun SSE is 0.02851579595763274\n",
      "In 2017,the best k in NVDA at 11 month is 19 the p_value is 0.9999846064394357 the minimun SSE is 0.019964715944987173\n",
      "In 2017,the best k in NVDA at 12 month is 1 the p_value is 0.938998333620168 the minimun SSE is 0.024456624386450892\n",
      "In 2018,the best k in NVDA at 1 month is 1 the p_value is 0.9569928549921554 the minimun SSE is 0.026395981578947274\n",
      "In 2018,the best k in NVDA at 2 month is 2 the p_value is 0.931332511319953 the minimun SSE is 0.11511953914783903\n",
      "In 2018,the best k in NVDA at 3 month is 19 the p_value is 0.7991998925238537 the minimun SSE is 0.1523978417650774\n",
      "In 2018,the best k in NVDA at 4 month is 1 the p_value is 0.0 the minimun SSE is 0.11925988421052625\n",
      "In 2018,the best k in NVDA at 5 month is 8 the p_value is 0.987527919431964 the minimun SSE is 0.0945200339493626\n",
      "In 2018,the best k in NVDA at 6 month is 9 the p_value is 0.7110651325740263 the minimun SSE is 0.10654476960368145\n",
      "In 2018,the best k in NVDA at 7 month is 19 the p_value is 0.9622944247428371 the minimun SSE is 0.03098222287019491\n",
      "In 2018,the best k in NVDA at 8 month is 12 the p_value is 0.398026231259641 the minimun SSE is 0.1036091698185502\n",
      "In 2018,the best k in NVDA at 9 month is 18 the p_value is 0.9957719011921956 the minimun SSE is 0.03191828175498038\n",
      "In 2018,the best k in NVDA at 10 month is 22 the p_value is 0.810217015577737 the minimun SSE is 0.17306261835541376\n",
      "In 2018,the best k in NVDA at 11 month is 11 the p_value is 0.9182939390539447 the minimun SSE is 0.3891383878787877\n",
      "In 2018,the best k in NVDA at 12 month is 1 the p_value is 0.8800342261847197 the minimun SSE is 0.04693643716529293\n"
     ]
    }
   ],
   "source": [
    "\n",
    "for i in range(1,13):\n",
    "    k,p_value,min_sse=get_k(i,df_week_2017)\n",
    "    print(\"In 2017,the best k in NVDA at\",i,\"month is\",k,\"the p_value is\",p_value,\"the minimun SSE is\",min_sse)\n",
    "for i in range(1,13):\n",
    "    k,p_value,min_sse=get_k(i,df_week_2018)\n",
    "    print(\"In 2018,the best k in NVDA at\",i,\"month is\",k,\"the p_value is\",p_value,\"the minimun SSE is\",min_sse)\n"
   ]
  },
  {
   "cell_type": "markdown",
   "metadata": {},
   "source": [
    "2. how many months exhibit significant price changes for your sotck ticker"
   ]
  },
  {
   "cell_type": "markdown",
   "metadata": {},
   "source": [
    "For 2017 is 2 month, for 2018 is 1 month"
   ]
  },
  {
   "cell_type": "markdown",
   "metadata": {},
   "source": [
    "3,are there more ”changes” in year 1 or in year 2"
   ]
  },
  {
   "cell_type": "markdown",
   "metadata": {},
   "source": [
    "no"
   ]
  }
 ],
 "metadata": {
  "kernelspec": {
   "display_name": "Python 3 (ipykernel)",
   "language": "python",
   "name": "python3"
  },
  "language_info": {
   "codemirror_mode": {
    "name": "ipython",
    "version": 3
   },
   "file_extension": ".py",
   "mimetype": "text/x-python",
   "name": "python",
   "nbconvert_exporter": "python",
   "pygments_lexer": "ipython3",
   "version": "3.9.7"
  },
  "vscode": {
   "interpreter": {
    "hash": "aee8b7b246df8f9039afb4144a1f6fd8d2ca17a180786b69acc140d282b71a49"
   }
  }
 },
 "nbformat": 4,
 "nbformat_minor": 2
}
