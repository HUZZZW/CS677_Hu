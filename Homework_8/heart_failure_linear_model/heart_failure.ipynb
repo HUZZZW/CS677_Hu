{
 "cells": [
  {
   "cell_type": "code",
   "execution_count": 11,
   "metadata": {},
   "outputs": [],
   "source": [
    "import pandas as pd\n",
    "import numpy as np\n",
    "import sklearn\n",
    "import matplotlib.pyplot as plt\n",
    "from sklearn.model_selection \\\n",
    "import train_test_split\n",
    "import seaborn as sns\n",
    "from sklearn.linear_model import LogisticRegression\n",
    "from sklearn.preprocessing import StandardScaler , LabelEncoder\n",
    "from sklearn.neighbors import KNeighborsClassifier\n",
    "from sklearn.metrics import accuracy_score\n",
    "from sklearn.metrics import confusion_matrix"
   ]
  },
  {
   "cell_type": "markdown",
   "metadata": {},
   "source": [
    "Question 1:\n",
    "1. load the data into Pandas dataframe. Extract two dataframes\n",
    "with the above 4 features: df 0 for surviving patients (DEATH EVENT = 0) and df 1 for deceased patients (DEATH EVENT = 1)"
   ]
  },
  {
   "cell_type": "code",
   "execution_count": 12,
   "metadata": {},
   "outputs": [
    {
     "name": "stdout",
     "output_type": "stream",
     "text": [
      "    creatinine_phosphokinase  serum_creatinine  serum_sodium  platelets  \\\n",
      "14                        80               1.0           138   427000.0   \n",
      "20                        52               1.3           137   276000.0   \n",
      "23                        63               0.8           135   368000.0   \n",
      "33                       159               1.2           138   302000.0   \n",
      "38                      2656               2.3           137   305000.0   \n",
      "\n",
      "    DEATH_EVENT  \n",
      "14            0  \n",
      "20            0  \n",
      "23            0  \n",
      "33            0  \n",
      "38            0  \n",
      "   creatinine_phosphokinase  serum_creatinine  serum_sodium  platelets  \\\n",
      "0                       582               1.9           130  265000.00   \n",
      "1                      7861               1.1           136  263358.03   \n",
      "2                       146               1.3           129  162000.00   \n",
      "3                       111               1.9           137  210000.00   \n",
      "4                       160               2.7           116  327000.00   \n",
      "\n",
      "   DEATH_EVENT  \n",
      "0            1  \n",
      "1            1  \n",
      "2            1  \n",
      "3            1  \n",
      "4            1  \n"
     ]
    }
   ],
   "source": [
    "df=pd.read_csv(\"heart_failure_clinical_records_dataset.csv\")\n",
    "df_1=df.loc[(df['DEATH_EVENT']==1),['creatinine_phosphokinase','serum_creatinine','serum_sodium','platelets','DEATH_EVENT']]\n",
    "df_0=df.loc[(df['DEATH_EVENT']==0),['creatinine_phosphokinase','serum_creatinine','serum_sodium','platelets','DEATH_EVENT']]\n",
    "print(df_0.head())\n",
    "print(df_1.head())\n"
   ]
  },
  {
   "cell_type": "markdown",
   "metadata": {},
   "source": [
    "2. for each dataset, construct the visual representations of correponding correlation matrices M0 (from df 0) and M1 (from df 1) and save the plots into two separate files"
   ]
  },
  {
   "cell_type": "code",
   "execution_count": 13,
   "metadata": {},
   "outputs": [
    {
     "name": "stdout",
     "output_type": "stream",
     "text": [
      "                          creatinine_phosphokinase  serum_creatinine  \\\n",
      "creatinine_phosphokinase                  1.000000         -0.033407   \n",
      "serum_creatinine                         -0.033407          1.000000   \n",
      "serum_sodium                              0.148823         -0.094011   \n",
      "platelets                                 0.078808         -0.029384   \n",
      "DEATH_EVENT                                    NaN               NaN   \n",
      "\n",
      "                          serum_sodium  platelets  DEATH_EVENT  \n",
      "creatinine_phosphokinase      0.148823   0.078808          NaN  \n",
      "serum_creatinine             -0.094011  -0.029384          NaN  \n",
      "serum_sodium                  1.000000   0.141284          NaN  \n",
      "platelets                     0.141284   1.000000          NaN  \n",
      "DEATH_EVENT                        NaN        NaN          NaN  \n",
      "                          creatinine_phosphokinase  serum_creatinine  \\\n",
      "creatinine_phosphokinase                  1.000000         -0.043110   \n",
      "serum_creatinine                         -0.043110          1.000000   \n",
      "serum_sodium                             -0.002474         -0.215651   \n",
      "platelets                                -0.012940         -0.031217   \n",
      "DEATH_EVENT                                    NaN               NaN   \n",
      "\n",
      "                          serum_sodium  platelets  DEATH_EVENT  \n",
      "creatinine_phosphokinase     -0.002474  -0.012940          NaN  \n",
      "serum_creatinine             -0.215651  -0.031217          NaN  \n",
      "serum_sodium                  1.000000   0.001807          NaN  \n",
      "platelets                     0.001807   1.000000          NaN  \n",
      "DEATH_EVENT                        NaN        NaN          NaN  \n"
     ]
    }
   ],
   "source": [
    "print(df_1.corr())\n",
    "print(df_0.corr())"
   ]
  },
  {
   "cell_type": "markdown",
   "metadata": {},
   "source": [
    "\n",
    "3. examine your correlation matrix plots visually and answer the following:\n"
   ]
  },
  {
   "cell_type": "markdown",
   "metadata": {},
   "source": [
    "(a) which features have the highest correlation for surviving patients?"
   ]
  },
  {
   "cell_type": "markdown",
   "metadata": {},
   "source": [
    "    the highest correlation for surviving patiets are serum sodium and serum serum creatinine"
   ]
  },
  {
   "cell_type": "markdown",
   "metadata": {},
   "source": [
    "(b) which features have the lowest correlation for surviving patients?"
   ]
  },
  {
   "cell_type": "markdown",
   "metadata": {},
   "source": [
    "    the lowest correlation for suriving patients is between platelets and serum sodium"
   ]
  },
  {
   "cell_type": "markdown",
   "metadata": {},
   "source": [
    "(c) which features have the highest correlation for deceased patients?"
   ]
  },
  {
   "cell_type": "markdown",
   "metadata": {},
   "source": [
    "        the highest correlation for deceased patients are between creatinine_phosphokinase and serum_sodium"
   ]
  },
  {
   "cell_type": "markdown",
   "metadata": {},
   "source": [
    "(d) which features have the lowest correlation for deceased patients?"
   ]
  },
  {
   "cell_type": "markdown",
   "metadata": {},
   "source": [
    "        lowest correlation for deceased patients are between platelets and serum creatinine"
   ]
  },
  {
   "cell_type": "markdown",
   "metadata": {},
   "source": [
    "\n",
    "(e) are results the same for both cases?"
   ]
  },
  {
   "cell_type": "markdown",
   "metadata": {},
   "source": [
    "        No"
   ]
  },
  {
   "cell_type": "markdown",
   "metadata": {},
   "source": [
    "Question 2: In this question you will compare a number of different models using linear systems (including linear regres- sion). You choose one feature X as independent variable X and another feature Y as dependent. Your choice of X and Y will depend on your facilitator group as follows:\n"
   ]
  },
  {
   "cell_type": "markdown",
   "metadata": {},
   "source": [
    "BUID:U56938298"
   ]
  },
  {
   "cell_type": "markdown",
   "metadata": {},
   "source": [
    "4. Group 4: X: platelets, Y : serum creatinine\n"
   ]
  },
  {
   "cell_type": "code",
   "execution_count": 14,
   "metadata": {},
   "outputs": [],
   "source": [
    "X_0=df_0['platelets']\n",
    "Y_0=df_0['serum_creatinine']\n",
    "\n",
    "X_1=df_1['platelets']\n",
    "Y_1=df_1['serum_creatinine']\n"
   ]
  },
  {
   "cell_type": "markdown",
   "metadata": {},
   "source": [
    "1. y = ax + b (simple linear regression)\n",
    "\n",
    "(a) fit the model on Xtrain\n",
    "\n",
    "(b) print the weights (a, b, . . .)\n",
    "\n",
    "(c) compute predicted values using Xtest\n",
    "\n",
    "(d) plot (if possible) predicted and actual values in Xtest\n",
    "\n",
    "(e) compute (and print) the corresponding loss function\n"
   ]
  },
  {
   "cell_type": "code",
   "execution_count": 15,
   "metadata": {},
   "outputs": [
    {
     "name": "stdout",
     "output_type": "stream",
     "text": [
      "1. y = ax + b (simple linear regression)\n",
      "when the dgree =1, the suriving patients :\n",
      "(b) wights: [-6.06130871e-07  1.40048599e+00]\n",
      "(e) the corresponding loss function 25.86913140762275\n",
      "when the dgree =1, the deceased patients :\n",
      "(b) wights: [-2.06582734e-06  2.44463842e+00]\n",
      "(e) the corresponding loss function 113.89574587319899\n",
      "\n",
      "\n",
      "2. y = ax2 + bx + c (quadratic)\n",
      "when the dgree =2, the suriving patients :\n",
      "(b) wights: [ 1.91079684e-12 -1.04701254e-06  1.26292091e+00]\n",
      "(e) the corresponding loss function 68.16975434723581\n",
      "when the dgree =2, the deceased patients :\n",
      "(b) wights: [ 1.37361547e-11 -9.54479565e-06  3.57491502e+00]\n",
      "(e) the corresponding loss function 44.69396473852955\n",
      "\n",
      "\n",
      "3. y = ax3 + bx2 + cx + d (cubic spline)\n",
      "when the dgree =3, the suriving patients :\n",
      "(b) wights: [ 8.90310998e-18 -9.94692030e-12  2.08656558e-06  1.21729481e+00]\n",
      "(e) the corresponding loss function 29.636965607045727\n",
      "when the dgree =3, the deceased patients :\n",
      "(b) wights: [-5.77252513e-18  3.10743322e-12 -2.17800060e-06  2.09235976e+00]\n",
      "(e) the corresponding loss function 182.25935460709997\n",
      "\n",
      "\n",
      "4. y = a log x + b (GLM - generalized linear model)\n",
      "when the dgree =1, the suriving patients :\n",
      "(b) wights: [0.07746576 0.30753763]\n",
      "(e) the corresponding loss function 17.42602642557299\n",
      "when the dgree =1, the deceased patients :\n",
      "(b) wights: [-0.15241032  3.56570858]\n",
      "(e) the corresponding loss function 182.5301633514205\n",
      "\n",
      "\n",
      "5. log y = a log x + b (GLM - generalized linear model))\n",
      "when the dgree =1, the suriving patients :\n",
      "(b) wights: [-0.01945173  0.34175395]\n",
      "(e) the corresponding loss function 14.04888875016715\n",
      "when the dgree =1, the deceased patients :\n",
      "(b) wights: [ 0.1410884  -1.27344281]\n",
      "(e) the corresponding loss function 12.923107655272673\n",
      "\n",
      "\n"
     ]
    }
   ],
   "source": [
    "from sklearn.metrics import mean_squared_error\n",
    "# degree = 1\n",
    "# #(a)\n",
    "# weights_0 = np.polyfit(X_0_train,y_0_train, degree) \n",
    "# #(b)computer weights\n",
    "# model = np.poly1d(weights_0)\n",
    "# print('Question (b), wights:',weights_0)\n",
    "# #(c) Moldel\n",
    "# prodict=model(X_0_test)\n",
    "# #print('Question (c)',prodict)\n",
    "# #(d)\n",
    "# print(\"(d)\")\n",
    "# x_points = np.linspace(0.75,9.5, 1000) \n",
    "# y_points = model(x_points)\n",
    "# ax, fig = plt.subplots()\n",
    "# plt.xlim(0, 10)\n",
    "# plt.ylim(0, 10)\n",
    "# plt.xlabel('X')\n",
    "# plt.ylabel('Y', rotation=0)\n",
    "# plt.plot(x_points , y_points , lw=4, color='blue') \n",
    "# plt.scatter(X_0, Y_0, color='black', s=200)\n",
    "# # for i, txt in enumerate(id_list): \n",
    "# #     plt.text(x[i]+0.2, y[i]+0.2, txt, fontsize=10)\n",
    "# plt.show()\n",
    "# #(e)\n",
    "# print('(e)',mean_squared_error(y_0_test,prodict)*len(y_0_test))\n",
    "\n",
    "def sse(X,Y,degree):\n",
    "    X_train,X_test,y_train,y_test=train_test_split(X,Y, train_size=0.5)\n",
    "    #(a)\n",
    "    #(b)computer weights\n",
    "    weights= np.polyfit(X_train,y_train, degree) \n",
    "    print('(b) wights:',weights)\n",
    "    model = np.poly1d(weights)\n",
    "    #(c) Moldel\n",
    "    prodict=model(X_test)\n",
    "    ##print('Question (c)',prodict)\n",
    "    # #(d)\n",
    "    # print(\"(d)\")\n",
    "    # x_points = np.linspace(0.75,9.5, 1000) \n",
    "    # y_points = model(x_points)\n",
    "    # ax, fig = plt.subplots()\n",
    "    # plt.xlim(0, 10)\n",
    "    # plt.ylim(0, 10)\n",
    "    # plt.xlabel('X')\n",
    "    # plt.ylabel('Y', rotation=0)\n",
    "    # plt.plot(x_points , y_points , lw=4, color='blue') \n",
    "    # plt.scatter(X_0, Y_0, color='black', s=200)\n",
    "    # # for i, txt in enumerate(id_list): \n",
    "    # #     plt.text(x[i]+0.2, y[i]+0.2, txt, fontsize=10)\n",
    "    # plt.show()\n",
    "    print('(e) the corresponding loss function',mean_squared_error(y_test,prodict)*len(y_test))\n",
    "    return mean_squared_error(y_test,prodict)*len(y_test)\n",
    "print('1. y = ax + b (simple linear regression)')\n",
    "print('when the dgree =1, the suriving patients :')\n",
    "sse_0_1=sse(X_0,Y_0,1)\n",
    "print('when the dgree =1, the deceased patients :')\n",
    "sse_1_1=sse(X_1,Y_1,1)\n",
    "print('\\n')\n",
    "\n",
    "print('2. y = ax2 + bx + c (quadratic)')\n",
    "print('when the dgree =2, the suriving patients :')\n",
    "sse_0_2=sse(X_0,Y_0,2)\n",
    "print('when the dgree =2, the deceased patients :')\n",
    "sse_1_2=sse(X_1,Y_1,2)\n",
    "print('\\n')\n",
    "\n",
    "print('3. y = ax3 + bx2 + cx + d (cubic spline)')\n",
    "print('when the dgree =3, the suriving patients :')\n",
    "sse_0_3=sse(X_0,Y_0,3)\n",
    "print('when the dgree =3, the deceased patients :')\n",
    "sse_1_3=sse(X_1,Y_1,3)\n",
    "print('\\n')\n",
    "\n",
    "print('4. y = a log x + b (GLM - generalized linear model)')\n",
    "print('when the dgree =1, the suriving patients :')\n",
    "sse_0_log_x=sse(np.log(X_0),Y_0,1)\n",
    "print('when the dgree =1, the deceased patients :')\n",
    "sse_1_log_x=sse(np.log(X_1),Y_1,1)\n",
    "print('\\n')\n",
    "\n",
    "print('5. log y = a log x + b (GLM - generalized linear model))')\n",
    "print('when the dgree =1, the suriving patients :')\n",
    "sse_0_log_xy=sse(np.log(X_0),np.log(Y_0),1)\n",
    "print('when the dgree =1, the deceased patients :')\n",
    "sse_1_log_xy=sse(np.log(X_1),np.log(Y_1),1)\n",
    "print('\\n')\n"
   ]
  },
  {
   "cell_type": "code",
   "execution_count": 16,
   "metadata": {},
   "outputs": [
    {
     "name": "stdout",
     "output_type": "stream",
     "text": [
      "14     427000.0\n",
      "20     276000.0\n",
      "23     368000.0\n",
      "33     302000.0\n",
      "38     305000.0\n",
      "         ...   \n",
      "294    155000.0\n",
      "295    270000.0\n",
      "296    742000.0\n",
      "297    140000.0\n",
      "298    395000.0\n",
      "Name: platelets, Length: 203, dtype: float64 14     12.964539\n",
      "20     12.528156\n",
      "23     12.815838\n",
      "33     12.618182\n",
      "38     12.628067\n",
      "         ...    \n",
      "294    11.951180\n",
      "295    12.506177\n",
      "296    13.517105\n",
      "297    11.849398\n",
      "298    12.886641\n",
      "Name: platelets, Length: 203, dtype: float64\n"
     ]
    }
   ],
   "source": [
    "print(X_0,np.log(X_0))"
   ]
  },
  {
   "cell_type": "markdown",
   "metadata": {},
   "source": [
    "Question 3: Summarize your results from question 2 in a table like shown below:"
   ]
  },
  {
   "cell_type": "code",
   "execution_count": 17,
   "metadata": {},
   "outputs": [
    {
     "name": "stdout",
     "output_type": "stream",
     "text": [
      "                    Model  SSE (death event=0)  (death event=1)\n",
      "0              y = ax + b            25.869131       113.895746\n",
      "1        y = ax2 + bx + c            68.169754        44.693965\n",
      "2  y = ax3 + bx2 + cx + d            29.636966       182.259355\n",
      "3         y = a log x + b            17.426026       182.530163\n",
      "4     log y = a log x + b            14.048889        12.923108\n"
     ]
    }
   ],
   "source": [
    "Q3_res=pd.DataFrame({\n",
    "    'Model':[\"y = ax + b\",\"y = ax2 + bx + c\",\"y = ax3 + bx2 + cx + d\",'y = a log x + b','log y = a log x + b'],\n",
    "    'SSE (death event=0)':[sse_0_1,sse_0_2,sse_0_3,sse_0_log_x,sse_0_log_xy],\n",
    "    '(death event=1)':[sse_1_1,sse_1_2,sse_1_3,sse_1_log_x,sse_1_log_xy]\n",
    "})\n",
    "print(Q3_res)\n"
   ]
  },
  {
   "cell_type": "markdown",
   "metadata": {},
   "source": [
    "1. which model was the best (smallest SSE) for surviving pa- tients? for deceased patients?\n"
   ]
  },
  {
   "cell_type": "markdown",
   "metadata": {},
   "source": [
    "Y=ax2+bx+c is best"
   ]
  },
  {
   "cell_type": "markdown",
   "metadata": {},
   "source": [
    "2. which model was the worst (largest SSE) for surving pa- tients? for deceased patients?"
   ]
  },
  {
   "cell_type": "markdown",
   "metadata": {},
   "source": [
    "Y=alogx+b is worst"
   ]
  }
 ],
 "metadata": {
  "kernelspec": {
   "display_name": "Python 3 (ipykernel)",
   "language": "python",
   "name": "python3"
  },
  "language_info": {
   "codemirror_mode": {
    "name": "ipython",
    "version": 3
   },
   "file_extension": ".py",
   "mimetype": "text/x-python",
   "name": "python",
   "nbconvert_exporter": "python",
   "pygments_lexer": "ipython3",
   "version": "3.9.7"
  },
  "vscode": {
   "interpreter": {
    "hash": "cb9806c24c91b3e4d18e5f3e793847aaaf5646eebdcfa376b540720de17b3c80"
   }
  }
 },
 "nbformat": 4,
 "nbformat_minor": 2
}
