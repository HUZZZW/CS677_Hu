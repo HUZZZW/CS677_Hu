{
 "cells": [
  {
   "cell_type": "code",
   "execution_count": 2,
   "metadata": {},
   "outputs": [],
   "source": [
    "import pandas as pd\n",
    "import numpy as np\n",
    "import sklearn\n",
    "import matplotlib.pyplot as plt\n",
    "from sklearn.model_selection \\\n",
    "import train_test_split\n",
    "import seaborn as sns\n",
    "from sklearn.linear_model import LogisticRegression\n",
    "from sklearn.preprocessing import StandardScaler , LabelEncoder\n",
    "from sklearn.neighbors import KNeighborsClassifier\n",
    "from sklearn.metrics import accuracy_score\n",
    "from sklearn.metrics import confusion_matrix"
   ]
  },
  {
   "cell_type": "markdown",
   "metadata": {},
   "source": [
    "1. what is the busiest (in terms of number of transactions)?\n",
    "(a) hour\n",
    "(b) day of the week\n",
    "(c) period"
   ]
  },
  {
   "cell_type": "code",
   "execution_count": 3,
   "metadata": {},
   "outputs": [
    {
     "name": "stdout",
     "output_type": "stream",
     "text": [
      "   Hour  count\n",
      "5    11   1445\n",
      "    Weekday  count\n",
      "2  Saturday   2068\n",
      "      Period  count\n",
      "0  afternoon   5307\n"
     ]
    }
   ],
   "source": [
    "\n",
    "df=pd.read_csv(\"BreadBasket_DMS_output.csv\")\n",
    "#(a)\n",
    "Q1_a=df.drop_duplicates(subset=['Transaction']).groupby(['Hour'])['Period'].count().reset_index(name='count').sort_values(['count'], ascending=False ).head(1)\n",
    "print(Q1_a)\n",
    "#(b)\n",
    "Q1_b=df.drop_duplicates(subset=['Transaction']).groupby(['Weekday'])['Period'].count().reset_index(name='count').sort_values(['count'], ascending=False ).head(1)\n",
    "print(Q1_b)\n",
    "#(c)\n",
    "Q1_c=df.drop_duplicates(subset=['Transaction']).groupby(['Period'])['Period'].count().reset_index(name='count').sort_values(['count'], ascending=False ).head(1)\n",
    "print(Q1_c)"
   ]
  },
  {
   "cell_type": "markdown",
   "metadata": {},
   "source": [
    "2. what is the most profitable time (in terms of revenue)?\n",
    "(a) hour\n",
    "(b) day of the week\n",
    "(c) period"
   ]
  },
  {
   "cell_type": "code",
   "execution_count": 4,
   "metadata": {},
   "outputs": [
    {
     "name": "stdout",
     "output_type": "stream",
     "text": [
      "   Hour     count\n",
      "5    11  21453.44\n",
      "    Weekday     count\n",
      "2  Saturday  31531.83\n",
      "      Period     count\n",
      "0  afternoon  81299.97\n"
     ]
    }
   ],
   "source": [
    "#(a)\n",
    "Q2_a=df.groupby(['Hour'])['Item_Price'].sum().reset_index(name='count').sort_values(['count'], ascending=False ).head(1)\n",
    "print(Q2_a)\n",
    "#(b)\n",
    "Q2_b=df.groupby(['Weekday'])['Item_Price'].sum().reset_index(name='count').sort_values(['count'], ascending=False ).head(1)\n",
    "print(Q2_b)\n",
    "#(c)\n",
    "Q2_c=df.groupby(['Period'])['Item_Price'].sum().reset_index(name='count').sort_values(['count'], ascending=False ).head(1)\n",
    "print(Q2_c)"
   ]
  },
  {
   "cell_type": "markdown",
   "metadata": {},
   "source": [
    "3. what is the most and least popular item?"
   ]
  },
  {
   "cell_type": "code",
   "execution_count": 5,
   "metadata": {},
   "outputs": [
    {
     "name": "stdout",
     "output_type": "stream",
     "text": [
      "the best sale:\n",
      "        Item  count\n",
      "23  Coffee   5471 \n",
      " the least sale:\n",
      "               Item  count\n",
      "0       Adjustment      1\n",
      "19    Chicken sand      1\n",
      "64  Olum & polenta      1\n",
      "69         Polenta      1\n",
      "5            Bacon      1\n",
      "41    Gift voucher      1\n",
      "85        The BART      1\n",
      "72        Raw bars      1\n"
     ]
    }
   ],
   "source": [
    "#(a)\n",
    "Q3_a_best=df.groupby(['Item'])['Item'].count().reset_index(name='count').sort_values(['count'], ascending=False ).head(1)\n",
    "Q3_a_weast=df.groupby(['Item'])['Item'].count().reset_index(name='count').sort_values(['count'], ascending=True ).head(8)\n",
    "\n",
    "print('the best sale:\\n ',Q3_a_best,'\\n the least sale:\\n',Q3_a_weast)"
   ]
  },
  {
   "cell_type": "markdown",
   "metadata": {},
   "source": [
    "4. assume one barrista can handle 50 transactions per day. How many barristas do you need for each day of the week?"
   ]
  },
  {
   "cell_type": "code",
   "execution_count": 6,
   "metadata": {},
   "outputs": [
    {
     "name": "stdout",
     "output_type": "stream",
     "text": [
      "Weekday\n",
      "Friday       2.0\n",
      "Monday       1.0\n",
      "Saturday     2.0\n",
      "Sunday       2.0\n",
      "Thursday     2.0\n",
      "Tuesday      2.0\n",
      "Wednesday    1.0\n",
      "Name: Transaction, dtype: float64\n"
     ]
    }
   ],
   "source": [
    "\n",
    "Q4=((df.drop_duplicates(subset=['Transaction']).groupby(['Weekday'])['Transaction'].count()/23)/50).apply(np.ceil)\n",
    "print(Q4)\n"
   ]
  },
  {
   "cell_type": "markdown",
   "metadata": {},
   "source": [
    "5. divide all items in 3 groups (drinks, food, unknown). What is the average price of a drink and a food item?"
   ]
  },
  {
   "cell_type": "code",
   "execution_count": 7,
   "metadata": {},
   "outputs": [],
   "source": [
    "import random\n",
    "#print(random.randint(0,2))\n",
    "drink=0\n",
    "food=1\n",
    "unknow=2\n",
    "item_arr=df['Item'].unique()\n",
    "label_dic={}\n",
    "for i in item_arr:\n",
    "    rand=random.randint(0,2)\n",
    "    if rand ==drink:\n",
    "        label_dic[i]=\"drink\"\n",
    "    elif rand==food:\n",
    "        label_dic[i]=\"food\"\n",
    "    elif rand==unknow:\n",
    "        label_dic[i]=\"unknow\""
   ]
  },
  {
   "cell_type": "code",
   "execution_count": 8,
   "metadata": {},
   "outputs": [
    {
     "data": {
      "text/plain": [
       "Q4_label\n",
       "drink     8.019079\n",
       "food      4.491182\n",
       "unknow    7.385526\n",
       "Name: Item_Price, dtype: float64"
      ]
     },
     "execution_count": 8,
     "metadata": {},
     "output_type": "execute_result"
    }
   ],
   "source": [
    "Q4_label=[]\n",
    "for i in range(len(df)):\n",
    "    #print(df['Item'][i],label_dic[df['Item'][i]])\n",
    "    Q4_label.append(label_dic[df['Item'][i]])\n",
    "df['Q4_label']=Q4_label\n",
    "df.groupby(['Q4_label'])['Item_Price'].mean()"
   ]
  },
  {
   "cell_type": "markdown",
   "metadata": {},
   "source": [
    "6. does this coffee shop make more money from selling drinks or from selling food?"
   ]
  },
  {
   "cell_type": "code",
   "execution_count": 9,
   "metadata": {},
   "outputs": [
    {
     "data": {
      "text/plain": [
       "Q4_label\n",
       "drink     28459.71\n",
       "food      31415.82\n",
       "unknow    79387.02\n",
       "Name: Item_Price, dtype: float64"
      ]
     },
     "execution_count": 9,
     "metadata": {},
     "output_type": "execute_result"
    }
   ],
   "source": [
    "df.groupby(['Q4_label'])['Item_Price'].sum()"
   ]
  },
  {
   "cell_type": "markdown",
   "metadata": {},
   "source": [
    "7. what are the top 5 most popular items for each day of the week? does this list stays the same from day to day?"
   ]
  },
  {
   "cell_type": "code",
   "execution_count": 10,
   "metadata": {},
   "outputs": [
    {
     "name": "stdout",
     "output_type": "stream",
     "text": [
      "Sunday \n",
      " Item\n",
      "Coffee    825\n",
      "Bread     473\n",
      "Tea       171\n",
      "Cake      167\n",
      "NONE      138\n",
      "dtype: int64\n",
      "Monday \n",
      " Item\n",
      "Coffee      681\n",
      "Bread       360\n",
      "Tea         193\n",
      "Pastry      105\n",
      "Sandwich    101\n",
      "dtype: int64\n",
      "Tuesday \n",
      " Item\n",
      "Coffee    710\n",
      "Bread     350\n",
      "Tea       194\n",
      "Cake      139\n",
      "Pastry    119\n",
      "dtype: int64\n",
      "Wednesday \n",
      " Item\n",
      "Coffee    628\n",
      "Bread     405\n",
      "Tea       188\n",
      "Cake      123\n",
      "NONE      108\n",
      "dtype: int64\n",
      "Thursday \n",
      " Item\n",
      "Coffee    670\n",
      "Bread     450\n",
      "Tea       183\n",
      "Cake      141\n",
      "Pastry    121\n",
      "dtype: int64\n",
      "Friday \n",
      " Item\n",
      "Coffee      854\n",
      "Bread       527\n",
      "Tea         218\n",
      "Sandwich    134\n",
      "Cake        120\n",
      "dtype: int64\n",
      "Saturday \n",
      " Item\n",
      "Coffee    1103\n",
      "Bread      760\n",
      "Tea        288\n",
      "Cake       246\n",
      "NONE       198\n",
      "dtype: int64\n"
     ]
    }
   ],
   "source": [
    "from calendar import weekday\n",
    "\n",
    "\n",
    "Q7_best_5=df.groupby(['Weekday','Item']).size()\n",
    "Q7_weekday=df['Weekday'].unique()\n",
    "for i in Q7_weekday:\n",
    "    print(i,'\\n',Q7_best_5[i].nlargest(5))\n",
    "\n"
   ]
  },
  {
   "cell_type": "markdown",
   "metadata": {},
   "source": [
    "8. what are the bottom 5 least popular items for each day of the week? does this list stays the same from day to day?"
   ]
  },
  {
   "cell_type": "code",
   "execution_count": 11,
   "metadata": {},
   "outputs": [
    {
     "name": "stdout",
     "output_type": "stream",
     "text": [
      "Sunday \n",
      " Item\n",
      "Argentina Night       1\n",
      "Bacon                 1\n",
      "Brioche and salami    1\n",
      "Chicken sand          1\n",
      "Chocolates            1\n",
      "dtype: int64\n",
      "Monday \n",
      " Item\n",
      "Chocolates                    1\n",
      "Crisps                        1\n",
      "Drinking chocolate spoons     1\n",
      "Dulce de Leche                1\n",
      "Extra Salami or Feta          1\n",
      "dtype: int64\n",
      "Tuesday \n",
      " Item\n",
      "Bowl Nic Pitt                 1\n",
      "Bread Pudding                 1\n",
      "Chocolates                    1\n",
      "Drinking chocolate spoons     1\n",
      "Ella's Kitchen Pouches        1\n",
      "dtype: int64\n",
      "Wednesday \n",
      " Item\n",
      "Adjustment               1\n",
      "Bare Popcorn             1\n",
      "Cherry me Dried fruit    1\n",
      "Crepes                   1\n",
      "Duck egg                 1\n",
      "dtype: int64\n",
      "Thursday \n",
      " Item\n",
      "Argentina Night               1\n",
      "Brioche and salami            1\n",
      "Cherry me Dried fruit         1\n",
      "Chimichurri Oil               1\n",
      "Drinking chocolate spoons     1\n",
      "dtype: int64\n",
      "Friday \n",
      " Item\n",
      "Brioche and salami    1\n",
      "Chimichurri Oil       1\n",
      "Chocolates            1\n",
      "Coffee granules       1\n",
      "Crepes                1\n",
      "dtype: int64\n",
      "Saturday \n",
      " Item\n",
      "Bowl Nic Pitt             1\n",
      "Cherry me Dried fruit     1\n",
      "Christmas common          1\n",
      "Dulce de Leche            1\n",
      "Ella's Kitchen Pouches    1\n",
      "dtype: int64\n"
     ]
    }
   ],
   "source": [
    "for i in Q7_weekday:\n",
    "    print(i,'\\n',Q7_best_5[i].nsmallest(5))"
   ]
  },
  {
   "cell_type": "markdown",
   "metadata": {},
   "source": [
    "9. how many drinks are there per transaction?"
   ]
  },
  {
   "cell_type": "code",
   "execution_count": 14,
   "metadata": {},
   "outputs": [
    {
     "name": "stdout",
     "output_type": "stream",
     "text": [
      "      Q4_label\n",
      "Item  drink       2892\n",
      "      food        5414\n",
      "      unknow      6854\n",
      "dtype: int64\n"
     ]
    }
   ],
   "source": [
    "\n",
    "Q9_best_5=pd.pivot_table(df,values='Item',index=['Transaction','Q4_label'],aggfunc='count').unstack()\n",
    "print(Q9_best_5.count())"
   ]
  }
 ],
 "metadata": {
  "kernelspec": {
   "display_name": "Python 3 (ipykernel)",
   "language": "python",
   "name": "python3"
  },
  "language_info": {
   "codemirror_mode": {
    "name": "ipython",
    "version": 3
   },
   "file_extension": ".py",
   "mimetype": "text/x-python",
   "name": "python",
   "nbconvert_exporter": "python",
   "pygments_lexer": "ipython3",
   "version": "3.9.7"
  },
  "vscode": {
   "interpreter": {
    "hash": "cb9806c24c91b3e4d18e5f3e793847aaaf5646eebdcfa376b540720de17b3c80"
   }
  }
 },
 "nbformat": 4,
 "nbformat_minor": 2
}
