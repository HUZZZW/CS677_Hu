{
 "cells": [
  {
   "cell_type": "code",
   "execution_count": 97,
   "metadata": {},
   "outputs": [],
   "source": [
    "import pandas as pd\n",
    "import numpy as np\n",
    "import sklearn\n",
    "import matplotlib.pyplot as plt\n",
    "from sklearn.model_selection \\\n",
    "import train_test_split\n",
    "import seaborn as sns\n",
    "from sklearn.linear_model import LogisticRegression\n",
    "from sklearn.preprocessing import StandardScaler , LabelEncoder\n",
    "from sklearn.neighbors import KNeighborsClassifier\n",
    "from sklearn.metrics import accuracy_score\n",
    "from sklearn.metrics import confusion_matrix"
   ]
  },
  {
   "cell_type": "markdown",
   "metadata": {},
   "source": [
    "Quetion#1. take k = 3,5,7,9,11. For each value of k compute the accuracy of your k-NN classifier on year 1 data. On x axis you plot k and on y-axis you plot accuracy. What is the optimal value of k for year 1?\n"
   ]
  },
  {
   "cell_type": "code",
   "execution_count": 98,
   "metadata": {},
   "outputs": [
    {
     "name": "stdout",
     "output_type": "stream",
     "text": [
      "if k= 3 the accurcy is 0.9621212121212122\n",
      "if k= 5 the accurcy is 0.9621212121212122\n",
      "if k= 7 the accurcy is 0.9545454545454546\n",
      "if k= 9 the accurcy is 0.9393939393939394\n",
      "if k= 11 the accurcy is 0.9015151515151515\n"
     ]
    },
    {
     "data": {
      "image/png": "[encoded data removed]",
      "text/plain": [
       "<Figure size 640x480 with 1 Axes>"
      ]
     },
     "metadata": {},
     "output_type": "display_data"
    }
   ],
   "source": [
    "df=pd.read_csv(\"NVDA_weekly_return_volatility.csv\")\n",
    "year=df['Year'].unique()\n",
    "Q1_label=[]\n",
    "yearly_mean=df.groupby('Year')['mean_return'].mean().values\n",
    "for i in range(len(year)):\n",
    "    for j in range(len(df)):\n",
    "        if df['Year'][j]==year[i] and df[\"mean_return\"][j]>yearly_mean[i]:\n",
    "            Q1_label.append('green')\n",
    "        elif df['Year'][j]==year[i]:\n",
    "            Q1_label.append('red')\n",
    "df['label']=Q1_label\n",
    "\n",
    "def Q1_KNN(Q1_data,n):\n",
    "    Q1_X=df[[\"mean_return\",\"volatility\"]]\n",
    "    Q1_y=df[\"label\"]\n",
    "    Q1_X_train, Q1_X_test, Q1_y_train, Q1_y_test = train_test_split(Q1_X, Q1_y, test_size = 0.5)\n",
    "    knn = KNeighborsClassifier(n_neighbors=n)\n",
    "    knn.fit(Q1_X_train, Q1_y_train)\n",
    "    return accuracy_score(Q1_y_test, knn.predict(Q1_X_test))\n",
    "df_q1_2017=df.loc[df['Year']==2017]\n",
    "df_q1_2018=df.loc[df['Year']==2018]\n",
    "k=[3,5,7,9,11]\n",
    "q1_acc=[]\n",
    "for i in k:\n",
    "    res=Q1_KNN(df_q1_2017,i)\n",
    "    q1_acc.append(res)\n",
    "    print(\"if k=\",i,'the accurcy is',res)\n",
    "plt.plot(k,q1_acc)\n",
    "plt.ylabel(\"accuracy\")\n",
    "plt.xlabel(\"k\")\n",
    "plt.show()\n"
   ]
  },
  {
   "cell_type": "markdown",
   "metadata": {},
   "source": [
    "Question#2. use the optimal value of k from year 1 to predict labels for year 2. What is your accuracy?"
   ]
  },
  {
   "cell_type": "code",
   "execution_count": 99,
   "metadata": {},
   "outputs": [
    {
     "name": "stdout",
     "output_type": "stream",
     "text": [
      "the accucry is 0.9245283018867925\n"
     ]
    }
   ],
   "source": [
    "Q2_X=df_q1_2017[[\"mean_return\",\"volatility\"]]\n",
    "Q2_y=df_q1_2017[\"label\"]\n",
    "knn = KNeighborsClassifier(n_neighbors=5)\n",
    "knn.fit(Q2_X, Q2_y)\n",
    "Q2_acc=accuracy_score(df_q1_2018['label'], knn.predict(df_q1_2018[[\"mean_return\",\"volatility\"]]))\n",
    "print('the accucry is',Q2_acc)"
   ]
  },
  {
   "cell_type": "markdown",
   "metadata": {},
   "source": [
    "Question#3. using the optimal value for k from year 1, compute the confusion matrix for year 2"
   ]
  },
  {
   "cell_type": "code",
   "execution_count": 100,
   "metadata": {},
   "outputs": [
    {
     "name": "stdout",
     "output_type": "stream",
     "text": [
      "the confusion matrix is\n",
      " [[25  4]\n",
      " [ 0 24]]\n"
     ]
    }
   ],
   "source": [
    "a= confusion_matrix(df_q1_2018['label'], knn.predict(df_q1_2018[[\"mean_return\",\"volatility\"]]))\n",
    "print('the confusion matrix is\\n',a)\n"
   ]
  },
  {
   "cell_type": "markdown",
   "metadata": {},
   "source": [
    "Question#4. what is true positive rate (sensitivity or recall) and true negative rate (specificity) for year 2?"
   ]
  },
  {
   "cell_type": "code",
   "execution_count": 101,
   "metadata": {},
   "outputs": [
    {
     "name": "stdout",
     "output_type": "stream",
     "text": [
      "true positive rate 1.0\n",
      "true negative rate 0.8620689655172413\n"
     ]
    }
   ],
   "source": [
    "Q4_TN, Q4_FP, Q4_FN, Q4_TP = confusion_matrix(df_q1_2018['label'], knn.predict(df_q1_2018[[\"mean_return\",\"volatility\"]])).ravel()\n",
    "Q4_TPR=Q4_TP/(Q4_TP+Q4_FN)\n",
    "Q4_TNR=Q4_TN/(Q4_TN+Q4_FP)\n",
    "print('true positive rate',Q4_TPR)\n",
    "print('true negative rate',Q4_TNR)"
   ]
  },
  {
   "cell_type": "markdown",
   "metadata": {},
   "source": [
    "Question#5. implement a trading strategy based on your labels for year 2 and compare the performance with the ”buy-and-hold” strategy. Which strategy results in a larger amount at the end of the year?"
   ]
  },
  {
   "cell_type": "code",
   "execution_count": null,
   "metadata": {},
   "outputs": [],
   "source": []
  }
 ],
 "metadata": {
  "kernelspec": {
   "display_name": "Python 3 (ipykernel)",
   "language": "python",
   "name": "python3"
  },
  "language_info": {
   "codemirror_mode": {
    "name": "ipython",
    "version": 3
   },
   "file_extension": ".py",
   "mimetype": "text/x-python",
   "name": "python",
   "nbconvert_exporter": "python",
   "pygments_lexer": "ipython3",
   "version": "3.9.7"
  },
  "vscode": {
   "interpreter": {
    "hash": "cb9806c24c91b3e4d18e5f3e793847aaaf5646eebdcfa376b540720de17b3c80"
   }
  }
 },
 "nbformat": 4,
 "nbformat_minor": 2
}
