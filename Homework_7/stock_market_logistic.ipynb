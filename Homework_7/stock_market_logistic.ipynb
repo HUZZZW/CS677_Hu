{
 "cells": [
  {
   "cell_type": "code",
   "execution_count": 26,
   "metadata": {},
   "outputs": [],
   "source": [
    "import pandas as pd\n",
    "import numpy as np\n",
    "import sklearn\n",
    "import matplotlib.pyplot as plt\n",
    "from sklearn.model_selection \\\n",
    "import train_test_split\n",
    "import seaborn as sns\n",
    "from sklearn.naive_bayes import GaussianNB\n",
    "from sklearn.linear_model import LogisticRegression\n",
    "from sklearn.preprocessing import StandardScaler , LabelEncoder\n",
    "from sklearn.neighbors import KNeighborsClassifier\n",
    "from sklearn.metrics import accuracy_score\n",
    "from sklearn.metrics import confusion_matrix"
   ]
  },
  {
   "cell_type": "markdown",
   "metadata": {},
   "source": [
    "Question#1. what is the equation for logistic regression that your classi- fier found from year 1 data?\n"
   ]
  },
  {
   "cell_type": "code",
   "execution_count": 27,
   "metadata": {},
   "outputs": [
    {
     "name": "stdout",
     "output_type": "stream",
     "text": [
      "[[-3.12922686 -0.0060517 ]]\n",
      "[0.77379469]\n",
      "the logistic regression is 1 / (1+e^-(0.77379469-3.12922686*X1+0.0060517*X2))\n"
     ]
    }
   ],
   "source": [
    "df=pd.read_csv(\"NVDA_weekly_return_volatility.csv\")\n",
    "year=df['Year'].unique()\n",
    "Q1_label=[]\n",
    "yearly_mean=df.groupby('Year')['mean_return'].mean().values\n",
    "for i in range(len(year)):\n",
    "    for j in range(len(df)):\n",
    "        if df['Year'][j]==year[i] and df[\"mean_return\"][j]>yearly_mean[i]:\n",
    "            Q1_label.append('green')\n",
    "        elif df['Year'][j]==year[i]:\n",
    "            Q1_label.append('red')\n",
    "df['label']=Q1_label\n",
    "Q1_X=df[df[\"Year\"]==2017][[\"mean_return\",\"volatility\"]]\n",
    "Q1_y=df[df[\"Year\"]==2017][\"label\"]\n",
    "Q1_log_reg_classifier = LogisticRegression()\n",
    "Q1_log_reg_classifier.fit(Q1_X, Q1_y)\n",
    "print(Q1_log_reg_classifier.coef_)\n",
    "print(Q1_log_reg_classifier.intercept_)\n",
    "print(\"the logistic regression is 1 / (1+e^-(0.77379469-3.12922686*X1+0.0060517*X2))\")"
   ]
  },
  {
   "cell_type": "markdown",
   "metadata": {},
   "source": [
    "Question#2. what is the accuracy for year 2?"
   ]
  },
  {
   "cell_type": "code",
   "execution_count": 28,
   "metadata": {},
   "outputs": [
    {
     "name": "stdout",
     "output_type": "stream",
     "text": [
      "the year2 accuracy is 0.8679245283018868\n"
     ]
    }
   ],
   "source": [
    "Q2_X=df.loc[df[\"Year\"]==2018][[\"mean_return\",\"volatility\"]]\n",
    "Q2_y=df.loc[df[\"Year\"]==2018][\"label\"]\n",
    "print(\"the year2 accuracy is\",accuracy_score(Q2_y, Q1_log_reg_classifier.predict(Q2_X)))"
   ]
  },
  {
   "cell_type": "markdown",
   "metadata": {},
   "source": [
    "Question#3. compute the confusion matrix for year 2"
   ]
  },
  {
   "cell_type": "code",
   "execution_count": 29,
   "metadata": {},
   "outputs": [
    {
     "name": "stdout",
     "output_type": "stream",
     "text": [
      "the confusion matrix is\n",
      " [[22  7]\n",
      " [ 0 24]]\n"
     ]
    }
   ],
   "source": [
    "a= confusion_matrix(Q2_y, Q1_log_reg_classifier.predict(Q2_X))\n",
    "print('the confusion matrix is\\n',a)"
   ]
  },
  {
   "cell_type": "markdown",
   "metadata": {},
   "source": [
    "Quetion#4. what is true positive rate (sensitivity or recall) and true negative rate (specificity) for year 2?"
   ]
  },
  {
   "cell_type": "code",
   "execution_count": 30,
   "metadata": {},
   "outputs": [
    {
     "name": "stdout",
     "output_type": "stream",
     "text": [
      "true positive rate 1.0\n",
      "true negative rate 0.7586206896551724\n"
     ]
    }
   ],
   "source": [
    "Q4_TN, Q4_FP, Q4_FN, Q4_TP = confusion_matrix(Q2_y, Q1_log_reg_classifier.predict(Q2_X)).ravel()\n",
    "Q4_TPR=Q4_TP/(Q4_TP+Q4_FN)\n",
    "Q4_TNR=Q4_TN/(Q4_TN+Q4_FP)\n",
    "print('true positive rate',Q4_TPR)\n",
    "print('true negative rate',Q4_TNR)"
   ]
  }
 ],
 "metadata": {
  "kernelspec": {
   "display_name": "Python 3 (ipykernel)",
   "language": "python",
   "name": "python3"
  },
  "language_info": {
   "codemirror_mode": {
    "name": "ipython",
    "version": 3
   },
   "file_extension": ".py",
   "mimetype": "text/x-python",
   "name": "python",
   "nbconvert_exporter": "python",
   "pygments_lexer": "ipython3",
   "version": "3.10.0 (v3.10.0:b494f5935c, Oct  4 2021, 14:59:19) [Clang 12.0.5 (clang-1205.0.22.11)]"
  },
  "vscode": {
   "interpreter": {
    "hash": "aee8b7b246df8f9039afb4144a1f6fd8d2ca17a180786b69acc140d282b71a49"
   }
  }
 },
 "nbformat": 4,
 "nbformat_minor": 2
}
