{
 "cells": [
  {
   "cell_type": "code",
   "execution_count": 162,
   "metadata": {},
   "outputs": [],
   "source": [
    "import pandas as pd\n",
    "import numpy as np\n",
    "import sklearn\n",
    "import matplotlib.pyplot as plt\n",
    "from sklearn.model_selection \\\n",
    "import train_test_split\n",
    "import seaborn as sns\n"
   ]
  },
  {
   "cell_type": "markdown",
   "metadata": {},
   "source": [
    "Question#1. for every year (out of 5 years), compute the number of days with positive and negative returns."
   ]
  },
  {
   "cell_type": "code",
   "execution_count": 163,
   "metadata": {},
   "outputs": [
    {
     "name": "stdout",
     "output_type": "stream",
     "text": [
      "Negative return data for NVDA Year\n",
      "2017    112\n",
      "2018    124\n",
      "2019    113\n",
      "2020    105\n",
      "2021    115\n",
      "Name: label, dtype: int64\n",
      "Positive return data for NVDA Year\n",
      "2017    138\n",
      "2018    127\n",
      "2019    138\n",
      "2020    148\n",
      "2021    135\n",
      "Name: label, dtype: int64\n"
     ]
    }
   ],
   "source": [
    "data=pd.read_csv(\"NVDA.csv\")\n",
    "label=[]\n",
    "for i in range(len(data)):\n",
    "    if data[\"Return\"][i]<0:\n",
    "        label.append(\"Negative\")\n",
    "    elif data[\"Return\"][i]>0:\n",
    "        label.append(\"Positive\")\n",
    "    else:\n",
    "        label.append(\"Nan\")\n",
    "data[\"label\"]=label\n",
    "#print(data)\n",
    "print(\"Negative return data for NVDA\",data.loc[data['label'] == \"Negative\"].groupby(['Year'])['label'].count())\n",
    "print(\"Positive return data for NVDA\",data.loc[data['label'] == \"Positive\"].groupby(['Year'])['label'].count())\n"
   ]
  },
  {
   "cell_type": "markdown",
   "metadata": {},
   "source": [
    "Question#2. for each year, compute the average of daily returns μ and compute the percentage of days with returns greater than μ and the proportion of days with returns less than μ. Are there more positive or negative return days? Does it change from year to year? Summarize your results for this question in a table for each year and discuss your findings. Your table should have the following format:"
   ]
  },
  {
   "cell_type": "code",
   "execution_count": 164,
   "metadata": {},
   "outputs": [
    {
     "data": {
      "text/html": [
       "<div>\n",
       "<style scoped>\n",
       "    .dataframe tbody tr th:only-of-type {\n",
       "        vertical-align: middle;\n",
       "    }\n",
       "\n",
       "    .dataframe tbody tr th {\n",
       "        vertical-align: top;\n",
       "    }\n",
       "\n",
       "    .dataframe thead th {\n",
       "        text-align: right;\n",
       "    }\n",
       "</style>\n",
       "<table border=\"1\" class=\"dataframe\">\n",
       "  <thead>\n",
       "    <tr style=\"text-align: right;\">\n",
       "      <th></th>\n",
       "      <th>Year</th>\n",
       "      <th>trading days</th>\n",
       "      <th>μ</th>\n",
       "      <th>days&lt;μ</th>\n",
       "      <th>days&gt;μ</th>\n",
       "    </tr>\n",
       "  </thead>\n",
       "  <tbody>\n",
       "    <tr>\n",
       "      <th>0</th>\n",
       "      <td>2017</td>\n",
       "      <td>251</td>\n",
       "      <td>0.002882</td>\n",
       "      <td>0.509960</td>\n",
       "      <td>0.490040</td>\n",
       "    </tr>\n",
       "    <tr>\n",
       "      <th>1</th>\n",
       "      <td>2018</td>\n",
       "      <td>251</td>\n",
       "      <td>-0.000973</td>\n",
       "      <td>0.470120</td>\n",
       "      <td>0.529880</td>\n",
       "    </tr>\n",
       "    <tr>\n",
       "      <th>2</th>\n",
       "      <td>2019</td>\n",
       "      <td>252</td>\n",
       "      <td>0.002595</td>\n",
       "      <td>0.484127</td>\n",
       "      <td>0.515873</td>\n",
       "    </tr>\n",
       "    <tr>\n",
       "      <th>3</th>\n",
       "      <td>2020</td>\n",
       "      <td>253</td>\n",
       "      <td>0.003828</td>\n",
       "      <td>0.505929</td>\n",
       "      <td>0.494071</td>\n",
       "    </tr>\n",
       "    <tr>\n",
       "      <th>4</th>\n",
       "      <td>2021</td>\n",
       "      <td>251</td>\n",
       "      <td>0.003666</td>\n",
       "      <td>0.525896</td>\n",
       "      <td>0.474104</td>\n",
       "    </tr>\n",
       "  </tbody>\n",
       "</table>\n",
       "</div>"
      ],
      "text/plain": [
       "   Year  trading days         μ    days<μ    days>μ\n",
       "0  2017           251  0.002882  0.509960  0.490040\n",
       "1  2018           251 -0.000973  0.470120  0.529880\n",
       "2  2019           252  0.002595  0.484127  0.515873\n",
       "3  2020           253  0.003828  0.505929  0.494071\n",
       "4  2021           251  0.003666  0.525896  0.474104"
      ]
     },
     "execution_count": 164,
     "metadata": {},
     "output_type": "execute_result"
    }
   ],
   "source": [
    "Q2_mu=[]\n",
    "Q3_std=[]\n",
    "year=data[\"Year\"].unique()\n",
    "Q2_label=[\"label_2017\", \"label_2018\", \"label_2019\", \"label_2020\", \"label_2021\"]\n",
    "for i in range(len(year)):\n",
    "    temp=data.loc[data[\"Year\"]==year[i]][\"Return\"].mean()\n",
    "    Q3_std.append(data.loc[data[\"Year\"]==year[i]][\"Return\"].std())\n",
    "    Q2_mu.append(temp)\n",
    "    data[Q2_label[i]]=data.loc[data['Year'] == year[i]][\"Return\"].apply(lambda x: \"Positive\" if x > temp else \"Negative\")\n",
    "Nega=[]\n",
    "Posi=[]\n",
    "trade_day=[]\n",
    "\n",
    "for i in range(len(year)):\n",
    "    Nega.append(data.loc[data[Q2_label[i]]==\"Negative\"][\"Year\"].count()/data.loc[data[\"Year\"]==year[i]][\"Year\"].count())\n",
    "    Posi.append(data.loc[data[Q2_label[i]]==\"Positive\"][\"Year\"].count()/data.loc[data[\"Year\"]==year[i]][\"Year\"].count())\n",
    "    trade_day.append(data.loc[data[\"Year\"]==year[i]][\"Year\"].count())\n",
    "#print(Nega,Posi)\n",
    "Q2res=pd.DataFrame({\"Year\":year,\n",
    "                'trading days':trade_day,\n",
    "                'μ':Q2_mu,\n",
    "                'days<μ':Nega,\n",
    "                'days>μ':Posi})\n",
    "Q2res"
   ]
  },
  {
   "cell_type": "markdown",
   "metadata": {},
   "source": [
    "Quetion#3. for every year, compute the mean and standard deviation of your daily returns. Compute the number of days that your (by absolute value) returns are more than 2 standard deviations from the mean. In other words, if μ = 5 and σ = 2, compute the number of days that your (percent) daily returns are less than 1 (5 - 2*2) or more than 9 (5 + 2*2). The number of such days per year predicted by normal distribution is less than 5% (out of 252 trading days) - 2.5% below μ−2σ and 2.5% above μ+2σ."
   ]
  },
  {
   "cell_type": "code",
   "execution_count": 165,
   "metadata": {},
   "outputs": [
    {
     "name": "stdout",
     "output_type": "stream",
     "text": [
      "[0.027888446215139442, 0.0398406374501992, 0.023809523809523808, 0.023715415019762844, 0.0199203187250996] [0.01593625498007968, 0.01195219123505976, 0.03571428571428571, 0.015810276679841896, 0.027888446215139442]\n"
     ]
    }
   ],
   "source": [
    "Q3_Nage=[]\n",
    "Q3_Posi=[]\n",
    "Q3_Na_label=[\"Q3_Na_label_2017\", \"Q3_Na_label_2018\", \"Q3_Na_label_2019\", \"Q3_Na_label_2020\", \"Q3_Na_label_2021\"]\n",
    "Q3_Po_label=[\"Q3_Po_label_2017\", \"Q3_Po_label_2018\", \"Q3_Po_label_2019\", \"Q3_Po_label_2020\", \"Q3_Po_label_2021\"]\n",
    "for i in range(len(year)):\n",
    "    Q3_Nage.append(Q2_mu[i]-(Q3_std[i]*2))\n",
    "    Q3_Posi.append(Q2_mu[i]+(Q3_std[i]*2))\n",
    "for i in range(len(year)):\n",
    "    data[Q3_Po_label[i]]=data.loc[data['Year'] == year[i]][\"Return\"].apply(lambda x: \"Positive\" if x > Q3_Posi[i] else 0)\n",
    "    data[Q3_Na_label[i]]=data.loc[data['Year'] == year[i]][\"Return\"].apply(lambda x: \"Nagetive\" if x < Q3_Nage[i] else 0)\n",
    "\n",
    "\n",
    "Q3_res_nage=[]\n",
    "Q3_res_posi=[]\n",
    "for i in range(len(year)):\n",
    "    Q3_res_nage.append(data.loc[data[Q3_Na_label[i]]==\"Nagetive\"][\"Year\"].count()/data.loc[data[\"Year\"]==year[i]][\"Year\"].count())\n",
    "    Q3_res_posi.append(data.loc[data[Q3_Po_label[i]]==\"Positive\"][\"Year\"].count()/data.loc[data[\"Year\"]==year[i]][\"Year\"].count())\n",
    "print(Q3_res_nage,Q3_res_posi)\n",
    "\n",
    "data.to_csv(\"Q3.csv\")"
   ]
  },
  {
   "cell_type": "markdown",
   "metadata": {},
   "source": [
    "Question#4. Summarize your findings in a table for each year and discuss your findings"
   ]
  },
  {
   "cell_type": "code",
   "execution_count": 166,
   "metadata": {},
   "outputs": [
    {
     "data": {
      "text/html": [
       "<div>\n",
       "<style scoped>\n",
       "    .dataframe tbody tr th:only-of-type {\n",
       "        vertical-align: middle;\n",
       "    }\n",
       "\n",
       "    .dataframe tbody tr th {\n",
       "        vertical-align: top;\n",
       "    }\n",
       "\n",
       "    .dataframe thead th {\n",
       "        text-align: right;\n",
       "    }\n",
       "</style>\n",
       "<table border=\"1\" class=\"dataframe\">\n",
       "  <thead>\n",
       "    <tr style=\"text-align: right;\">\n",
       "      <th></th>\n",
       "      <th>Year</th>\n",
       "      <th>trading days</th>\n",
       "      <th>μ</th>\n",
       "      <th>σ</th>\n",
       "      <th>days&lt;μ−2σ</th>\n",
       "      <th>days&gt;μ+2σ</th>\n",
       "    </tr>\n",
       "  </thead>\n",
       "  <tbody>\n",
       "    <tr>\n",
       "      <th>0</th>\n",
       "      <td>2017</td>\n",
       "      <td>251</td>\n",
       "      <td>0.002882</td>\n",
       "      <td>0.025267</td>\n",
       "      <td>0.027888</td>\n",
       "      <td>0.015936</td>\n",
       "    </tr>\n",
       "    <tr>\n",
       "      <th>1</th>\n",
       "      <td>2018</td>\n",
       "      <td>251</td>\n",
       "      <td>-0.000973</td>\n",
       "      <td>0.030983</td>\n",
       "      <td>0.039841</td>\n",
       "      <td>0.011952</td>\n",
       "    </tr>\n",
       "    <tr>\n",
       "      <th>2</th>\n",
       "      <td>2019</td>\n",
       "      <td>252</td>\n",
       "      <td>0.002595</td>\n",
       "      <td>0.025578</td>\n",
       "      <td>0.023810</td>\n",
       "      <td>0.035714</td>\n",
       "    </tr>\n",
       "    <tr>\n",
       "      <th>3</th>\n",
       "      <td>2020</td>\n",
       "      <td>253</td>\n",
       "      <td>0.003828</td>\n",
       "      <td>0.036422</td>\n",
       "      <td>0.023715</td>\n",
       "      <td>0.015810</td>\n",
       "    </tr>\n",
       "    <tr>\n",
       "      <th>4</th>\n",
       "      <td>2021</td>\n",
       "      <td>251</td>\n",
       "      <td>0.003666</td>\n",
       "      <td>0.028390</td>\n",
       "      <td>0.019920</td>\n",
       "      <td>0.027888</td>\n",
       "    </tr>\n",
       "  </tbody>\n",
       "</table>\n",
       "</div>"
      ],
      "text/plain": [
       "   Year  trading days         μ         σ  days<μ−2σ  days>μ+2σ\n",
       "0  2017           251  0.002882  0.025267   0.027888   0.015936\n",
       "1  2018           251 -0.000973  0.030983   0.039841   0.011952\n",
       "2  2019           252  0.002595  0.025578   0.023810   0.035714\n",
       "3  2020           253  0.003828  0.036422   0.023715   0.015810\n",
       "4  2021           251  0.003666  0.028390   0.019920   0.027888"
      ]
     },
     "execution_count": 166,
     "metadata": {},
     "output_type": "execute_result"
    }
   ],
   "source": [
    "Q3res=pd.DataFrame({\"Year\":year,\n",
    "                'trading days':trade_day,\n",
    "                'μ':Q2_mu,\n",
    "                \"σ\":Q3_std,\n",
    "                'days<μ−2σ':Q3_res_nage,\n",
    "                'days>μ+2σ':Q3_res_posi})\n",
    "Q3res"
   ]
  }
 ],
 "metadata": {
  "kernelspec": {
   "display_name": "Python 3 (ipykernel)",
   "language": "python",
   "name": "python3"
  },
  "language_info": {
   "codemirror_mode": {
    "name": "ipython",
    "version": 3
   },
   "file_extension": ".py",
   "mimetype": "text/x-python",
   "name": "python",
   "nbconvert_exporter": "python",
   "pygments_lexer": "ipython3",
   "version": "3.9.7"
  },
  "vscode": {
   "interpreter": {
    "hash": "aee8b7b246df8f9039afb4144a1f6fd8d2ca17a180786b69acc140d282b71a49"
   }
  }
 },
 "nbformat": 4,
 "nbformat_minor": 2
}
