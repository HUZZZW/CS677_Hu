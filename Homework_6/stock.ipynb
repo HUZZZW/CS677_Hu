{
 "cells": [
  {
   "cell_type": "markdown",
   "metadata": {},
   "source": [
    "Question#1. take year 1 and examine the plot of your labels. Construct a reduced dataset by removing some green and red points so thatyou can draw a line separating the points. Compute the equation of such a line (many solutiuons are possible)\n"
   ]
  },
  {
   "cell_type": "code",
   "execution_count": 58,
   "metadata": {},
   "outputs": [
    {
     "name": "stdout",
     "output_type": "stream",
     "text": [
      "     Year  Week_Number  mean_return  volatility\n",
      "52   2018            0      0.76600    0.369974\n",
      "53   2018            1      0.32060    0.832617\n",
      "54   2018            2      0.11900    1.415193\n",
      "55   2018            3      0.88960    0.890441\n",
      "56   2018            4     -0.47540    1.871303\n",
      "57   2018            5     -0.72440    4.256168\n",
      "58   2018            6      0.95060    1.044823\n",
      "59   2018            7      0.56450    1.593698\n",
      "60   2018            8     -0.21120    1.086412\n",
      "61   2018            9      0.74240    0.929728\n",
      "62   2018           10     -0.39920    1.212748\n",
      "63   2018           11     -1.61280    1.390139\n",
      "64   2018           12      1.24725    5.054742\n",
      "65   2018           13     -0.20420    2.481235\n",
      "66   2018           14      0.63260    1.479650\n",
      "67   2018           15      0.41540    1.242980\n",
      "68   2018           16      0.18520    1.829708\n",
      "69   2018           17     -0.12540    1.756984\n",
      "70   2018           18      0.53080    0.782874\n",
      "71   2018           19     -0.18780    0.624422\n",
      "72   2018           20      0.41420    0.767087\n",
      "73   2018           21      0.61625    1.069643\n",
      "74   2018           22      0.17000    0.998158\n",
      "75   2018           23     -0.29500    0.724619\n",
      "76   2018           24      0.05820    0.798730\n",
      "77   2018           25     -0.35340    1.376620\n",
      "78   2018           26      0.64500    1.118987\n",
      "79   2018           27      0.83340    0.893494\n",
      "80   2018           28      0.16420    1.159775\n",
      "81   2018           29      0.27900    1.952285\n",
      "82   2018           30      0.07380    1.296973\n",
      "83   2018           31      0.17800    0.510863\n",
      "84   2018           32     -0.18160    0.969596\n",
      "85   2018           33      0.15480    0.847951\n",
      "86   2018           34      0.71640    0.649555\n",
      "87   2018           35     -0.92275    1.353369\n",
      "88   2018           36      0.93700    0.540086\n",
      "89   2018           37      0.16340    1.313901\n",
      "90   2018           38      0.01960    0.345000\n",
      "91   2018           39     -0.38980    1.138941\n",
      "92   2018           40     -0.41660    3.300829\n",
      "93   2018           41     -0.14960    2.072453\n",
      "94   2018           42     -0.24860    4.083815\n",
      "95   2018           43     -0.13220    2.117954\n",
      "96   2018           44      0.65280    2.171354\n",
      "97   2018           45     -0.13500    1.852363\n",
      "98   2018           46     -1.20850    2.256683\n",
      "99   2018           47      1.48820    1.943603\n",
      "100  2018           48     -1.37200    2.593717\n",
      "101  2018           49      0.24740    2.099191\n",
      "102  2018           50     -1.50260    1.837873\n",
      "103  2018           51      0.62325    4.601512\n",
      "104  2018           52      1.17500    0.000000\n"
     ]
    }
   ],
   "source": [
    "import pandas as pd\n",
    "import numpy as np\n",
    "\n",
    "import matplotlib.pyplot as plt\n",
    "df=pd.read_csv(\"NVDA_weekly_return_volatility.csv\")\n",
    "df_2017=df.loc[df[\"Year\"]==2017,:]\n",
    "df_2018=df.loc[df[\"Year\"]==2018,:]\n",
    "print(df_2018)"
   ]
  },
  {
   "cell_type": "markdown",
   "metadata": {},
   "source": [
    "Question#1. take year 1 and examine the plot of your labels. Construct a reduced dataset by removing some green and red points so thatyou can draw a line separating the points. Compute the equation of such a line (many solutiuons are possible)\n"
   ]
  },
  {
   "cell_type": "code",
   "execution_count": 59,
   "metadata": {},
   "outputs": [
    {
     "name": "stderr",
     "output_type": "stream",
     "text": [
      "/var/folders/by/3jf2bh0x2ks63rycd0ctbzsh0000gn/T/ipykernel_4915/4058242621.py:9: SettingWithCopyWarning: \n",
      "A value is trying to be set on a copy of a slice from a DataFrame.\n",
      "Try using .loc[row_indexer,col_indexer] = value instead\n",
      "\n",
      "See the caveats in the documentation: https://pandas.pydata.org/pandas-docs/stable/user_guide/indexing.html#returning-a-view-versus-a-copy\n",
      "  df_2017[\"label\"]=Q1_label\n"
     ]
    },
    {
     "data": {
      "image/png": "[encoded data removed]",
      "text/plain": [
       "<Figure size 640x480 with 1 Axes>"
      ]
     },
     "metadata": {},
     "output_type": "display_data"
    }
   ],
   "source": [
    "Q1_label=[]\n",
    "for i in range(len(df_2017)):\n",
    "    if df_2017[\"mean_return\"][i]>0:\n",
    "        Q1_label.append(\"green\")\n",
    "    elif df_2017[\"mean_return\"][i]<0:\n",
    "        Q1_label.append(\"red\")\n",
    "    else:\n",
    "        Q1_label.append(\"no change\")\n",
    "df_2017[\"label\"]=Q1_label\n",
    "#print(df_2017)\n",
    "df_green=df_2017.loc[(df_2017[\"label\"]==\"green\"), :]\n",
    "df_red=df_2017.loc[(df_2017[\"label\"]==\"red\"), :]\n",
    "#print(df_green)\n",
    "plt.plot(df_green[\"mean_return\"],df_green[\"volatility\"],'o',markersize=4.,color=(0.8,0.,0.))\n",
    "plt.scatter(df_red[\"mean_return\"],df_red[\"volatility\"],s=16.,color=(0.,0.5,0.))\n",
    "plt.axvline(0)\n",
    "plt.show()"
   ]
  },
  {
   "cell_type": "markdown",
   "metadata": {},
   "source": [
    "\n",
    "Question#2. take this line and use it to assign labels for year 2"
   ]
  },
  {
   "cell_type": "code",
   "execution_count": 60,
   "metadata": {},
   "outputs": [
    {
     "name": "stderr",
     "output_type": "stream",
     "text": [
      "/var/folders/by/3jf2bh0x2ks63rycd0ctbzsh0000gn/T/ipykernel_4915/1703682851.py:9: SettingWithCopyWarning: \n",
      "A value is trying to be set on a copy of a slice from a DataFrame.\n",
      "Try using .loc[row_indexer,col_indexer] = value instead\n",
      "\n",
      "See the caveats in the documentation: https://pandas.pydata.org/pandas-docs/stable/user_guide/indexing.html#returning-a-view-versus-a-copy\n",
      "  df_2018[\"label\"]=Q2_label\n"
     ]
    },
    {
     "data": {
      "image/png": "[encoded data removed]",
      "text/plain": [
       "<Figure size 640x480 with 1 Axes>"
      ]
     },
     "metadata": {},
     "output_type": "display_data"
    }
   ],
   "source": [
    "Q2_label=[]\n",
    "for i in range(len(df_2018)):\n",
    "    if df_2018[\"mean_return\"][i+52]>0:\n",
    "        Q2_label.append(\"green\")\n",
    "    elif df_2018[\"mean_return\"][i+52]<0:\n",
    "        Q2_label.append(\"red\")\n",
    "    else:\n",
    "        Q2_label.append(\"no change\")\n",
    "df_2018[\"label\"]=Q2_label\n",
    "df_green_Q2=df_2018.loc[(df_2018[\"label\"]==\"green\"), :]\n",
    "df_red_Q2=df_2018.loc[(df_2018[\"label\"]==\"red\"), :]\n",
    "#print(df_green)\n",
    "plt.plot(df_green_Q2[\"mean_return\"],df_green_Q2[\"volatility\"],'o',markersize=4.,color=(0.8,0.,0.))\n",
    "plt.scatter(df_red_Q2[\"mean_return\"],df_red_Q2[\"volatility\"],s=16.,color=(0.,0.5,0.))\n",
    "plt.axvline(0)\n",
    "plt.show()"
   ]
  },
  {
   "cell_type": "markdown",
   "metadata": {},
   "source": [
    "Question#3 implement a trading strategy based on your labels for year 2."
   ]
  },
  {
   "cell_type": "code",
   "execution_count": null,
   "metadata": {},
   "outputs": [],
   "source": []
  }
 ],
 "metadata": {
  "kernelspec": {
   "display_name": "Python 3 (ipykernel)",
   "language": "python",
   "name": "python3"
  },
  "language_info": {
   "codemirror_mode": {
    "name": "ipython",
    "version": 3
   },
   "file_extension": ".py",
   "mimetype": "text/x-python",
   "name": "python",
   "nbconvert_exporter": "python",
   "pygments_lexer": "ipython3",
   "version": "3.9.7"
  },
  "vscode": {
   "interpreter": {
    "hash": "cb9806c24c91b3e4d18e5f3e793847aaaf5646eebdcfa376b540720de17b3c80"
   }
  }
 },
 "nbformat": 4,
 "nbformat_minor": 2
}
