{
 "cells": [
  {
   "cell_type": "code",
   "execution_count": 10,
   "metadata": {},
   "outputs": [],
   "source": [
    "import pandas as pd\n",
    "import numpy as np\n",
    "import sklearn\n",
    "import matplotlib.pyplot as plt\n",
    "from sklearn.model_selection import train_test_split\n",
    "import seaborn as sns\n",
    "from sklearn.linear_model import LogisticRegression\n",
    "from sklearn.preprocessing import StandardScaler , LabelEncoder\n",
    "from sklearn.neighbors import KNeighborsClassifier\n",
    "from sklearn.metrics import accuracy_score\n",
    "from sklearn.metrics import confusion_matrix\n",
    "from sklearn.linear_model import LinearRegression\n",
    "from sklearn.preprocessing import LabelEncoder\n",
    "import warnings\n",
    "warnings.filterwarnings('ignore')"
   ]
  },
  {
   "cell_type": "code",
   "execution_count": 11,
   "metadata": {},
   "outputs": [],
   "source": [
    "df=pd.read_csv(\"NVDA_weekly_return_volatility.csv\")\n",
    "year=df['Year'].unique()\n",
    "Q1_label=[]\n",
    "yearly_mean=df.groupby('Year')['mean_return'].mean().values\n",
    "for i in range(len(year)):\n",
    "    for j in range(len(df)):\n",
    "        if df['Year'][j]==year[i] and df[\"mean_return\"][j]>yearly_mean[i]:\n",
    "            Q1_label.append('green')\n",
    "        elif df['Year'][j]==year[i]:\n",
    "            Q1_label.append('red')\n",
    "df['label']=Q1_label\n",
    "Q1_X=df[df[\"Year\"]==2017][[\"mean_return\",\"volatility\"]]\n",
    "Q1_y=df[df[\"Year\"]==2017][\"label\"]\n",
    "Q2_X=df.loc[df[\"Year\"]==2018][[\"mean_return\",\"volatility\"]]\n",
    "Q2_y=df.loc[df[\"Year\"]==2018][\"label\"]\n"
   ]
  },
  {
   "cell_type": "markdown",
   "metadata": {},
   "source": [
    "1. implement a decision tree and compute its accuracy for year 2"
   ]
  },
  {
   "cell_type": "code",
   "execution_count": 12,
   "metadata": {},
   "outputs": [
    {
     "data": {
      "text/plain": [
       "0.9811320754716981"
      ]
     },
     "execution_count": 12,
     "metadata": {},
     "output_type": "execute_result"
    }
   ],
   "source": [
    "from sklearn import tree\n",
    "clf = tree.DecisionTreeClassifier(criterion = 'entropy')\n",
    "clf = clf.fit(Q1_X, Q1_y)\n",
    "#implement a decision tree and compute its accuracy for year 2\n",
    "y_pred=clf.predict(Q2_X)\n",
    "accuracy_score(Q2_y,y_pred)\n"
   ]
  },
  {
   "cell_type": "markdown",
   "metadata": {},
   "source": [
    "2. compute the confusion matrix for year 2"
   ]
  },
  {
   "cell_type": "code",
   "execution_count": 13,
   "metadata": {},
   "outputs": [
    {
     "name": "stdout",
     "output_type": "stream",
     "text": [
      "the matrix for year 2 is :\n",
      " [[28  1]\n",
      " [ 0 24]]\n"
     ]
    }
   ],
   "source": [
    "print(\"the matrix for year 2 is :\\n\",confusion_matrix(Q2_y,y_pred))"
   ]
  },
  {
   "cell_type": "markdown",
   "metadata": {},
   "source": [
    "3. what is true positive rate and true negative rate for year 2?"
   ]
  },
  {
   "cell_type": "code",
   "execution_count": 14,
   "metadata": {},
   "outputs": [
    {
     "name": "stdout",
     "output_type": "stream",
     "text": [
      "the true positive rate for year 2 is : 0.9655172413793104\n",
      "the true negative rate for year 2 is : 1.0\n"
     ]
    }
   ],
   "source": [
    "# what is true positive rate and true negative rate for year 2?\n",
    "# true positive rate\n",
    "TPR=confusion_matrix(Q2_y,y_pred)[0][0]/(confusion_matrix(Q2_y,y_pred)[0][0]+confusion_matrix(Q2_y,y_pred)[0][1])\n",
    "print(\"the true positive rate for year 2 is :\",TPR)\n",
    "# true negative rate\n",
    "TNR=confusion_matrix(Q2_y,y_pred)[1][1]/(confusion_matrix(Q2_y,y_pred)[1][0]+confusion_matrix(Q2_y,y_pred)[1][1])\n",
    "print(\"the true negative rate for year 2 is :\",TNR)\n"
   ]
  },
  {
   "cell_type": "markdown",
   "metadata": {},
   "source": [
    "4. implement a trading strategy based on your labels for year 2 and compare the performance with the ”buy-and-hold” strategy. Which strategy results in a larger amount at the end of the year?"
   ]
  },
  {
   "cell_type": "code",
   "execution_count": 16,
   "metadata": {},
   "outputs": [
    {
     "name": "stdout",
     "output_type": "stream",
     "text": [
      "the amount of buy and hold strategy is : 11007.201951211806\n",
      "the amount of trading strategy is : 10825.868651302488\n"
     ]
    }
   ],
   "source": [
    "#implement a trading strategy based on your labels for year 2 and compare the performance with the ”buy-and-hold” strategy. Which strategy results in a larger amount at the end of the year?\n",
    "# buy and hold strategy\n",
    "buy_and_hold=100\n",
    "for i in range(len(Q2_y)):\n",
    "    if Q2_y.iloc[i]==\"green\":\n",
    "        buy_and_hold=buy_and_hold*(1+df[\"mean_return\"][i])\n",
    "print(\"the amount of buy and hold strategy is :\",buy_and_hold)\n",
    "# trading strategy\n",
    "trading_strategy=100\n",
    "for i in range(len(y_pred)):\n",
    "    if y_pred[i]==\"green\":\n",
    "        trading_strategy=trading_strategy*(1+df[\"mean_return\"][i])\n",
    "print(\"the amount of trading strategy is :\",trading_strategy)\n",
    "\n"
   ]
  }
 ],
 "metadata": {
  "kernelspec": {
   "display_name": "Python 3 (ipykernel)",
   "language": "python",
   "name": "python3"
  },
  "language_info": {
   "codemirror_mode": {
    "name": "ipython",
    "version": 3
   },
   "file_extension": ".py",
   "mimetype": "text/x-python",
   "name": "python",
   "nbconvert_exporter": "python",
   "pygments_lexer": "ipython3",
   "version": "3.9.7"
  },
  "vscode": {
   "interpreter": {
    "hash": "cb9806c24c91b3e4d18e5f3e793847aaaf5646eebdcfa376b540720de17b3c80"
   }
  }
 },
 "nbformat": 4,
 "nbformat_minor": 2
}
