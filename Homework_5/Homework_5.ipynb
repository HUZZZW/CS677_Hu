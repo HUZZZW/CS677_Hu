{
 "cells": [
  {
   "cell_type": "code",
   "execution_count": 78,
   "metadata": {},
   "outputs": [],
   "source": [
    "import pandas as pd \n",
    "import numpy as np\n",
    "import matplotlib.pyplot as plt\n",
    "from sklearn.model_selection \\\n",
    "import train_test_split\n",
    "import seaborn as sns\n",
    "\n",
    "#import prettytable as pt"
   ]
  },
  {
   "cell_type": "code",
   "execution_count": 79,
   "metadata": {},
   "outputs": [],
   "source": [
    "url = r\"https://archive.ics.uci.edu/ml/\" \\\n",
    "    + r\"machine-learning-databases/iris/iris.data\"\n",
    "data = pd.read_csv(url, names=[ \"sepal -length\", \"sepal -width\", \"petal -length\", \"petal -width\",\n",
    "\"Class\"])\n",
    "\n",
    "#data.to_csv(\"iris_data.csv\")"
   ]
  },
  {
   "cell_type": "markdown",
   "metadata": {},
   "source": [
    "<mark><font color=red size=4 face=SimHei>Question# 1.1 download IRIS dataset, remove Setosa flowers and assign labels 0 to to Versicolor and 1 to Virginica.<font><mark>\n"
   ]
  },
  {
   "cell_type": "code",
   "execution_count": 80,
   "metadata": {},
   "outputs": [],
   "source": [
    "a=list(range(0,50))\n",
    "data.drop(index=a,inplace=True)\n",
    "label=[]\n",
    "#print(data.index)\n",
    "for i in range(len(data)):\n",
    "    if data[\"Class\"][i+50]==\"Iris-versicolor\":\n",
    "        label.append(0)\n",
    "    elif data[\"Class\"][i+50]==\"Iris-virginica\":\n",
    "        label.append(1)\n",
    "#print(label)\n",
    "data[\"label\"]=label\n",
    "Q5_data= pd.read_csv(url, names=[ \"sepal -length\", \"sepal -width\", \"petal -length\", \"petal -width\",\n",
    "\"Class\"])\n",
    "Q5_data.drop(index=a,inplace=True)\n",
    "label=[]\n",
    "#print(data.index)\n",
    "for i in range(len(Q5_data)):\n",
    "    if Q5_data[\"Class\"][i+50]==\"Iris-versicolor\":\n",
    "        label.append(0)\n",
    "    elif Q5_data[\"Class\"][i+50]==\"Iris-virginica\":\n",
    "        label.append(1)\n",
    "#print(label)\n",
    "Q5_data[\"label\"]=label\n",
    "\n",
    "# data[\"Class\"]=data[\"Class\"].replace(\"Iris-versicolor\",0)\n",
    "# data[\"Class\"]=data[\"Class\"].replace(\"Iris-virginica\",1)\n",
    "#data.to_csv(\"iris_data1.csv\")\n"
   ]
  },
  {
   "cell_type": "markdown",
   "metadata": {},
   "source": [
    "<mark><font color=red size=4 face=SimHei>Question#1.2 for each label and feature compute statistical averages (from training set!) and put them in the following table:<font><mark>"
   ]
  },
  {
   "cell_type": "code",
   "execution_count": 81,
   "metadata": {},
   "outputs": [
    {
     "name": "stdout",
     "output_type": "stream",
     "text": [
      "       Feature     μ0        σ0     μ1        σ1   μall      σall\n",
      "0  Petal Lengh  4.260  0.469911  5.552  0.551895  4.906  0.551895\n",
      "1  Petal Width  1.326  0.197753  2.026  0.274650  1.676  0.274650\n",
      "2  Sepal Lengh  5.936  0.516171  6.588  0.635880  6.262  0.635880\n",
      "3  Sepal Width  2.770  0.313798  2.974  0.322497  2.872  0.322497\n"
     ]
    }
   ],
   "source": [
    "#versicolor_mean=data['petal -length'].loc[data['label'] == 0].mean()\n",
    "mean_0=[]\n",
    "mean_0.append(data.loc[(data[\"label\"]==0),:][\"petal -length\"].mean())\n",
    "mean_0.append(data.loc[(data[\"label\"]==0),:][\"petal -width\"].mean())\n",
    "mean_0.append(data.loc[(data[\"label\"]==0),:][\"sepal -length\"].mean())\n",
    "mean_0.append(data.loc[(data[\"label\"]==0),:][\"sepal -width\"].mean())\n",
    "sd_0=[]\n",
    "sd_0.append(data.loc[(data[\"label\"]==0),:][\"petal -length\"].std())\n",
    "sd_0.append(data.loc[(data[\"label\"]==0),:][\"petal -width\"].std())\n",
    "sd_0.append(data.loc[(data[\"label\"]==0),:][\"sepal -length\"].std())\n",
    "sd_0.append(data.loc[(data[\"label\"]==0),:][\"sepal -width\"].std())\n",
    "mean_1=[]\n",
    "mean_1.append(data.loc[(data[\"label\"]==1),:][\"petal -length\"].mean())\n",
    "mean_1.append(data.loc[(data[\"label\"]==1),:][\"petal -width\"].mean())\n",
    "mean_1.append(data.loc[(data[\"label\"]==1),:][\"sepal -length\"].mean())\n",
    "mean_1.append(data.loc[(data[\"label\"]==1),:][\"sepal -width\"].mean())\n",
    "sd_1=[]\n",
    "sd_1.append(data.loc[(data[\"label\"]==1),:][\"petal -length\"].std())\n",
    "sd_1.append(data.loc[(data[\"label\"]==1),:][\"petal -width\"].std())\n",
    "sd_1.append(data.loc[(data[\"label\"]==1),:][\"sepal -length\"].std())\n",
    "sd_1.append(data.loc[(data[\"label\"]==1),:][\"sepal -width\"].std())\n",
    "mean_all=[]\n",
    "mean_all.append(data[\"petal -length\"].mean())\n",
    "mean_all.append(data[\"petal -width\"].mean())\n",
    "mean_all.append(data[\"sepal -length\"].mean())\n",
    "mean_all.append(data[\"sepal -width\"].mean())\n",
    "sd_all=[]\n",
    "sd_all.append(data.loc[(data[\"label\"]==1),:][\"petal -length\"].std())\n",
    "sd_all.append(data.loc[(data[\"label\"]==1),:][\"petal -width\"].std())\n",
    "sd_all.append(data.loc[(data[\"label\"]==1),:][\"sepal -length\"].std())\n",
    "sd_all.append(data.loc[(data[\"label\"]==1),:][\"sepal -width\"].std())\n",
    "Q1_d={\"Feature\":pd.Series([\"Petal Lengh\",\"Petal Width\",\"Sepal Lengh\",\"Sepal Width\"]),\n",
    "      \"μ0\":pd.Series(mean_0),\n",
    "      \"σ0\":pd.Series(sd_0),\n",
    "      \"μ1\":pd.Series(mean_1),\n",
    "      \"σ1\":pd.Series(sd_1),\n",
    "      \"μall\":pd.Series(mean_all),\n",
    "      \"σall\":pd.Series(sd_all)}\n",
    "Q1_df=pd.DataFrame(Q1_d)\n",
    "print(Q1_df)\n",
    "\n"
   ]
  },
  {
   "cell_type": "markdown",
   "metadata": {},
   "source": [
    "<mark><font color=red size=4 face=SimHei> Question# 1.3 for each class, compute the correlation matrix for your 4 features. Which features have the highest and lowest cor- relations?<font><mark>"
   ]
  },
  {
   "cell_type": "code",
   "execution_count": 82,
   "metadata": {},
   "outputs": [
    {
     "name": "stdout",
     "output_type": "stream",
     "text": [
      "            μ0        σ0        μ1        σ1      μall      σall\n",
      "μ0    1.000000  0.975090  0.979489  0.967863  0.994450  0.967863\n",
      "σ0    0.975090  1.000000  0.987055  0.974510  0.986369  0.974510\n",
      "μ1    0.979489  0.987055  1.000000  0.997539  0.995253  0.997539\n",
      "σ1    0.967863  0.974510  0.997539  1.000000  0.988352  1.000000\n",
      "μall  0.994450  0.986369  0.995253  0.988352  1.000000  0.988352\n",
      "σall  0.967863  0.974510  0.997539  1.000000  0.988352  1.000000\n"
     ]
    }
   ],
   "source": [
    "corrM=Q1_df.corr()\n",
    "print(corrM)"
   ]
  },
  {
   "cell_type": "markdown",
   "metadata": {},
   "source": [
    "<mark><font color=red size=4 face=SimHei> Question#1.4 discuss your findings<font><mark>"
   ]
  },
  {
   "cell_type": "markdown",
   "metadata": {},
   "source": [
    "petel lengh and petal width is more important for fianl result"
   ]
  },
  {
   "cell_type": "markdown",
   "metadata": {},
   "source": [
    "<mark><font color=red size=4 face=SimHei> Question#2.1generate histograms of pairwise relationships for a train- ing set (include these histograms in submitted homework). X rain. You can use ”pairplot” method of the seaborn package: <font><mark>"
   ]
  },
  {
   "cell_type": "code",
   "execution_count": 83,
   "metadata": {},
   "outputs": [
    {
     "data": {
      "image/png": "[encoded data removed]",
      "text/plain": [
       "<Figure size 1000x1000 with 20 Axes>"
      ]
     },
     "metadata": {},
     "output_type": "display_data"
    }
   ],
   "source": [
    "X = data[[\"sepal -length\",\"sepal -width\",\"petal -length\",\"petal -width\"]]\n",
    "y = data[\"label\"]\n",
    "X_train,X_test,y_train,y_test=train_test_split(X, y, train_size=0.5)\n",
    "features = [\"sepal -length\", \"sepal -width\",\n",
    "\"petal -length\", \"petal -width\"]\n",
    "pair_plot = sns.pairplot(X_train[features])\n",
    "plt.show()"
   ]
  },
  {
   "cell_type": "markdown",
   "metadata": {},
   "source": [
    "<mark><font color=red size=4 face=SimHei>Question#2.2 examine the histograms and for each feature design a simple classifier (”weak learner”) for labels. Your classifier can only consist of simple comparison using that single feature. For example,<font><mark>"
   ]
  },
  {
   "cell_type": "code",
   "execution_count": 84,
   "metadata": {},
   "outputs": [
    {
     "name": "stdout",
     "output_type": "stream",
     "text": [
      "    Classifier  TP  TN  FP  FN   ACC\n",
      "0  Petal Lengh  24  22   0   4  0.92\n",
      "1  Petal Width  27  21   1   1  0.96\n",
      "2  Sepal Lengh  15  21   1  13  0.72\n",
      "3  Sepal Width  16  17   5  12  0.66\n"
     ]
    }
   ],
   "source": [
    "from socket import TCP_NOTSENT_LOWAT\n",
    "\n",
    "X_test[\"sepal_length_label\"]=X_test[\"sepal -length\"].apply(lambda x: 1 if x>data[\"sepal -length\"].median() else 0)\n",
    "X_test[\"sepal_width_label\"]=X_test[\"sepal -width\"].apply(lambda x: 1 if x>data[\"sepal -width\"].median() else 0)\n",
    "X_test[\"petal -length_label\"]=X_test[\"petal -length\"].apply(lambda x: 1 if x>data[\"petal -length\"].median() else 0)\n",
    "X_test[\"petal -width_label\"]=X_test[\"petal -width\"].apply(lambda x: 1 if x>data[\"petal -width\"].median() else 0)\n",
    "X_test.loc[:,\"Ture_lable\"]=y_test\n",
    "\n",
    "\n",
    "#Ture Positive\n",
    "TP_pl=X_test.loc[(X_test[\"petal -length_label\"]==1)&(X_test[\"Ture_lable\"]==1),:][\"Ture_lable\"].count()\n",
    "TP_pw=X_test.loc[(X_test[\"petal -width_label\"]==1)&(X_test[\"Ture_lable\"]==1),:][\"Ture_lable\"].count()\n",
    "TP_sl=X_test.loc[(X_test[\"sepal_length_label\"]==1)&(X_test[\"Ture_lable\"]==1),:][\"Ture_lable\"].count()\n",
    "TP_sw=X_test.loc[(X_test[\"sepal_width_label\"]==1)&(X_test[\"Ture_lable\"]==1),:][\"Ture_lable\"].count()\n",
    "\n",
    "#False positive\n",
    "FP_pl=X_test.loc[(X_test[\"petal -length_label\"]==1)&(X_test[\"Ture_lable\"]==0),:][\"Ture_lable\"].count()\n",
    "FP_pw=X_test.loc[(X_test[\"petal -width_label\"]==1)&(X_test[\"Ture_lable\"]==0),:][\"Ture_lable\"].count()\n",
    "FP_sl=X_test.loc[(X_test[\"sepal_length_label\"]==1)&(X_test[\"Ture_lable\"]==0),:][\"Ture_lable\"].count()\n",
    "FP_sw=X_test.loc[(X_test[\"sepal_width_label\"]==1)&(X_test[\"Ture_lable\"]==0),:][\"Ture_lable\"].count()\n",
    "\n",
    "#Ture Negative\n",
    "TN_pl=X_test.loc[(X_test[\"petal -length_label\"]==0)&(X_test[\"Ture_lable\"]==0),:][\"Ture_lable\"].count()\n",
    "TN_pw=X_test.loc[(X_test[\"petal -width_label\"]==0)&(X_test[\"Ture_lable\"]==0),:][\"Ture_lable\"].count()\n",
    "TN_sl=X_test.loc[(X_test[\"sepal_length_label\"]==0)&(X_test[\"Ture_lable\"]==0),:][\"Ture_lable\"].count()\n",
    "TN_sw=X_test.loc[(X_test[\"sepal_width_label\"]==0)&(X_test[\"Ture_lable\"]==0),:][\"Ture_lable\"].count()\n",
    "\n",
    "#False Negative\n",
    "FN_pl=X_test.loc[(X_test[\"petal -length_label\"]==0)&(X_test[\"Ture_lable\"]==1),:][\"Ture_lable\"].count()\n",
    "FN_pw=X_test.loc[(X_test[\"petal -width_label\"]==0)&(X_test[\"Ture_lable\"]==1),:][\"Ture_lable\"].count()\n",
    "FN_sl=X_test.loc[(X_test[\"sepal_length_label\"]==0)&(X_test[\"Ture_lable\"]==1),:][\"Ture_lable\"].count()\n",
    "FN_sw=X_test.loc[(X_test[\"sepal_width_label\"]==0)&(X_test[\"Ture_lable\"]==1),:][\"Ture_lable\"].count()\n",
    "\n",
    "#Accuracy\n",
    "ACC_pl=(TN_pl+TP_pl)/50\n",
    "ACC_pw=(TN_pw+TP_pw)/50\n",
    "ACC_sl=(TN_sl+TP_sl)/50\n",
    "ACC_sw=(TN_sw+TP_sw)/50\n",
    "#X_test['TP_pl'] = np.where((X_test['petal -length_label'] == 1)  & (X_test['Ture_lable'] == 1),X_test['petal -length_label'],np.nan)\n",
    "#X_test.to_csv(\"x_test.csv\")\n",
    "Q2_d={\"Classifier\":pd.Series([\"Petal Lengh\",\"Petal Width\",\"Sepal Lengh\",\"Sepal Width\"]),\n",
    "      \"TP\":pd.Series([TP_pl,TP_pw,TP_sl,TP_sw]),\n",
    "      \"TN\":pd.Series([TN_pl,TN_pw,TN_sl,TN_sw]),\n",
    "      \"FP\":pd.Series([FP_pl,FP_pw,FP_sl,FP_sw]),\n",
    "      \"FN\":pd.Series([FN_pl,FN_pw,FN_sl,FN_sw]),\n",
    "      \"ACC\":pd.Series([ACC_pl,ACC_pw,ACC_sl,ACC_sw])}\n",
    "Q2_df=pd.DataFrame(Q2_d)\n",
    "\n",
    "\n",
    "print(Q2_df)\n"
   ]
  },
  {
   "cell_type": "markdown",
   "metadata": {},
   "source": [
    "<mark><font color=red size=4 face=SimHei>Question#2.3 discuss your findings and rank your ”weak” learners by ac- curacy (from most accurate to least accurate)<font><mark>"
   ]
  },
  {
   "cell_type": "markdown",
   "metadata": {},
   "source": [
    "for accuracy Petal lengh > Peltal Width > Sepal Lengh> Sepal Width. It's give us more evidence that petal is more important for fianl result"
   ]
  },
  {
   "cell_type": "markdown",
   "metadata": {},
   "source": [
    "<mark><font color=red size=4 face=SimHei>Question#3.1 For each such ensemble classifier, split data into training and test. Apply your classifiers on testing data, compute confusion matrix and summarize the results in a table below (note that no training is done, we are just combining the ”weak” learners).\n",
    "<font><mark>"
   ]
  },
  {
   "cell_type": "code",
   "execution_count": 85,
   "metadata": {},
   "outputs": [],
   "source": [
    "data[\"sepal_length_label\"]=data[\"sepal -length\"].apply(lambda x: 1 if x>data[\"sepal -length\"].median() else 0)\n",
    "data[\"sepal_width_label\"]=data[\"sepal -width\"].apply(lambda x: 1 if x>data[\"sepal -width\"].median() else 0)\n",
    "data[\"petal -length_label\"]=data[\"petal -length\"].apply(lambda x: 1 if x>data[\"petal -length\"].median() else 0)\n",
    "data[\"petal -width_label\"]=data[\"petal -width\"].apply(lambda x: 1 if x>data[\"petal -width\"].median() else 0)\n",
    "\n",
    "Q3_1_2_3=[]\n",
    "for i in range(len(data)):\n",
    "    if (data[\"petal -length_label\"][i+50]+data[\"petal -width_label\"][i+50]+data[\"sepal_length_label\"][i+50])>=2:\n",
    "        Q3_1_2_3.append(1)\n",
    "    else:\n",
    "        Q3_1_2_3.append(0)\n",
    "data[\"Q3_1_2_3\"]=Q3_1_2_3\n",
    "\n",
    "Q3_1_2_4=[]\n",
    "for i in range(len(data)):\n",
    "    if (data[\"petal -length_label\"][i+50]+data[\"petal -width_label\"][i+50]+data[\"sepal_width_label\"][i+50])>=2:\n",
    "        Q3_1_2_4.append(1)\n",
    "    else:\n",
    "        Q3_1_2_4.append(0)\n",
    "data[\"Q3_1_2_4\"]=Q3_1_2_4\n",
    "\n",
    "Q3_1_3_4=[]\n",
    "for i in range(len(data)):\n",
    "    if (data[\"petal -length_label\"][i+50]+data[\"sepal_length_label\"][i+50]+data[\"sepal_width_label\"][i+50])>=2:\n",
    "        Q3_1_3_4.append(1)\n",
    "    else:\n",
    "        Q3_1_3_4.append(0)\n",
    "data[\"Q3_1_3_4\"]=Q3_1_3_4\n",
    "\n",
    "Q3_2_3_4=[]\n",
    "for i in range(len(data)):\n",
    "    if (data[\"petal -width_label\"][i+50]+data[\"sepal_length_label\"][i+50]+data[\"sepal_width_label\"][i+50])>=2:\n",
    "        Q3_2_3_4.append(1)\n",
    "    else:\n",
    "        Q3_2_3_4.append(0)\n",
    "data[\"Q3_2_3_4\"]=Q3_2_3_4\n",
    "#data.to_csv(\"Q3.csv\")\n",
    "\n",
    "#print(data)"
   ]
  },
  {
   "cell_type": "code",
   "execution_count": 86,
   "metadata": {},
   "outputs": [
    {
     "name": "stdout",
     "output_type": "stream",
     "text": [
      "    Classifier  TP  TN  FP  FN   ACC\n",
      "0  (1),(2),(3)  17  27   1   5  0.88\n",
      "1  (1),(2),(4)  18  27   1   4  0.90\n",
      "2  (1),(3),(4)  15  23   5   7  0.76\n",
      "3  (2),(3),(4)  16   5   6   6  0.78\n"
     ]
    }
   ],
   "source": [
    "X3_1 = data[[\"sepal -length\",\"sepal -width\",\"petal -length\",\"petal -width\",\"Q3_1_2_3\",\"Q3_1_2_4\",\"Q3_1_3_4\",\"Q3_2_3_4\"]]\n",
    "y3_1 = data[\"label\"]\n",
    "X3_1_train,X3_1_test,y3_1_train,y3_1_test=train_test_split(X3_1, y3_1, train_size=0.5)\n",
    "X3_1_test.loc[:,\"Ture_lable\"]=y3_1_test\n",
    "X3_1_test.to_csv(\"Q3.csv\")\n",
    "TP_Q3_1_2_3=X3_1_test.loc[(X3_1_test[\"Q3_1_2_3\"]==1)&(X3_1_test[\"Ture_lable\"]==1),:][\"Ture_lable\"].count()\n",
    "FP_Q3_1_2_3=X3_1_test.loc[(X3_1_test[\"Q3_1_2_3\"]==1)&(X3_1_test[\"Ture_lable\"]==0),:][\"Ture_lable\"].count()\n",
    "TN_Q3_1_2_3=X3_1_test.loc[(X3_1_test[\"Q3_1_2_3\"]==0)&(X3_1_test[\"Ture_lable\"]==0),:][\"Ture_lable\"].count()\n",
    "FN_Q3_1_2_3=X3_1_test.loc[(X3_1_test[\"Q3_1_2_3\"]==0)&(X3_1_test[\"Ture_lable\"]==1),:][\"Ture_lable\"].count()\n",
    "ACC_Q3_1_2_3=(TN_Q3_1_2_3+TP_Q3_1_2_3)/50\n",
    "# (TP_Q3_1_2_3,FP_Q3_1_2_3,TN_Q3_1_2_3,FN_Q3_1_2_3)\n",
    "TP_Q3_1_2_4=X3_1_test.loc[(X3_1_test[\"Q3_1_2_4\"]==1)&(X3_1_test[\"Ture_lable\"]==1),:][\"Ture_lable\"].count()\n",
    "FP_Q3_1_2_4=X3_1_test.loc[(X3_1_test[\"Q3_1_2_4\"]==1)&(X3_1_test[\"Ture_lable\"]==0),:][\"Ture_lable\"].count()\n",
    "TN_Q3_1_2_4=X3_1_test.loc[(X3_1_test[\"Q3_1_2_4\"]==0)&(X3_1_test[\"Ture_lable\"]==0),:][\"Ture_lable\"].count()\n",
    "FN_Q3_1_2_4=X3_1_test.loc[(X3_1_test[\"Q3_1_2_4\"]==0)&(X3_1_test[\"Ture_lable\"]==1),:][\"Ture_lable\"].count()\n",
    "ACC_Q3_1_2_4=(TN_Q3_1_2_4+TP_Q3_1_2_4)/50\n",
    "#print(TP_Q3_1_2_3,X3_1_test[\"Ture_lable\"].sum())\n",
    "TP_Q3_1_3_4=X3_1_test.loc[(X3_1_test[\"Q3_1_3_4\"]==1)&(X3_1_test[\"Ture_lable\"]==1),:][\"Ture_lable\"].count()\n",
    "FP_Q3_1_3_4=X3_1_test.loc[(X3_1_test[\"Q3_1_3_4\"]==1)&(X3_1_test[\"Ture_lable\"]==0),:][\"Ture_lable\"].count()\n",
    "TN_Q3_1_3_4=X3_1_test.loc[(X3_1_test[\"Q3_1_3_4\"]==0)&(X3_1_test[\"Ture_lable\"]==0),:][\"Ture_lable\"].count()\n",
    "FN_Q3_1_3_4=X3_1_test.loc[(X3_1_test[\"Q3_1_3_4\"]==0)&(X3_1_test[\"Ture_lable\"]==1),:][\"Ture_lable\"].count()\n",
    "ACC_Q3_1_3_4=(TN_Q3_1_3_4+TP_Q3_1_3_4)/50\n",
    "\n",
    "TP_Q3_2_3_4=X3_1_test.loc[(X3_1_test[\"Q3_2_3_4\"]==1)&(X3_1_test[\"Ture_lable\"]==1),:][\"Ture_lable\"].count()\n",
    "FP_Q3_2_3_4=X3_1_test.loc[(X3_1_test[\"Q3_2_3_4\"]==1)&(X3_1_test[\"Ture_lable\"]==0),:][\"Ture_lable\"].count()\n",
    "TN_Q3_2_3_4=X3_1_test.loc[(X3_1_test[\"Q3_2_3_4\"]==0)&(X3_1_test[\"Ture_lable\"]==0),:][\"Ture_lable\"].count()\n",
    "FN_Q3_2_3_4=X3_1_test.loc[(X3_1_test[\"Q3_2_3_4\"]==0)&(X3_1_test[\"Ture_lable\"]==1),:][\"Ture_lable\"].count()\n",
    "ACC_Q3_2_3_4=(TN_Q3_2_3_4+TP_Q3_2_3_4)/50\n",
    "\n",
    "Q3_d={\"Classifier\":pd.Series([\"(1),(2),(3)\",\"(1),(2),(4)\",\"(1),(3),(4)\",\"(2),(3),(4)\"]),\n",
    "      \"TP\":pd.Series([TP_Q3_1_2_3,TP_Q3_1_2_4,TP_Q3_1_3_4,TP_Q3_2_3_4]),\n",
    "      \"TN\":pd.Series([TN_Q3_1_2_3,TN_Q3_1_2_4,TN_Q3_1_3_4,FP_Q3_2_3_4]),\n",
    "      \"FP\":pd.Series([FP_Q3_1_2_3,FP_Q3_1_2_4,FP_Q3_1_3_4,FN_Q3_2_3_4]),\n",
    "      \"FN\":pd.Series([FN_Q3_1_2_3,FN_Q3_1_2_4,FN_Q3_1_3_4,FN_Q3_2_3_4]),\n",
    "      \"ACC\":pd.Series([ACC_Q3_1_2_3,ACC_Q3_1_2_4,ACC_Q3_1_3_4,ACC_Q3_2_3_4])}\n",
    "Q3_df=pd.DataFrame(Q3_d)\n",
    "print(Q3_df)\n"
   ]
  },
  {
   "cell_type": "markdown",
   "metadata": {},
   "source": [
    "<mark><font color=red size=4 face=SimHei>Question# 3.2 discuss your findings and rank your ensembles learners by accuracy (from most accurate to least accurate<font><mark>"
   ]
  },
  {
   "cell_type": "markdown",
   "metadata": {},
   "source": [
    "(1),(2),(3)>(1),(2),(4)>(1),(3),(4)>(2),(3),(4)\n",
    "When the data is put together, petal length and petal width play a more important role"
   ]
  },
  {
   "cell_type": "markdown",
   "metadata": {},
   "source": [
    "<mark><font color=red size=4 face=SimHei>Question# 3.3 compare ”weak learners” and ensemble results.<font><mark>"
   ]
  },
  {
   "cell_type": "markdown",
   "metadata": {},
   "source": [
    "compare the week learners and ensemble is more average. the acc stay on 80-90%"
   ]
  },
  {
   "cell_type": "markdown",
   "metadata": {},
   "source": [
    "<mark><font color=red size=4 face=SimHei>Question#4.1 you design 4 such density-based classfiers, one for each of the 4 features. For each classifier, compute the confusion matrix (from a testing set! as before) and summarize them in a table below<font><mark>"
   ]
  },
  {
   "cell_type": "code",
   "execution_count": 87,
   "metadata": {},
   "outputs": [
    {
     "name": "stdout",
     "output_type": "stream",
     "text": [
      "        Classifier  TP  TN  FP  FN   ACC\n",
      "0  (1) Petal Lengh  22  22   1  22  0.88\n",
      "1  (2) Petal Width  24  22   1  22  0.92\n",
      "2  (3) Sepal Lengh   3  20   3  20  0.74\n",
      "3  (4) Sepal Width   5  18   5  18  0.64\n"
     ]
    }
   ],
   "source": [
    "from scipy.stats import norm\n",
    "Q4_X = data[[\"sepal -length\",\"sepal -width\",\"petal -length\",\"petal -width\",\"label\"]]\n",
    "Q4_y = data[\"label\"]\n",
    "Q4_X_train,Q4_X_test,Q4_y_train,Q4_y_test=train_test_split(Q4_X, Q4_y, train_size=0.5)\n",
    "#print(Q4_X_train)\n",
    "Q4_1_mu_sl=Q4_X_train[\"sepal -length\"].loc[Q4_X_train['label'] == 1].mean()\n",
    "Q4_0_mu_sl=Q4_X_train[\"sepal -length\"].loc[Q4_X_train['label'] == 0].mean()\n",
    "Q4_1_mu_sw=Q4_X_train[\"sepal -width\"].loc[Q4_X_train['label'] == 1].mean()\n",
    "Q4_0_mu_sw=Q4_X_train[\"sepal -width\"].loc[Q4_X_train['label'] == 0].mean()\n",
    "Q4_1_mu_pl=Q4_X_train[\"petal -length\"].loc[Q4_X_train['label'] == 1].mean()\n",
    "Q4_0_mu_pl=Q4_X_train[\"petal -length\"].loc[Q4_X_train['label'] == 0].mean()\n",
    "Q4_1_mu_pw=Q4_X_train[\"petal -width\"].loc[Q4_X_train['label'] == 1].mean()\n",
    "Q4_0_mu_pw=Q4_X_train[\"petal -width\"].loc[Q4_X_train['label'] == 0].mean()\n",
    "Q4_1_std_sl=Q4_X_train[\"sepal -length\"].loc[Q4_X_train['label'] == 1].std()\n",
    "Q4_0_std_sl=Q4_X_train[\"sepal -length\"].loc[Q4_X_train['label'] == 0].std()\n",
    "Q4_1_std_sw=Q4_X_train[\"sepal -width\"].loc[Q4_X_train['label'] == 1].std()\n",
    "Q4_0_std_sw=Q4_X_train[\"sepal -width\"].loc[Q4_X_train['label'] == 0].std()\n",
    "Q4_1_std_pl=Q4_X_train[\"petal -length\"].loc[Q4_X_train['label'] == 1].std()\n",
    "Q4_0_std_pl=Q4_X_train[\"petal -length\"].loc[Q4_X_train['label'] == 0].std()\n",
    "Q4_1_std_pw=Q4_X_train[\"petal -width\"].loc[Q4_X_train['label'] == 1].std()\n",
    "Q4_0_std_pw=Q4_X_train[\"petal -width\"].loc[Q4_X_train['label'] == 0].std()\n",
    "\n",
    "#print(Q4_X_test,\"\\n\",Q4_X_test.iloc[[0],[1]])\n",
    "Q4_petal_length=[]\n",
    "for i in range(len(Q4_X_test)):\n",
    "    P_0=norm.pdf((Q4_X_test.iloc[[i],[2]] - Q4_0_mu_pl)/Q4_0_std_pl)\n",
    "    P_1=norm.pdf((Q4_X_test.iloc[[i],[2]] - Q4_1_mu_pl)/Q4_1_std_pl)\n",
    "    if P_0>P_1:\n",
    "        Q4_petal_length.append(0)\n",
    "    else:\n",
    "        Q4_petal_length.append(1)\n",
    "Q4_X_test[\"pl_label\"]=Q4_petal_length\n",
    "\n",
    "Q4_petal_width=[]\n",
    "for i in range(len(Q4_X_test)):\n",
    "    P_0=norm.pdf((Q4_X_test.iloc[[i],[3]] - Q4_0_mu_pw)/Q4_0_std_pw)\n",
    "    P_1=norm.pdf((Q4_X_test.iloc[[i],[3]] - Q4_1_mu_pw)/Q4_1_std_pw)\n",
    "    if P_0>P_1:\n",
    "        Q4_petal_width.append(0)\n",
    "    else:\n",
    "        Q4_petal_width.append(1)\n",
    "Q4_X_test[\"pw_label\"]=Q4_petal_width\n",
    "\n",
    "Q4_sepal_length=[]\n",
    "for i in range(len(Q4_X_test)):\n",
    "    P_0=norm.pdf((Q4_X_test.iloc[[i],[0]] - Q4_0_mu_sl)/Q4_0_std_sl)\n",
    "    P_1=norm.pdf((Q4_X_test.iloc[[i],[0]] - Q4_1_mu_sl)/Q4_1_std_sl)\n",
    "    if P_0>P_1:\n",
    "        Q4_sepal_length.append(0)\n",
    "    else:\n",
    "        Q4_sepal_length.append(1)\n",
    "Q4_X_test[\"sl_label\"]=Q4_sepal_length\n",
    "\n",
    "Q4_sepal_width=[]\n",
    "for i in range(len(Q4_X_test)):\n",
    "    P_0=norm.pdf((Q4_X_test.iloc[[i],[1]] - Q4_0_mu_sw)/Q4_0_std_sw)\n",
    "    P_1=norm.pdf((Q4_X_test.iloc[[i],[1]] - Q4_1_mu_sw)/Q4_1_std_sw)\n",
    "    if P_0>P_1:\n",
    "        Q4_sepal_width.append(0)\n",
    "    else:\n",
    "        Q4_sepal_width.append(1)\n",
    "Q4_X_test[\"sw_label\"]=Q4_sepal_width\n",
    "Q4_X_test.to_csv(\"Q4.csv\")\n",
    "#print(Q4_X_test)\n",
    "#Ture Positive\n",
    "Q4_TP_pl=Q4_X_test.loc[(Q4_X_test[\"pl_label\"]==1)&(Q4_X_test[\"label\"]==1),:][\"label\"].count()\n",
    "Q4_TP_pw=Q4_X_test.loc[(Q4_X_test[\"pw_label\"]==1)&(Q4_X_test[\"label\"]==1),:][\"label\"].count()\n",
    "Q4_TP_sl=Q4_X_test.loc[(Q4_X_test[\"sl_label\"]==1)&(Q4_X_test[\"label\"]==1),:][\"label\"].count()\n",
    "Q4_TP_sw=Q4_X_test.loc[(Q4_X_test[\"sw_label\"]==1)&(Q4_X_test[\"label\"]==1),:][\"label\"].count()\n",
    "\n",
    "\n",
    "#False Positive\n",
    "Q4_FP_pl=Q4_X_test.loc[(Q4_X_test[\"pl_label\"]==1)&(Q4_X_test[\"label\"]==0),:][\"label\"].count()\n",
    "Q4_FP_pw=Q4_X_test.loc[(Q4_X_test[\"pw_label\"]==1)&(Q4_X_test[\"label\"]==0),:][\"label\"].count()\n",
    "Q4_FP_sl=Q4_X_test.loc[(Q4_X_test[\"sl_label\"]==1)&(Q4_X_test[\"label\"]==0),:][\"label\"].count()\n",
    "Q4_FP_sw=Q4_X_test.loc[(Q4_X_test[\"sw_label\"]==1)&(Q4_X_test[\"label\"]==0),:][\"label\"].count()\n",
    "\n",
    "\n",
    "#True Negative\n",
    "Q4_TN_pl=Q4_X_test.loc[(Q4_X_test[\"pl_label\"]==0)&(Q4_X_test[\"label\"]==0),:][\"label\"].count()\n",
    "Q4_TN_pw=Q4_X_test.loc[(Q4_X_test[\"pw_label\"]==0)&(Q4_X_test[\"label\"]==0),:][\"label\"].count()\n",
    "Q4_TN_sl=Q4_X_test.loc[(Q4_X_test[\"sl_label\"]==0)&(Q4_X_test[\"label\"]==0),:][\"label\"].count()\n",
    "Q4_TN_sw=Q4_X_test.loc[(Q4_X_test[\"sw_label\"]==0)&(Q4_X_test[\"label\"]==0),:][\"label\"].count()\n",
    "\n",
    "#False Negative\n",
    "Q4_FN_pl=Q4_X_test.loc[(Q4_X_test[\"pl_label\"]==0)&(Q4_X_test[\"label\"]==0),:][\"label\"].count()\n",
    "Q4_FN_pw=Q4_X_test.loc[(Q4_X_test[\"pw_label\"]==0)&(Q4_X_test[\"label\"]==0),:][\"label\"].count()\n",
    "Q4_FN_sl=Q4_X_test.loc[(Q4_X_test[\"sl_label\"]==0)&(Q4_X_test[\"label\"]==0),:][\"label\"].count()\n",
    "Q4_FN_sw=Q4_X_test.loc[(Q4_X_test[\"sw_label\"]==0)&(Q4_X_test[\"label\"]==0),:][\"label\"].count()\n",
    "#Accuracy\n",
    "Q4_ACC_pl=(Q4_TN_pl+Q4_TP_pl)/50\n",
    "Q4_ACC_pw=(Q4_TN_pw+Q4_TP_pw)/50\n",
    "Q4_ACC_sl=(Q4_TN_sl+Q4_TP_sl)/50\n",
    "Q4_ACC_sw=(Q4_TN_sw+Q4_TP_sw)/50\n",
    "\n",
    "Q4_d={\"Classifier\":pd.Series([\"(1) Petal Lengh\",\"(2) Petal Width\",\"(3) Sepal Lengh\",\"(4) Sepal Width\"]),\n",
    "      \"TP\":pd.Series([Q4_TP_pl,Q4_TP_pw,Q4_FP_sl,Q4_FP_sw]),\n",
    "      \"TN\":pd.Series([Q4_TN_pl,Q4_TN_pw,Q4_TN_sl,Q4_TN_sw]),\n",
    "      \"FP\":pd.Series([Q4_FP_pl,Q4_FP_pw,Q4_FP_sl,Q4_FP_sw]),\n",
    "      \"FN\":pd.Series([Q4_FN_pl,Q4_FN_pw,Q4_FN_sl,Q4_FN_sw]),\n",
    "      \"ACC\":pd.Series([Q4_ACC_pl,Q4_ACC_pw,Q4_ACC_sl,Q4_ACC_sw])}\n",
    "Q4_df=pd.DataFrame(Q4_d)\n",
    "print(Q4_df)"
   ]
  },
  {
   "cell_type": "markdown",
   "metadata": {},
   "source": [
    "<mark><font color=red size=4 face=SimHei>Question#4.2 discuss your findings and rank your density-based ”weak” learners by accuracy (from most accurate to least accurate<font><mark>"
   ]
  },
  {
   "cell_type": "markdown",
   "metadata": {},
   "source": [
    "(1)Petal Lengh=(2Petal Width>(3)Sepal Lengh >(4)Sepal Width\n",
    "The results of weak learners in this step are similar to that of the weaker leaner in the previous step. Petal play the more impoortant role for the acc."
   ]
  },
  {
   "cell_type": "markdown",
   "metadata": {},
   "source": [
    "<mark><font color=red size=4 face=SimHei>Question#5.1 For each such ensemble classifier, compute confusion matrix (on testing data!) and summarize the results in a table below<font><mark>"
   ]
  },
  {
   "cell_type": "code",
   "execution_count": 88,
   "metadata": {},
   "outputs": [
    {
     "name": "stdout",
     "output_type": "stream",
     "text": [
      "    Classifier  TP  TN  FP  FN   ACC\n",
      "0  (1),(2),(3)  24  22   1   3  0.92\n",
      "1  (1),(2),(4)  25  22   1   2  0.94\n",
      "2  (1),(3),(4)  22  21   2   5  0.86\n",
      "3  (2),(3),(4)  25   1   2   2  0.94\n"
     ]
    }
   ],
   "source": [
    "Q5_1_mu_sl=data[\"sepal -length\"].loc[data['label'] == 1].mean()\n",
    "Q5_0_mu_sl=data[\"sepal -length\"].loc[data['label'] == 0].mean()\n",
    "Q5_1_mu_sw=data[\"sepal -width\"].loc[data['label'] == 1].mean()\n",
    "Q5_0_mu_sw=data[\"sepal -width\"].loc[data['label'] == 0].mean()\n",
    "Q5_1_mu_pl=data[\"petal -length\"].loc[data['label'] == 1].mean()\n",
    "Q5_0_mu_pl=data[\"petal -length\"].loc[data['label'] == 0].mean()\n",
    "Q5_1_mu_pw=data[\"petal -width\"].loc[data['label'] == 1].mean()\n",
    "Q5_0_mu_pw=data[\"petal -width\"].loc[data['label'] == 0].mean()\n",
    "Q5_1_std_sl=data[\"sepal -length\"].loc[data['label'] == 1].std()\n",
    "Q5_0_std_sl=data[\"sepal -length\"].loc[data['label'] == 0].std()\n",
    "Q5_1_std_sw=data[\"sepal -width\"].loc[data['label'] == 1].std()\n",
    "Q5_0_std_sw=data[\"sepal -width\"].loc[data['label'] == 0].std()\n",
    "Q5_1_std_pl=data[\"petal -length\"].loc[data['label'] == 1].std()\n",
    "Q5_0_std_pl=data[\"petal -length\"].loc[data['label'] == 0].std()\n",
    "Q5_1_std_pw=data[\"petal -width\"].loc[data['label'] == 1].std()\n",
    "Q5_0_std_pw=data[\"petal -width\"].loc[data['label'] == 0].std()\n",
    "\n",
    "Q5_petal_length=[]\n",
    "for i in range(len(Q5_data)):\n",
    "    P_0=norm.pdf((Q5_data.iloc[[i],[2]] - Q5_0_mu_pl)/Q5_0_std_pl)\n",
    "    P_1=norm.pdf((Q5_data.iloc[[i],[2]] - Q5_1_mu_pl)/Q5_1_std_pl)\n",
    "    if P_0>P_1:\n",
    "        Q5_petal_length.append(0)\n",
    "    else:\n",
    "        Q5_petal_length.append(1)\n",
    "Q5_data[\"pl_label\"]=Q5_petal_length\n",
    "\n",
    "Q5_petal_width=[]\n",
    "for i in range(len(Q5_data)):\n",
    "    P_0=norm.pdf((Q5_data.iloc[[i],[3]] - Q5_0_mu_pw)/Q5_0_std_pw)\n",
    "    P_1=norm.pdf((Q5_data.iloc[[i],[3]] - Q5_1_mu_pw)/Q5_1_std_pw)\n",
    "    if P_0>P_1:\n",
    "        Q5_petal_width.append(0)\n",
    "    else:\n",
    "        Q5_petal_width.append(1)\n",
    "Q5_data[\"pw_label\"]=Q5_petal_width\n",
    "\n",
    "Q5_sepal_length=[]\n",
    "for i in range(len(Q5_data)):\n",
    "    P_0=norm.pdf((Q5_data.iloc[[i],[0]] - Q5_0_mu_sl)/Q5_0_std_sl)\n",
    "    P_1=norm.pdf((Q5_data.iloc[[i],[0]] - Q5_1_mu_sl)/Q5_1_std_sl)\n",
    "    if P_0>P_1:\n",
    "        Q5_sepal_length.append(0)\n",
    "    else:\n",
    "        Q5_sepal_length.append(1)\n",
    "Q5_data[\"sl_label\"]=Q5_sepal_length\n",
    "\n",
    "Q5_sepal_width=[]\n",
    "for i in range(len(Q5_data)):\n",
    "    P_0=norm.pdf((Q5_data.iloc[[i],[1]] - Q5_0_mu_sw)/Q5_0_std_sw)\n",
    "    P_1=norm.pdf((Q5_data.iloc[[i],[1]] - Q5_1_mu_sw)/Q5_1_std_sw)\n",
    "    if P_0>P_1:\n",
    "        Q5_sepal_width.append(0)\n",
    "    else:\n",
    "        Q5_sepal_width.append(1)\n",
    "Q5_data[\"sw_label\"]=Q5_sepal_width\n",
    "\n",
    "\n",
    "######################\n",
    "Q5_data[\"sepal_length_label\"]=Q5_data[\"sepal -length\"].apply(lambda x: 1 if x>data[\"sepal -length\"].median() else 0)\n",
    "Q5_data[\"sepal_width_label\"]=Q5_data[\"sepal -width\"].apply(lambda x: 1 if x>data[\"sepal -width\"].median() else 0)\n",
    "Q5_data[\"petal -length_label\"]=Q5_data[\"petal -length\"].apply(lambda x: 1 if x>data[\"petal -length\"].median() else 0)\n",
    "Q5_data[\"petal -width_label\"]=Q5_data[\"petal -width\"].apply(lambda x: 1 if x>data[\"petal -width\"].median() else 0)\n",
    "\n",
    "Q5_1_2_3=[]\n",
    "for i in range(len(Q5_data)):\n",
    "    if (Q5_data[\"petal -length_label\"][i+50]+Q5_data[\"petal -width_label\"][i+50]+Q5_data[\"sepal_length_label\"][i+50])>=2:\n",
    "        Q5_1_2_3.append(1)\n",
    "    else:\n",
    "        Q5_1_2_3.append(0)\n",
    "Q5_data[\"Q5_1_2_3\"]=Q5_1_2_3\n",
    "\n",
    "Q5_1_2_4=[]\n",
    "for i in range(len(Q5_data)):\n",
    "    if (Q5_data[\"petal -length_label\"][i+50]+Q5_data[\"petal -width_label\"][i+50]+Q5_data[\"sepal_width_label\"][i+50])>=2:\n",
    "        Q5_1_2_4.append(1)\n",
    "    else:\n",
    "        Q5_1_2_4.append(0)\n",
    "Q5_data[\"Q5_1_2_4\"]=Q5_1_2_4\n",
    "\n",
    "Q5_1_3_4=[]\n",
    "for i in range(len(Q5_data)):\n",
    "    if (Q5_data[\"petal -length_label\"][i+50]+Q5_data[\"sepal_length_label\"][i+50]+Q5_data[\"sepal_width_label\"][i+50])>=2:\n",
    "        Q5_1_3_4.append(1)\n",
    "    else:\n",
    "        Q5_1_3_4.append(0)\n",
    "Q5_data[\"Q5_1_3_4\"]=Q5_1_3_4\n",
    "\n",
    "Q5_2_3_4=[]\n",
    "for i in range(len(Q5_data)):\n",
    "    if (Q5_data[\"sepal_width_label\"][i+50]+Q5_data[\"petal -length_label\"][i+50]+Q5_data[\"petal -width_label\"][i+50])>=2:\n",
    "        Q5_2_3_4.append(1)\n",
    "    else:\n",
    "        Q5_2_3_4.append(0)\n",
    "Q5_data[\"Q5_2_3_4\"]=Q5_2_3_4\n",
    "\n",
    "######################\n",
    "\n",
    "X5_1 = Q5_data[[\"sepal -length\",\"sepal -width\",\"petal -length\",\"petal -width\",\"Q5_1_2_3\",\"Q5_1_2_4\",\"Q5_1_3_4\",\"Q5_2_3_4\"]]\n",
    "y5_1 = Q5_data[\"label\"]\n",
    "X5_1_train,X5_1_test,y5_1_train,y5_1_test=train_test_split(X5_1, y5_1, train_size=0.5)\n",
    "X5_1_test.loc[:,\"Ture_lable\"]=y5_1_test\n",
    "X5_1_test.to_csv(\"Q3.csv\")\n",
    "TP_Q5_1_2_3=X5_1_test.loc[(X5_1_test[\"Q5_1_2_3\"]==1)&(X5_1_test[\"Ture_lable\"]==1),:][\"Ture_lable\"].count()\n",
    "FP_Q5_1_2_3=X5_1_test.loc[(X5_1_test[\"Q5_1_2_3\"]==1)&(X5_1_test[\"Ture_lable\"]==0),:][\"Ture_lable\"].count()\n",
    "TN_Q5_1_2_3=X5_1_test.loc[(X5_1_test[\"Q5_1_2_3\"]==0)&(X5_1_test[\"Ture_lable\"]==0),:][\"Ture_lable\"].count()\n",
    "FN_Q5_1_2_3=X5_1_test.loc[(X5_1_test[\"Q5_1_2_3\"]==0)&(X5_1_test[\"Ture_lable\"]==1),:][\"Ture_lable\"].count()\n",
    "ACC_Q5_1_2_3=(TN_Q5_1_2_3+TP_Q5_1_2_3)/50\n",
    "# (TP_Q3_1_2_3,FP_Q3_1_2_3,TN_Q3_1_2_3,FN_Q3_1_2_3)\n",
    "TP_Q5_1_2_4=X5_1_test.loc[(X5_1_test[\"Q5_1_2_4\"]==1)&(X5_1_test[\"Ture_lable\"]==1),:][\"Ture_lable\"].count()\n",
    "FP_Q5_1_2_4=X5_1_test.loc[(X5_1_test[\"Q5_1_2_4\"]==1)&(X5_1_test[\"Ture_lable\"]==0),:][\"Ture_lable\"].count()\n",
    "TN_Q5_1_2_4=X5_1_test.loc[(X5_1_test[\"Q5_1_2_4\"]==0)&(X5_1_test[\"Ture_lable\"]==0),:][\"Ture_lable\"].count()\n",
    "FN_Q5_1_2_4=X5_1_test.loc[(X5_1_test[\"Q5_1_2_4\"]==0)&(X5_1_test[\"Ture_lable\"]==1),:][\"Ture_lable\"].count()\n",
    "ACC_Q5_1_2_4=(TN_Q5_1_2_4+TP_Q5_1_2_4)/50\n",
    "#print(TP_Q3_1_2_3,X3_1_test[\"Ture_lable\"].sum())\n",
    "TP_Q5_1_3_4=X5_1_test.loc[(X5_1_test[\"Q5_1_3_4\"]==1)&(X5_1_test[\"Ture_lable\"]==1),:][\"Ture_lable\"].count()\n",
    "FP_Q5_1_3_4=X5_1_test.loc[(X5_1_test[\"Q5_1_3_4\"]==1)&(X5_1_test[\"Ture_lable\"]==0),:][\"Ture_lable\"].count()\n",
    "TN_Q5_1_3_4=X5_1_test.loc[(X5_1_test[\"Q5_1_3_4\"]==0)&(X5_1_test[\"Ture_lable\"]==0),:][\"Ture_lable\"].count()\n",
    "FN_Q5_1_3_4=X5_1_test.loc[(X5_1_test[\"Q5_1_3_4\"]==0)&(X5_1_test[\"Ture_lable\"]==1),:][\"Ture_lable\"].count()\n",
    "ACC_Q5_1_3_4=(TN_Q5_1_3_4+TP_Q5_1_3_4)/50\n",
    "\n",
    "TP_Q5_2_3_4=X5_1_test.loc[(X5_1_test[\"Q5_2_3_4\"]==1)&(X5_1_test[\"Ture_lable\"]==1),:][\"Ture_lable\"].count()\n",
    "FP_Q5_2_3_4=X5_1_test.loc[(X5_1_test[\"Q5_2_3_4\"]==1)&(X5_1_test[\"Ture_lable\"]==0),:][\"Ture_lable\"].count()\n",
    "TN_Q5_2_3_4=X5_1_test.loc[(X5_1_test[\"Q5_2_3_4\"]==0)&(X5_1_test[\"Ture_lable\"]==0),:][\"Ture_lable\"].count()\n",
    "FN_Q5_2_3_4=X5_1_test.loc[(X5_1_test[\"Q5_2_3_4\"]==0)&(X5_1_test[\"Ture_lable\"]==1),:][\"Ture_lable\"].count()\n",
    "ACC_Q5_2_3_4=(TN_Q5_2_3_4+TP_Q5_2_3_4)/50\n",
    "\n",
    "\n",
    "Q5_d={\"Classifier\":pd.Series([\"(1),(2),(3)\",\"(1),(2),(4)\",\"(1),(3),(4)\",\"(2),(3),(4)\"]),\n",
    "      \"TP\":pd.Series([TP_Q5_1_2_3,TP_Q5_1_2_4,TP_Q5_1_3_4,TP_Q5_2_3_4]),\n",
    "      \"TN\":pd.Series([TN_Q5_1_2_3,TN_Q5_1_2_4,TN_Q5_1_3_4,FP_Q5_2_3_4]),\n",
    "      \"FP\":pd.Series([FP_Q5_1_2_3,FP_Q5_1_2_4,FP_Q5_1_3_4,FN_Q5_2_3_4]),\n",
    "      \"FN\":pd.Series([FN_Q5_1_2_3,FN_Q5_1_2_4,FN_Q5_1_3_4,FN_Q5_2_3_4]),\n",
    "      \"ACC\":pd.Series([ACC_Q5_1_2_3,ACC_Q5_1_2_4,ACC_Q5_1_3_4,ACC_Q5_2_3_4])}\n",
    "Q5_df=pd.DataFrame(Q5_d)\n",
    "print(Q5_df)"
   ]
  },
  {
   "cell_type": "markdown",
   "metadata": {},
   "source": [
    "<mark><font color=red size=4 face=SimHei>5.2 discuss your findings and rank your ensembles learners by accuracy (from most accurate to least accurate)<font><mark>"
   ]
  },
  {
   "cell_type": "markdown",
   "metadata": {},
   "source": [
    "(1),(2),(3)>(1),(2),(4)>(1),(3),(4)>(2)(3)(4)\n",
    "this ensembles learners got almost same result for front petal length and width play a more important role on acciracy."
   ]
  },
  {
   "cell_type": "markdown",
   "metadata": {},
   "source": [
    "<mark><font color=red size=4 face=SimHei>Question#5.3 compare ”weak learners” and ensemble results.<font><mark>"
   ]
  },
  {
   "cell_type": "markdown",
   "metadata": {},
   "source": [
    "compere with weekd learners. ensembles learner show more reliability.The results of multiple queries are almost the same, whereas week learners sometimes show good accuracy, but are very unstable. The acc has had its ups and downs"
   ]
  },
  {
   "cell_type": "markdown",
   "metadata": {},
   "source": [
    "<mark><font color=red size=4 face=SimHei>Question#1. give a quick summary on comparing classifiers in Method I and Method II<font><mark>"
   ]
  },
  {
   "cell_type": "markdown",
   "metadata": {},
   "source": [
    "I think method II(density-based classifiers in an ensemble) are much better than method I in terms of reliability of results."
   ]
  }
 ],
 "metadata": {
  "kernelspec": {
   "display_name": "Python 3 (ipykernel)",
   "language": "python",
   "name": "python3"
  },
  "language_info": {
   "codemirror_mode": {
    "name": "ipython",
    "version": 3
   },
   "file_extension": ".py",
   "mimetype": "text/x-python",
   "name": "python",
   "nbconvert_exporter": "python",
   "pygments_lexer": "ipython3",
   "version": "3.9.7"
  },
  "vscode": {
   "interpreter": {
    "hash": "cb9806c24c91b3e4d18e5f3e793847aaaf5646eebdcfa376b540720de17b3c80"
   }
  }
 },
 "nbformat": 4,
 "nbformat_minor": 2
}
