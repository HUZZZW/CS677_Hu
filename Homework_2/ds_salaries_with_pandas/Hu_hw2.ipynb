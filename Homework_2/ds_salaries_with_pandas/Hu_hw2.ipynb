{
 "cells": [
  {
   "cell_type": "code",
   "execution_count": 672,
   "metadata": {},
   "outputs": [],
   "source": [
    "import pandas as pd\n",
    "import numpy as np"
   ]
  },
  {
   "cell_type": "markdown",
   "metadata": {},
   "source": [
    "<font color=steel size=5 face=雅黑>Question #1. load the dataset csv file as a dataframe using Pandas\n",
    "</font>"
   ]
  },
  {
   "cell_type": "code",
   "execution_count": 673,
   "metadata": {},
   "outputs": [
    {
     "name": "stdout",
     "output_type": "stream",
     "text": [
      "(607, 12)\n",
      "<class 'pandas.core.frame.DataFrame'>\n",
      "RangeIndex: 607 entries, 0 to 606\n",
      "Data columns (total 12 columns):\n",
      " #   Column              Non-Null Count  Dtype \n",
      "---  ------              --------------  ----- \n",
      " 0   Unnamed: 0          607 non-null    int64 \n",
      " 1   work_year           607 non-null    int64 \n",
      " 2   experience_level    607 non-null    object\n",
      " 3   employment_type     607 non-null    object\n",
      " 4   job_title           607 non-null    object\n",
      " 5   salary              607 non-null    int64 \n",
      " 6   salary_currency     607 non-null    object\n",
      " 7   salary_in_usd       607 non-null    int64 \n",
      " 8   employee_residence  607 non-null    object\n",
      " 9   remote_ratio        607 non-null    int64 \n",
      " 10  company_location    607 non-null    object\n",
      " 11  company_size        607 non-null    object\n",
      "dtypes: int64(5), object(7)\n",
      "memory usage: 57.0+ KB\n",
      "None\n",
      "     Unnamed: 0  work_year  experience_level  employment_type  job_title  \\\n",
      "0         False      False             False            False      False   \n",
      "1         False      False             False            False      False   \n",
      "2         False      False             False            False      False   \n",
      "3         False      False             False            False      False   \n",
      "4         False      False             False            False      False   \n",
      "..          ...        ...               ...              ...        ...   \n",
      "602       False      False             False            False      False   \n",
      "603       False      False             False            False      False   \n",
      "604       False      False             False            False      False   \n",
      "605       False      False             False            False      False   \n",
      "606       False      False             False            False      False   \n",
      "\n",
      "     salary  salary_currency  salary_in_usd  employee_residence  remote_ratio  \\\n",
      "0     False            False          False               False         False   \n",
      "1     False            False          False               False         False   \n",
      "2     False            False          False               False         False   \n",
      "3     False            False          False               False         False   \n",
      "4     False            False          False               False         False   \n",
      "..      ...              ...            ...                 ...           ...   \n",
      "602   False            False          False               False         False   \n",
      "603   False            False          False               False         False   \n",
      "604   False            False          False               False         False   \n",
      "605   False            False          False               False         False   \n",
      "606   False            False          False               False         False   \n",
      "\n",
      "     company_location  company_size  \n",
      "0               False         False  \n",
      "1               False         False  \n",
      "2               False         False  \n",
      "3               False         False  \n",
      "4               False         False  \n",
      "..                ...           ...  \n",
      "602             False         False  \n",
      "603             False         False  \n",
      "604             False         False  \n",
      "605             False         False  \n",
      "606             False         False  \n",
      "\n",
      "[607 rows x 12 columns]\n",
      "Unnamed: 0             int64\n",
      "work_year              int64\n",
      "experience_level      object\n",
      "employment_type       object\n",
      "job_title             object\n",
      "salary                 int64\n",
      "salary_currency       object\n",
      "salary_in_usd          int64\n",
      "employee_residence    object\n",
      "remote_ratio           int64\n",
      "company_location      object\n",
      "company_size          object\n",
      "dtype: object\n"
     ]
    },
    {
     "data": {
      "text/plain": [
       "RangeIndex(start=0, stop=607, step=1)"
      ]
     },
     "execution_count": 673,
     "metadata": {},
     "output_type": "execute_result"
    }
   ],
   "source": [
    "df = pd.read_csv(\"ds_salaries.csv\")\n",
    "print(df.shape)\n",
    "print(df.info())\n",
    "# print(df.head)\n",
    "# print(df.tail)\n",
    "print(df.isnull())\n",
    "print(df.dtypes)\n",
    "df.columns\n",
    "df.index"
   ]
  },
  {
   "cell_type": "markdown",
   "metadata": {},
   "source": [
    "<font color=steel size=5 face=雅黑>Question #2. compute average salary by year?</font>"
   ]
  },
  {
   "cell_type": "code",
   "execution_count": 674,
   "metadata": {},
   "outputs": [
    {
     "name": "stdout",
     "output_type": "stream",
     "text": [
      "the average salary(USD) is: 112297.86985172982\n"
     ]
    }
   ],
   "source": [
    "mean_salary = df[\"salary_in_usd\"].mean()\n",
    "print(\"the average salary(USD) is:\",mean_salary)"
   ]
  },
  {
   "cell_type": "markdown",
   "metadata": {},
   "source": [
    "<font color=steel size=5 face=雅黑>Question#3. which year was the lowest and which year was the highest?</font>"
   ]
  },
  {
   "cell_type": "code",
   "execution_count": 675,
   "metadata": {},
   "outputs": [
    {
     "name": "stdout",
     "output_type": "stream",
     "text": [
      "[2020 2021 2022] <class 'numpy.int64'>\n",
      "6898536 21668273 39597998\n",
      "the highest year is 2022,the value is : 39597998\n",
      "the lowest year is 2020,the value is : 6898536\n"
     ]
    }
   ],
   "source": [
    "# print(df[\"salary_in_usd\"].argmax())\n",
    "#data1= df.loc[(df[\"work_year\"].isin([\"2020\"]))]\n",
    "\n",
    "work_year=df['work_year'].unique()\n",
    "print(work_year,type(df['work_year'][0]))\n",
    "year_2020=df.loc[(df[\"work_year\"]==2020),:][\"salary_in_usd\"].sum()\n",
    "year_2021=df.loc[(df[\"work_year\"]==2021),:][\"salary_in_usd\"].sum()\n",
    "year_2022=df.loc[(df[\"work_year\"]==2022),:][\"salary_in_usd\"].sum()\n",
    "\n",
    "print(year_2020,year_2021,year_2022)\n",
    "print(\"the highest year is 2022,the value is :\",max(year_2020,year_2021,year_2022))\n",
    "print(\"the lowest year is 2020,the value is :\",min(year_2020,year_2021,year_2022))"
   ]
  },
  {
   "cell_type": "markdown",
   "metadata": {},
   "source": [
    "<font color=steel size=5 face=雅黑>Question#4. for each experience level, compute the average salary (over 3 years) for each job title?</font>"
   ]
  },
  {
   "cell_type": "code",
   "execution_count": 676,
   "metadata": {},
   "outputs": [
    {
     "name": "stdout",
     "output_type": "stream",
     "text": [
      "{('Data Scientist', 'MI'): 82039.13333333333, ('Data Scientist', 'SE'): 152971.0163934426, ('Data Scientist', 'EN'): 55330.90909090909, ('Data Scientist', 'EX'): nan, ('Machine Learning Scientist', 'MI'): 109325.0, ('Machine Learning Scientist', 'SE'): 201666.66666666666, ('Machine Learning Scientist', 'EN'): 225000.0, ('Machine Learning Scientist', 'EX'): nan, ('Big Data Engineer', 'MI'): 33537.0, ('Big Data Engineer', 'SE'): 111535.5, ('Big Data Engineer', 'EN'): 30703.333333333332, ('Big Data Engineer', 'EX'): nan, ('Product Data Analyst', 'MI'): 13036.0, ('Product Data Analyst', 'SE'): nan, ('Product Data Analyst', 'EN'): nan, ('Product Data Analyst', 'EX'): nan, ('Machine Learning Engineer', 'MI'): 74466.58333333333, ('Machine Learning Engineer', 'SE'): 131176.0, ('Machine Learning Engineer', 'EN'): 86996.33333333333, ('Machine Learning Engineer', 'EX'): nan, ('Data Analyst', 'MI'): 71699.20689655172, ('Data Analyst', 'SE'): 111922.62962962964, ('Data Analyst', 'EN'): 53960.666666666664, ('Data Analyst', 'EX'): 120000.0, ('Lead Data Scientist', 'MI'): 115000.0, ('Lead Data Scientist', 'SE'): 115285.0, ('Lead Data Scientist', 'EN'): nan, ('Lead Data Scientist', 'EX'): nan, ('Business Data Analyst', 'MI'): 74784.66666666667, ('Business Data Analyst', 'SE'): nan, ('Business Data Analyst', 'EN'): 79551.0, ('Business Data Analyst', 'EX'): nan, ('Lead Data Engineer', 'MI'): 56000.0, ('Lead Data Engineer', 'SE'): 166040.0, ('Lead Data Engineer', 'EN'): nan, ('Lead Data Engineer', 'EX'): 118187.0, ('Lead Data Analyst', 'MI'): 53304.5, ('Lead Data Analyst', 'SE'): 170000.0, ('Lead Data Analyst', 'EN'): nan, ('Lead Data Analyst', 'EX'): nan, ('Data Engineer', 'MI'): 85985.6603773585, ('Data Engineer', 'SE'): 137035.84126984127, ('Data Engineer', 'EN'): 58933.5, ('Data Engineer', 'EX'): 245500.0, ('Data Science Consultant', 'MI'): 103000.0, ('Data Science Consultant', 'SE'): nan, ('Data Science Consultant', 'EN'): 62640.8, ('Data Science Consultant', 'EX'): 69741.0, ('BI Data Analyst', 'MI'): 78086.33333333333, ('BI Data Analyst', 'SE'): nan, ('BI Data Analyst', 'EN'): 32136.0, ('BI Data Analyst', 'EX'): 150000.0, ('Director of Data Science', 'MI'): nan, ('Director of Data Science', 'SE'): 168000.0, ('Director of Data Science', 'EN'): nan, ('Director of Data Science', 'EX'): 199586.33333333334, ('Research Scientist', 'MI'): 136498.14285714287, ('Research Scientist', 'SE'): 88859.4, ('Research Scientist', 'EN'): 86132.0, ('Research Scientist', 'EX'): nan, ('Machine Learning Manager', 'MI'): nan, ('Machine Learning Manager', 'SE'): 117104.0, ('Machine Learning Manager', 'EN'): nan, ('Machine Learning Manager', 'EX'): nan, ('Data Engineering Manager', 'MI'): 59303.0, ('Data Engineering Manager', 'SE'): 159000.0, ('Data Engineering Manager', 'EN'): nan, ('Data Engineering Manager', 'EX'): 79833.0, ('Machine Learning Infrastructure Engineer', 'MI'): 54217.5, ('Machine Learning Infrastructure Engineer', 'SE'): 195000.0, ('Machine Learning Infrastructure Engineer', 'EN'): nan, ('Machine Learning Infrastructure Engineer', 'EX'): nan, ('ML Engineer', 'MI'): 137025.0, ('ML Engineer', 'SE'): 256000.0, ('ML Engineer', 'EN'): 18974.5, ('ML Engineer', 'EX'): nan, ('AI Scientist', 'MI'): 160000.0, ('AI Scientist', 'SE'): 55000.0, ('AI Scientist', 'EN'): 21987.25, ('AI Scientist', 'EX'): nan, ('Computer Vision Engineer', 'MI'): nan, ('Computer Vision Engineer', 'SE'): 34302.333333333336, ('Computer Vision Engineer', 'EN'): 54536.333333333336, ('Computer Vision Engineer', 'EX'): nan, ('Principal Data Scientist', 'MI'): 151000.0, ('Principal Data Scientist', 'SE'): 187939.4, ('Principal Data Scientist', 'EN'): nan, ('Principal Data Scientist', 'EX'): 416000.0, ('Data Science Manager', 'MI'): 200000.0, ('Data Science Manager', 'SE'): 149994.2, ('Data Science Manager', 'EN'): nan, ('Data Science Manager', 'EX'): nan, ('Head of Data', 'MI'): 32974.0, ('Head of Data', 'SE'): 151419.5, ('Head of Data', 'EN'): nan, ('Head of Data', 'EX'): 232500.0, ('3D Computer Vision Researcher', 'MI'): 5409.0, ('3D Computer Vision Researcher', 'SE'): nan, ('3D Computer Vision Researcher', 'EN'): nan, ('3D Computer Vision Researcher', 'EX'): nan, ('Data Analytics Engineer', 'MI'): 110000.0, ('Data Analytics Engineer', 'SE'): 64598.5, ('Data Analytics Engineer', 'EN'): 20000.0, ('Data Analytics Engineer', 'EX'): nan, ('Applied Data Scientist', 'MI'): 105619.0, ('Applied Data Scientist', 'SE'): 278500.0, ('Applied Data Scientist', 'EN'): 110037.0, ('Applied Data Scientist', 'EX'): nan, ('Marketing Data Analyst', 'MI'): nan, ('Marketing Data Analyst', 'SE'): 88654.0, ('Marketing Data Analyst', 'EN'): nan, ('Marketing Data Analyst', 'EX'): nan, ('Cloud Data Engineer', 'MI'): 89294.0, ('Cloud Data Engineer', 'SE'): 160000.0, ('Cloud Data Engineer', 'EN'): nan, ('Cloud Data Engineer', 'EX'): nan, ('Financial Data Analyst', 'MI'): 450000.0, ('Financial Data Analyst', 'SE'): nan, ('Financial Data Analyst', 'EN'): 100000.0, ('Financial Data Analyst', 'EX'): nan, ('Computer Vision Software Engineer', 'MI'): 95746.0, ('Computer Vision Software Engineer', 'SE'): nan, ('Computer Vision Software Engineer', 'EN'): 110000.0, ('Computer Vision Software Engineer', 'EX'): nan, ('Director of Data Engineering', 'MI'): nan, ('Director of Data Engineering', 'SE'): 156738.0, ('Director of Data Engineering', 'EN'): nan, ('Director of Data Engineering', 'EX'): nan, ('Data Science Engineer', 'MI'): 40189.0, ('Data Science Engineer', 'SE'): 93610.5, ('Data Science Engineer', 'EN'): nan, ('Data Science Engineer', 'EX'): nan, ('Principal Data Engineer', 'MI'): nan, ('Principal Data Engineer', 'SE'): 192500.0, ('Principal Data Engineer', 'EN'): nan, ('Principal Data Engineer', 'EX'): 600000.0, ('Machine Learning Developer', 'MI'): 78791.0, ('Machine Learning Developer', 'SE'): 78791.0, ('Machine Learning Developer', 'EN'): 100000.0, ('Machine Learning Developer', 'EX'): nan, ('Applied Machine Learning Scientist', 'MI'): 178800.0, ('Applied Machine Learning Scientist', 'SE'): nan, ('Applied Machine Learning Scientist', 'EN'): 31875.0, ('Applied Machine Learning Scientist', 'EX'): nan, ('Data Analytics Manager', 'MI'): nan, ('Data Analytics Manager', 'SE'): 127134.28571428571, ('Data Analytics Manager', 'EN'): nan, ('Data Analytics Manager', 'EX'): nan, ('Head of Data Science', 'MI'): 110000.0, ('Head of Data Science', 'SE'): nan, ('Head of Data Science', 'EN'): nan, ('Head of Data Science', 'EX'): 158958.33333333334, ('Data Specialist', 'MI'): nan, ('Data Specialist', 'SE'): 165000.0, ('Data Specialist', 'EN'): nan, ('Data Specialist', 'EX'): nan, ('Data Architect', 'MI'): 166666.66666666666, ('Data Architect', 'SE'): 182076.625, ('Data Architect', 'EN'): nan, ('Data Architect', 'EX'): nan, ('Finance Data Analyst', 'MI'): nan, ('Finance Data Analyst', 'SE'): 61896.0, ('Finance Data Analyst', 'EN'): nan, ('Finance Data Analyst', 'EX'): nan, ('Principal Data Analyst', 'MI'): 75000.0, ('Principal Data Analyst', 'SE'): 170000.0, ('Principal Data Analyst', 'EN'): nan, ('Principal Data Analyst', 'EX'): nan, ('Big Data Architect', 'MI'): nan, ('Big Data Architect', 'SE'): 99703.0, ('Big Data Architect', 'EN'): nan, ('Big Data Architect', 'EX'): nan, ('Staff Data Scientist', 'MI'): nan, ('Staff Data Scientist', 'SE'): 105000.0, ('Staff Data Scientist', 'EN'): nan, ('Staff Data Scientist', 'EX'): nan, ('Analytics Engineer', 'MI'): nan, ('Analytics Engineer', 'SE'): 195000.0, ('Analytics Engineer', 'EN'): nan, ('Analytics Engineer', 'EX'): 155000.0, ('ETL Developer', 'MI'): 54957.0, ('ETL Developer', 'SE'): nan, ('ETL Developer', 'EN'): nan, ('ETL Developer', 'EX'): nan, ('Head of Machine Learning', 'MI'): nan, ('Head of Machine Learning', 'SE'): nan, ('Head of Machine Learning', 'EN'): nan, ('Head of Machine Learning', 'EX'): 79039.0, ('NLP Engineer', 'MI'): 37236.0, ('NLP Engineer', 'SE'): nan, ('NLP Engineer', 'EN'): nan, ('NLP Engineer', 'EX'): nan, ('Lead Machine Learning Engineer', 'MI'): nan, ('Lead Machine Learning Engineer', 'SE'): 87932.0, ('Lead Machine Learning Engineer', 'EN'): nan, ('Lead Machine Learning Engineer', 'EX'): nan, ('Data Analytics Lead', 'MI'): nan, ('Data Analytics Lead', 'SE'): 405000.0, ('Data Analytics Lead', 'EN'): nan, ('Data Analytics Lead', 'EX'): nan}\n"
     ]
    }
   ],
   "source": [
    "job_title=df[\"job_title\"].unique()\n",
    "exp_level=df[\"experience_level\"].unique()\n",
    "#print(exp_level)\n",
    "jb_exp_salary={}\n",
    "for i in job_title:\n",
    "    for j in exp_level:\n",
    "        tuple_tamp=(i,j)\n",
    "        jb_exp_salary[tuple_tamp]=df.loc[(df[\"job_title\"]==i) & (df[\"experience_level\"]==j),:][\"salary_in_usd\"].mean()\n",
    "        #print(df.loc[(df[\"job_title\"]==i),:][\"salary_in_usd\"].sum())\n",
    "print(jb_exp_salary)"
   ]
  },
  {
   "cell_type": "markdown",
   "metadata": {},
   "source": [
    "<font color=steel size=5 face=雅黑>Question#5. For which job title was it the minimum and maximum?</font>"
   ]
  },
  {
   "cell_type": "code",
   "execution_count": 677,
   "metadata": {},
   "outputs": [
    {
     "name": "stdout",
     "output_type": "stream",
     "text": [
      "the maximun salary job title is: Data Analytics Lead 405000.0\n",
      "the minimun salary job title is: 3D Computer Vision Researcher 5409.0\n"
     ]
    }
   ],
   "source": [
    "jb_salary_avg={}\n",
    "job_title_max_value=job_title_min_value=df[\"salary_in_usd\"].mean()\n",
    "job_title_max=job_title_min=\"\"\n",
    "for i in job_title:\n",
    "    jb_salary_avg[i]=df.loc[(df[\"job_title\"]==i) ,:][\"salary_in_usd\"].mean()\n",
    "    if job_title_max_value < df.loc[(df[\"job_title\"]==i) ,:][\"salary_in_usd\"].mean():\n",
    "        job_title_max = i\n",
    "        job_title_max_value = df.loc[(df[\"job_title\"]==i) ,:][\"salary_in_usd\"].mean()\n",
    "    elif job_title_min_value > df.loc[(df[\"job_title\"]==i) ,:][\"salary_in_usd\"].mean():\n",
    "        job_title_min = i\n",
    "        job_title_min_value = df.loc[(df[\"job_title\"]==i) ,:][\"salary_in_usd\"].mean()\n",
    "print(\"the maximun salary job title is:\",job_title_max,job_title_max_value,)\n",
    "print(\"the minimun salary job title is:\",job_title_min,job_title_min_value)"
   ]
  },
  {
   "cell_type": "markdown",
   "metadata": {},
   "source": [
    "<font color=steel size=5 face=雅黑>Question#6. for each year and job title compute the annual salary?</font>"
   ]
  },
  {
   "cell_type": "code",
   "execution_count": 678,
   "metadata": {},
   "outputs": [
    {
     "name": "stdout",
     "output_type": "stream",
     "text": [
      "{(2020, 'Data Scientist'): 1805381, (2020, 'Machine Learning Scientist'): 260000, (2020, 'Big Data Engineer'): 293071, (2020, 'Product Data Analyst'): 26072, (2020, 'Machine Learning Engineer'): 626949, (2020, 'Data Analyst'): 318831, (2020, 'Lead Data Scientist'): 305000, (2020, 'Business Data Analyst'): 235000, (2020, 'Lead Data Engineer'): 181000, (2020, 'Lead Data Analyst'): 87000, (2020, 'Data Engineer'): 969782, (2020, 'Data Science Consultant'): 108707, (2020, 'BI Data Analyst'): 98000, (2020, 'Director of Data Science'): 325000, (2020, 'Research Scientist'): 492000, (2020, 'Machine Learning Manager'): 117104, (2020, 'Data Engineering Manager'): 139136, (2020, 'Machine Learning Infrastructure Engineer'): 50180, (2020, 'ML Engineer'): 15966, (2020, 'AI Scientist'): 45896, (2020, 'Computer Vision Engineer'): 60000, (2020, 'Principal Data Scientist'): 148261, (2020, 'Data Science Manager'): 190200, (2020, 'Head of Data'): 0, (2020, '3D Computer Vision Researcher'): 0, (2020, 'Data Analytics Engineer'): 0, (2020, 'Applied Data Scientist'): 0, (2020, 'Marketing Data Analyst'): 0, (2020, 'Cloud Data Engineer'): 0, (2020, 'Financial Data Analyst'): 0, (2020, 'Computer Vision Software Engineer'): 0, (2020, 'Director of Data Engineering'): 0, (2020, 'Data Science Engineer'): 0, (2020, 'Principal Data Engineer'): 0, (2020, 'Machine Learning Developer'): 0, (2020, 'Applied Machine Learning Scientist'): 0, (2020, 'Data Analytics Manager'): 0, (2020, 'Head of Data Science'): 0, (2020, 'Data Specialist'): 0, (2020, 'Data Architect'): 0, (2020, 'Finance Data Analyst'): 0, (2020, 'Principal Data Analyst'): 0, (2020, 'Big Data Architect'): 0, (2020, 'Staff Data Scientist'): 0, (2020, 'Analytics Engineer'): 0, (2020, 'ETL Developer'): 0, (2020, 'Head of Machine Learning'): 0, (2020, 'NLP Engineer'): 0, (2020, 'Lead Machine Learning Engineer'): 0, (2020, 'Data Analytics Lead'): 0, (2021, 'Data Scientist'): 3180228, (2021, 'Machine Learning Scientist'): 582000, (2021, 'Big Data Engineer'): 122721, (2021, 'Product Data Analyst'): 0, (2021, 'Machine Learning Engineer'): 1343002, (2021, 'Data Analyst'): 1351592, (2021, 'Lead Data Scientist'): 40570, (2021, 'Business Data Analyst'): 59102, (2021, 'Lead Data Engineer'): 539160, (2021, 'Lead Data Analyst'): 189609, (2021, 'Data Engineer'): 2662481, (2021, 'Data Science Consultant'): 377238, (2021, 'BI Data Analyst'): 350531, (2021, 'Director of Data Science'): 843539, (2021, 'Research Scientist'): 830036, (2021, 'Machine Learning Manager'): 0, (2021, 'Data Engineering Manager'): 477000, (2021, 'Machine Learning Infrastructure Engineer'): 195000, (2021, 'ML Engineer'): 667075, (2021, 'AI Scientist'): 97053, (2021, 'Computer Vision Engineer'): 71516, (2021, 'Principal Data Scientist'): 1195762, (2021, 'Data Science Manager'): 858759, (2021, 'Head of Data'): 567839, (2021, '3D Computer Vision Researcher'): 5409, (2021, 'Data Analytics Engineer'): 239197, (2021, 'Applied Data Scientist'): 164275, (2021, 'Marketing Data Analyst'): 88654, (2021, 'Cloud Data Engineer'): 249294, (2021, 'Financial Data Analyst'): 450000, (2021, 'Computer Vision Software Engineer'): 165746, (2021, 'Director of Data Engineering'): 313476, (2021, 'Data Science Engineer'): 167410, (2021, 'Principal Data Engineer'): 985000, (2021, 'Machine Learning Developer'): 100000, (2021, 'Applied Machine Learning Scientist'): 461400, (2021, 'Data Analytics Manager'): 380000, (2021, 'Head of Data Science'): 195000, (2021, 'Data Specialist'): 165000, (2021, 'Data Architect'): 500000, (2021, 'Finance Data Analyst'): 61896, (2021, 'Principal Data Analyst'): 170000, (2021, 'Big Data Architect'): 99703, (2021, 'Staff Data Scientist'): 105000, (2021, 'Analytics Engineer'): 0, (2021, 'ETL Developer'): 0, (2021, 'Head of Machine Learning'): 0, (2021, 'NLP Engineer'): 0, (2021, 'Lead Machine Learning Engineer'): 0, (2021, 'Data Analytics Lead'): 0, (2022, 'Data Scientist'): 10485251, (2022, 'Machine Learning Scientist'): 425300, (2022, 'Big Data Engineer'): 0, (2022, 'Product Data Analyst'): 0, (2022, 'Machine Learning Engineer'): 2330135, (2022, 'Data Analyst'): 7340204, (2022, 'Lead Data Scientist'): 0, (2022, 'Business Data Analyst'): 89354, (2022, 'Lead Data Engineer'): 118187, (2022, 'Lead Data Analyst'): 0, (2022, 'Data Engineer'): 11247437, (2022, 'Data Science Consultant'): 0, (2022, 'BI Data Analyst'): 0, (2022, 'Director of Data Science'): 196979, (2022, 'Research Scientist'): 422276, (2022, 'Machine Learning Manager'): 0, (2022, 'Data Engineering Manager'): 0, (2022, 'Machine Learning Infrastructure Engineer'): 58255, (2022, 'ML Engineer'): 21983, (2022, 'AI Scientist'): 320000, (2022, 'Computer Vision Engineer'): 135000, (2022, 'Principal Data Scientist'): 162674, (2022, 'Data Science Manager'): 850983, (2022, 'Head of Data'): 232974, (2022, '3D Computer Vision Researcher'): 0, (2022, 'Data Analytics Engineer'): 20000, (2022, 'Applied Data Scientist'): 714000, (2022, 'Marketing Data Analyst'): 0, (2022, 'Cloud Data Engineer'): 0, (2022, 'Financial Data Analyst'): 100000, (2022, 'Computer Vision Software Engineer'): 150000, (2022, 'Director of Data Engineering'): 0, (2022, 'Data Science Engineer'): 60000, (2022, 'Principal Data Engineer'): 0, (2022, 'Machine Learning Developer'): 157582, (2022, 'Applied Machine Learning Scientist'): 106875, (2022, 'Data Analytics Manager'): 509940, (2022, 'Head of Data Science'): 391875, (2022, 'Data Specialist'): 0, (2022, 'Data Architect'): 1456613, (2022, 'Finance Data Analyst'): 0, (2022, 'Principal Data Analyst'): 75000, (2022, 'Big Data Architect'): 0, (2022, 'Staff Data Scientist'): 0, (2022, 'Analytics Engineer'): 700000, (2022, 'ETL Developer'): 109914, (2022, 'Head of Machine Learning'): 79039, (2022, 'NLP Engineer'): 37236, (2022, 'Lead Machine Learning Engineer'): 87932, (2022, 'Data Analytics Lead'): 405000}\n"
     ]
    }
   ],
   "source": [
    "jb_annual_salary={}\n",
    "for i in work_year:\n",
    "    for j in job_title:\n",
    "        tuple_tamp=(i,j)\n",
    "        jb_annual_salary[tuple_tamp]=df.loc[(df[\"job_title\"]==j) & (df[\"work_year\"]==i),:][\"salary_in_usd\"].sum()      \n",
    "print(jb_annual_salary)\n"
   ]
  },
  {
   "cell_type": "markdown",
   "metadata": {},
   "source": [
    "<font color=steel size=5 face=雅黑>Question#7. which job title experienced the maximum change in salary? Which job title had the minimum change.</font>"
   ]
  },
  {
   "cell_type": "code",
   "execution_count": 679,
   "metadata": {},
   "outputs": [
    {
     "name": "stdout",
     "output_type": "stream",
     "text": [
      "dict_values([409141, 248000, 108165, 13928, 230000, 193928, 149430, 116558, 220000, 150391, 320000, 97293, 140728, 194974, 408000, 0, 114697, 144820, 254034, 188000, 115000, 267739, 186906, 202026, 0, 90000, 325762, 0, 70706, 350000, 80000, 86524, 87032, 415000, 21209, 391125, 44860, 139000, 0, 175700, 0, 95000, 0, 0, 70300, 0, 0, 0, 0, 0])\n",
      "the maximun change job title is  Principal Data Engineer , the value is  415000\n",
      "the minimun change jon title is  Product Data Analyst , the value is  13928\n"
     ]
    }
   ],
   "source": [
    "jb_salary_gap={}\n",
    "for i in job_title:\n",
    "    jb_salary_gap[i]=df.loc[(df[\"job_title\"]==i), : ][\"salary_in_usd\"].max() - df.loc[(df[\"job_title\"]==i), : ][\"salary_in_usd\"].min()\n",
    "\n",
    "print(jb_salary_gap.values())\n",
    "jb_salary_gap_max=jb_salary_gap_min=\"\"\n",
    "jb_salary_gap_max_val=jb_salary_gap_min_val=188000\n",
    "for i in job_title:      \n",
    "    if jb_salary_gap_max_val < jb_salary_gap[i]:\n",
    "        jb_salary_gap_max_val = jb_salary_gap[i]\n",
    "        jb_salary_gap_max = i\n",
    "    elif jb_salary_gap_min_val > jb_salary_gap[i] & jb_salary_gap[i]!= 0 :\n",
    "        jb_salary_gap_min_val = jb_salary_gap[i]\n",
    "        jb_salary_gap_min = i\n",
    "print(\"the maximun change job title is \",jb_salary_gap_max,\", the value is \",jb_salary_gap_max_val)\n",
    "print(\"the minimun change jon title is \",jb_salary_gap_min,\", the value is \",jb_salary_gap_min_val)\n"
   ]
  },
  {
   "cell_type": "markdown",
   "metadata": {},
   "source": [
    "<font color=steel size=5 face=雅黑>Question#8. compute the average salaries for each remote ratio? how many entries are there?</font>"
   ]
  },
  {
   "cell_type": "code",
   "execution_count": 680,
   "metadata": {},
   "outputs": [
    {
     "name": "stdout",
     "output_type": "stream",
     "text": [
      "[  0  50 100]\n",
      "{0: 106354.62204724409, 50: 80823.0303030303, 100: 122457.45406824147}\n"
     ]
    }
   ],
   "source": [
    "\n",
    "remote_ratio=df[\"remote_ratio\"].unique()\n",
    "rr_avg_dict={}\n",
    "print(remote_ratio)\n",
    "for i in remote_ratio:\n",
    "    rr_avg_dict[i]=df.loc[(df[\"remote_ratio\"]==i) ,:][\"salary_in_usd\"].mean()\n",
    "print(rr_avg_dict)"
   ]
  },
  {
   "cell_type": "markdown",
   "metadata": {},
   "source": [
    "<font color=steel size=5 face=雅黑>Question#9. which company locations pay the highest salary and lowest salaries.</font>"
   ]
  },
  {
   "cell_type": "code",
   "execution_count": 681,
   "metadata": {},
   "outputs": [
    {
     "name": "stdout",
     "output_type": "stream",
     "text": [
      "['DE' 'JP' 'GB' 'HN' 'US' 'HU' 'NZ' 'FR' 'IN' 'PK' 'PL' 'PT' 'CN' 'GR'\n",
      " 'AE' 'NL' 'MX' 'CA' 'AT' 'NG' 'PH' 'ES' 'DK' 'RU' 'IT' 'HR' 'BG' 'SG'\n",
      " 'BR' 'IQ' 'VN' 'BE' 'UA' 'MT' 'CL' 'RO' 'IR' 'CO' 'MD' 'KE' 'SI' 'HK'\n",
      " 'TR' 'RS' 'PR' 'LU' 'JE' 'CZ' 'AR' 'DZ' 'TN' 'MY' 'EE' 'AU' 'BO' 'IE'\n",
      " 'CH']\n",
      "the lowest place is  IR , value is  4000.0\n",
      "the lowest place is  MY , value is  200000.0\n"
     ]
    }
   ],
   "source": [
    "location_salary=0\n",
    "\n",
    "employee_residence=df[\"employee_residence\"].unique()\n",
    "employee_residence_dict={}\n",
    "print(employee_residence)\n",
    "for i in employee_residence:\n",
    "    employee_residence_dict[i]=df.loc[(df[\"employee_residence\"]==i), : ][\"salary_in_usd\"].mean()\n",
    "#print(employee_residence_dict)\n",
    "employee_residence_min=employee_residence_max=\"\"\n",
    "employee_residence_min_val=employee_residence_max_val=76738.66666666667\n",
    "\n",
    "for i in employee_residence:\n",
    "    if employee_residence_min_val > employee_residence_dict[i] :\n",
    "        employee_residence_min_val=employee_residence_dict[i]\n",
    "        employee_residence_min = i\n",
    "    elif employee_residence_max_val <  employee_residence_dict[i]:\n",
    "        employee_residence_max_val=employee_residence_dict[i]\n",
    "        employee_residence_max = i\n",
    "print(\"the lowest place is \",employee_residence_min,\", value is \",employee_residence_min_val)\n",
    "print(\"the lowest place is \",employee_residence_max,\", value is \",employee_residence_max_val)\n"
   ]
  },
  {
   "cell_type": "markdown",
   "metadata": {},
   "source": [
    "<font color=steel size=5 face=雅黑>Question#10. Would you change your resume after analyzing this dataset?</font>\n",
    "<font color=gray size=4 face=雅黑>his data does give me a new understanding of the salary of CS majors, but I do not intend to change my resume. One of the big reasons is that I'm already hiring, with my existing knowledge base. Not enough for other jobs.</font>"
   ]
  }
 ],
 "metadata": {
  "kernelspec": {
   "display_name": "Python 3 (ipykernel)",
   "language": "python",
   "name": "python3"
  },
  "language_info": {
   "codemirror_mode": {
    "name": "ipython",
    "version": 3
   },
   "file_extension": ".py",
   "mimetype": "text/x-python",
   "name": "python",
   "nbconvert_exporter": "python",
   "pygments_lexer": "ipython3",
   "version": "3.10.0"
  },
  "vscode": {
   "interpreter": {
    "hash": "aee8b7b246df8f9039afb4144a1f6fd8d2ca17a180786b69acc140d282b71a49"
   }
  }
 },
 "nbformat": 4,
 "nbformat_minor": 2
}
