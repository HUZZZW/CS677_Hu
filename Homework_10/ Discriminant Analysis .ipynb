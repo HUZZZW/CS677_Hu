{
 "cells": [
  {
   "cell_type": "code",
   "execution_count": 73,
   "metadata": {},
   "outputs": [],
   "source": [
    "import pandas as pd\n",
    "import numpy as np\n",
    "import sklearn\n",
    "import matplotlib.pyplot as plt\n",
    "from sklearn.model_selection \\\n",
    "import train_test_split\n",
    "import seaborn as sns\n",
    "from sklearn.naive_bayes import GaussianNB\n",
    "from sklearn.linear_model import LogisticRegression\n",
    "from sklearn.preprocessing import StandardScaler , LabelEncoder\n",
    "from sklearn.neighbors import KNeighborsClassifier\n",
    "from sklearn.metrics import accuracy_score\n",
    "from sklearn.metrics import confusion_matrix\n",
    "from sklearn.preprocessing import StandardScaler\n"
   ]
  },
  {
   "cell_type": "code",
   "execution_count": 74,
   "metadata": {},
   "outputs": [
    {
     "name": "stdout",
     "output_type": "stream",
     "text": [
      "0.16981132075471697\n"
     ]
    }
   ],
   "source": [
    "from sklearn.discriminant_analysis import LinearDiscriminantAnalysis as LDA\n",
    "\n",
    "df=pd.read_csv(\"NVDA_weekly_return_volatility.csv\")\n",
    "year=df['Year'].unique()\n",
    "Q1_label=[]\n",
    "yearly_mean=df.groupby('Year')['mean_return'].mean().values\n",
    "for i in range(len(year)):\n",
    "    for j in range(len(df)):\n",
    "        if df['Year'][j]==year[i] and df[\"mean_return\"][j]>yearly_mean[i]:\n",
    "            Q1_label.append('green')\n",
    "        elif df['Year'][j]==year[i]:\n",
    "            Q1_label.append('red')\n",
    "df['label']=Q1_label\n",
    "Q1_X=df[df[\"Year\"]==2017][[\"mean_return\",\"volatility\"]]\n",
    "Q1_y=df[df[\"Year\"]==2017][\"label\"]\n",
    "Q2_X=df.loc[df[\"Year\"]==2018][[\"mean_return\",\"volatility\"]]\n",
    "Q2_y=df.loc[df[\"Year\"]==2018][\"label\"]\n",
    "lda_classifier = LDA().fit(Q1_X, Q1_y)\n",
    "lda_prediction = lda_classifier.predict(Q2_X) \n",
    "lda_error_rate = np.mean(lda_prediction != Q2_y)\n",
    "print(lda_error_rate)\n"
   ]
  },
  {
   "cell_type": "code",
   "execution_count": 75,
   "metadata": {},
   "outputs": [
    {
     "name": "stdout",
     "output_type": "stream",
     "text": [
      "0.1320754716981132\n"
     ]
    }
   ],
   "source": [
    "from sklearn.discriminant_analysis import QuadraticDiscriminantAnalysis as QDA\n",
    "qda_classifier = QDA().fit(Q1_X, Q1_y)\n",
    "qda_prediction = qda_classifier.predict(Q2_X) \n",
    "qda_error_rate = np.mean(qda_prediction != Q2_y)\n",
    "print(qda_error_rate)"
   ]
  },
  {
   "cell_type": "markdown",
   "metadata": {},
   "source": [
    "1. what is the equation for linear and quadratic classifier found from year 1 data?"
   ]
  },
  {
   "cell_type": "code",
   "execution_count": 76,
   "metadata": {},
   "outputs": [
    {
     "name": "stdout",
     "output_type": "stream",
     "text": [
      "for linear coef and intercept [[-10.62650115   1.00391457]] [1.40608655]\n",
      "so for linear the function is y=-10.63x^2+1.0039x+1.406\n",
      "for Quadratic classifier, we can't get the corf_ and intercet\n"
     ]
    }
   ],
   "source": [
    "print(\"for linear coef and intercept\",lda_classifier.coef_,lda_classifier.intercept_)\n",
    "print(\"so for linear the function is y=-10.63x^2+1.0039x+1.406\")\n",
    "\n",
    "print(\"for Quadratic classifier, we can't get the corf_ and intercet\")"
   ]
  },
  {
   "cell_type": "markdown",
   "metadata": {},
   "source": [
    "2. what is the accuracy for year 2 for each classifier. Which classifier is ”better”?\n"
   ]
  },
  {
   "cell_type": "code",
   "execution_count": 77,
   "metadata": {},
   "outputs": [
    {
     "name": "stdout",
     "output_type": "stream",
     "text": [
      "the year2 accuracy for lda is 0.8301886792452831\n",
      "the year2 accuracy for qda is 0.8679245283018868\n"
     ]
    }
   ],
   "source": [
    "\n",
    "print(\"the year2 accuracy for lda is\",accuracy_score(Q2_y, lda_classifier.predict(Q2_X)))\n",
    "print(\"the year2 accuracy for qda is\",accuracy_score(Q2_y, qda_classifier.predict(Q2_X)))"
   ]
  },
  {
   "cell_type": "markdown",
   "metadata": {},
   "source": [
    "3. compute the confusion matrix for year 2 for each classifier"
   ]
  },
  {
   "cell_type": "code",
   "execution_count": 78,
   "metadata": {},
   "outputs": [
    {
     "name": "stdout",
     "output_type": "stream",
     "text": [
      "the confusion matrix for lda is\n",
      " [[20  9]\n",
      " [ 0 24]]\n",
      "the confusion matrix for qda is\n",
      " [[22  7]\n",
      " [ 0 24]]\n"
     ]
    }
   ],
   "source": [
    "lda= confusion_matrix(Q2_y, lda_classifier.predict(Q2_X))\n",
    "qda= confusion_matrix(Q2_y, qda_classifier.predict(Q2_X))\n",
    "print('the confusion matrix for lda is\\n',lda)\n",
    "print('the confusion matrix for qda is\\n',qda)"
   ]
  },
  {
   "cell_type": "markdown",
   "metadata": {},
   "source": [
    "4. what is true positive rate (sensitivity or recall) and true negative rate (specificity) for year 2?"
   ]
  },
  {
   "cell_type": "code",
   "execution_count": 79,
   "metadata": {},
   "outputs": [
    {
     "name": "stdout",
     "output_type": "stream",
     "text": [
      "true positive rate 1.0\n",
      "true negative rate 0.6896551724137931\n",
      "true positive rate 1.0\n",
      "true negative rate 0.7586206896551724\n"
     ]
    }
   ],
   "source": [
    "Q4_TN, Q4_FP, Q4_FN, Q4_TP = confusion_matrix(Q2_y, lda_classifier.predict(Q2_X)).ravel()\n",
    "Q4_TPR=Q4_TP/(Q4_TP+Q4_FN)\n",
    "Q4_TNR=Q4_TN/(Q4_TN+Q4_FP)\n",
    "print('true positive rate for LDA',Q4_TPR)\n",
    "print('true negative rate for LDA',Q4_TNR)\n",
    "Q4_TN, Q4_FP, Q4_FN, Q4_TP = confusion_matrix(Q2_y, qda_classifier.predict(Q2_X)).ravel()\n",
    "Q4_TPR=Q4_TP/(Q4_TP+Q4_FN)\n",
    "Q4_TNR=Q4_TN/(Q4_TN+Q4_FP)\n",
    "print('true positive rate for QDA',Q4_TPR)\n",
    "print('true negative rate for QDA',Q4_TNR)"
   ]
  },
  {
   "cell_type": "markdown",
   "metadata": {},
   "source": [
    "5. implement trading strategyies based on your labels for year 2 (for both linear and quadratic) and compare the perfor- mance with the ”buy-and-hold” strategy. Which strategy results in a larger amount at the end of the year?"
   ]
  },
  {
   "cell_type": "code",
   "execution_count": null,
   "metadata": {},
   "outputs": [],
   "source": [
    "#pop sort\n",
    "def popsort:\n",
    "    "
   ]
  }
 ],
 "metadata": {
  "kernelspec": {
   "display_name": "Python 3 (ipykernel)",
   "language": "python",
   "name": "python3"
  },
  "language_info": {
   "codemirror_mode": {
    "name": "ipython",
    "version": 3
   },
   "file_extension": ".py",
   "mimetype": "text/x-python",
   "name": "python",
   "nbconvert_exporter": "python",
   "pygments_lexer": "ipython3",
   "version": "3.10.0 (v3.10.0:b494f5935c, Oct  4 2021, 14:59:19) [Clang 12.0.5 (clang-1205.0.22.11)]"
  },
  "vscode": {
   "interpreter": {
    "hash": "aee8b7b246df8f9039afb4144a1f6fd8d2ca17a180786b69acc140d282b71a49"
   }
  }
 },
 "nbformat": 4,
 "nbformat_minor": 2
}
