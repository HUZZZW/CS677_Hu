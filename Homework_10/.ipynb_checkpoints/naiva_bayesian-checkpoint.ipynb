{
 "cells": [
  {
   "cell_type": "code",
   "execution_count": 18,
   "metadata": {},
   "outputs": [],
   "source": [
    "import pandas as pd\n",
    "import numpy as np\n",
    "import sklearn\n",
    "import matplotlib.pyplot as plt\n",
    "from sklearn.model_selection \\\n",
    "import train_test_split\n",
    "from sklearn.naive_bayes import GaussianNB\n",
    "import seaborn as sns\n",
    "from sklearn.linear_model import LogisticRegression\n",
    "from sklearn.preprocessing import StandardScaler , LabelEncoder\n",
    "from sklearn.neighbors import KNeighborsClassifier\n",
    "from sklearn.metrics import accuracy_score\n",
    "from sklearn.metrics import confusion_matrix\n"
   ]
  },
  {
   "cell_type": "code",
   "execution_count": 19,
   "metadata": {},
   "outputs": [
    {
     "name": "stdout",
     "output_type": "stream",
     "text": [
      "0.22641509433962265\n"
     ]
    }
   ],
   "source": [
    "df=pd.read_csv(\"NVDA_weekly_return_volatility.csv\")\n",
    "year=df['Year'].unique()\n",
    "Q1_label=[]\n",
    "yearly_mean=df.groupby('Year')['mean_return'].mean().values\n",
    "for i in range(len(year)):\n",
    "    for j in range(len(df)):\n",
    "        if df['Year'][j]==year[i] and df[\"mean_return\"][j]>yearly_mean[i]:\n",
    "            Q1_label.append('green')\n",
    "        elif df['Year'][j]==year[i]:\n",
    "            Q1_label.append('red')\n",
    "df['label']=Q1_label\n",
    "Q1_X=df[df[\"Year\"]==2017][[\"mean_return\",\"volatility\"]]\n",
    "Q1_y=df[df[\"Year\"]==2017][\"label\"]\n",
    "Q2_X=df.loc[df[\"Year\"]==2018][[\"mean_return\",\"volatility\"]]\n",
    "Q2_y=df.loc[df[\"Year\"]==2018][\"label\"]\n",
    "NB_classifier = GaussianNB().fit(Q1_X, Q1_y)\n",
    "prediction = NB_classifier.predict(Q2_X) \n",
    "error_rate = np.mean(prediction != Q2_y)\n",
    "print(error_rate)\n"
   ]
  },
  {
   "cell_type": "markdown",
   "metadata": {},
   "source": [
    "\n",
    "1. implement a Gaussian naive bayesian classifier and compute its accuracy for year 2"
   ]
  },
  {
   "cell_type": "code",
   "execution_count": 20,
   "metadata": {},
   "outputs": [
    {
     "name": "stdout",
     "output_type": "stream",
     "text": [
      "the year2 accuracy is 0.7735849056603774\n"
     ]
    }
   ],
   "source": [
    "print(\"the year2 accuracy is\",accuracy_score(Q2_y, NB_classifier.predict(Q2_X)))"
   ]
  },
  {
   "cell_type": "markdown",
   "metadata": {},
   "source": [
    "2. compute the confusion matrix for year 2"
   ]
  },
  {
   "cell_type": "code",
   "execution_count": 21,
   "metadata": {},
   "outputs": [
    {
     "name": "stdout",
     "output_type": "stream",
     "text": [
      "the confusion matrix is\n",
      " [[23  6]\n",
      " [ 6 18]]\n"
     ]
    }
   ],
   "source": [
    "a= confusion_matrix(Q2_y, NB_classifier.predict(Q2_X))\n",
    "print('the confusion matrix is\\n',a)"
   ]
  },
  {
   "cell_type": "markdown",
   "metadata": {},
   "source": [
    "3. what is true positive rate and true negative rate for year 2"
   ]
  },
  {
   "cell_type": "code",
   "execution_count": 22,
   "metadata": {},
   "outputs": [
    {
     "name": "stdout",
     "output_type": "stream",
     "text": [
      "true positive rate 0.75\n",
      "true negative rate 0.7931034482758621\n"
     ]
    }
   ],
   "source": [
    "Q4_TN, Q4_FP, Q4_FN, Q4_TP = confusion_matrix(Q2_y, NB_classifier.predict(Q2_X)).ravel()\n",
    "Q4_TPR=Q4_TP/(Q4_TP+Q4_FN)\n",
    "Q4_TNR=Q4_TN/(Q4_TN+Q4_FP)\n",
    "print('true positive rate',Q4_TPR)\n",
    "print('true negative rate',Q4_TNR)"
   ]
  },
  {
   "cell_type": "markdown",
   "metadata": {},
   "source": [
    "4. implement a trading strategy based on your labels for year 2 and compare the performance with the ”buy-and-hold” strategy. Which strategy results in a larger amount at the end of the year?"
   ]
  }
 ],
 "metadata": {
  "kernelspec": {
   "display_name": "Python 3 (ipykernel)",
   "language": "python",
   "name": "python3"
  },
  "language_info": {
   "codemirror_mode": {
    "name": "ipython",
    "version": 3
   },
   "file_extension": ".py",
   "mimetype": "text/x-python",
   "name": "python",
   "nbconvert_exporter": "python",
   "pygments_lexer": "ipython3",
   "version": "3.9.7"
  },
  "vscode": {
   "interpreter": {
    "hash": "cb9806c24c91b3e4d18e5f3e793847aaaf5646eebdcfa376b540720de17b3c80"
   }
  }
 },
 "nbformat": 4,
 "nbformat_minor": 2
}
